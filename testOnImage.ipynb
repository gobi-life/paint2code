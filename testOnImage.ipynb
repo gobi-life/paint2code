{
 "cells": [
  {
   "cell_type": "code",
   "execution_count": 109,
   "metadata": {},
   "outputs": [],
   "source": [
    "import torch\n",
    "from pathlib import Path\n",
    "from torchvision import transforms\n",
    "from utils import ids_to_tokens, img_transformation\n",
    "from modelArchitecture.modelCustomCNN import Encoder, Decoder\n",
    "from GUIconverter.GUIconverter import GUIconverter\n",
    "from IPython.display import display, HTML, Image\n",
    "from vocab import Vocab\n",
    "from PIL import Image"
   ]
  },
  {
   "cell_type": "code",
   "execution_count": 110,
   "metadata": {},
   "outputs": [
    {
     "data": {
      "text/plain": [
       "<All keys matched successfully>"
      ]
     },
     "execution_count": 110,
     "metadata": {},
     "output_type": "execute_result"
    }
   ],
   "source": [
    "# Configuration parameters\n",
    "model_file_path = \"./ED--epoch-85--loss-0.01651.pth\" \n",
    "img_crop_size = 224\n",
    "seed = 42\n",
    "\n",
    "# Load the saved model\n",
    "loaded_model = torch.load(model_file_path)\n",
    "vocab = loaded_model['vocab']\n",
    "\n",
    "embed_size = 64\n",
    "hidden_size = 256\n",
    "num_layers = 2\n",
    "\n",
    "encoder = Encoder(embed_size)\n",
    "decoder = Decoder(embed_size, hidden_size, len(vocab), num_layers)\n",
    "\n",
    "# Load model weights\n",
    "encoder.load_state_dict(loaded_model[\"encoder_model_state_dict\"])\n",
    "decoder.load_state_dict(loaded_model[\"decoder_model_state_dict\"])"
   ]
  },
  {
   "cell_type": "code",
   "execution_count": 111,
   "metadata": {},
   "outputs": [
    {
     "data": {
      "text/plain": [
       "Encoder(\n",
       "  (custom_cnn): CustomCNN(\n",
       "    (conv1): Conv2d(3, 16, kernel_size=(3, 3), stride=(1, 1), padding=(1, 1))\n",
       "    (conv2): Conv2d(16, 32, kernel_size=(3, 3), stride=(1, 1), padding=(1, 1))\n",
       "    (conv3): Conv2d(32, 64, kernel_size=(3, 3), stride=(1, 1), padding=(1, 1))\n",
       "    (pool): MaxPool2d(kernel_size=2, stride=2, padding=0, dilation=1, ceil_mode=False)\n",
       "    (dropout1): Dropout(p=0.15, inplace=False)\n",
       "    (dropout2): Dropout(p=0.25, inplace=False)\n",
       "    (dropout3): Dropout(p=0.35, inplace=False)\n",
       "    (activation): LeakyReLU(negative_slope=0.01)\n",
       "    (fc1): Linear(in_features=50176, out_features=512, bias=True)\n",
       "    (fc2): Linear(in_features=512, out_features=64, bias=True)\n",
       "  )\n",
       "  (BatchNorm): BatchNorm1d(64, eps=1e-05, momentum=0.05, affine=True, track_running_stats=True)\n",
       ")"
      ]
     },
     "execution_count": 111,
     "metadata": {},
     "output_type": "execute_result"
    }
   ],
   "source": [
    "encoder.eval()"
   ]
  },
  {
   "cell_type": "code",
   "execution_count": 112,
   "metadata": {},
   "outputs": [
    {
     "data": {
      "text/plain": [
       "Decoder(\n",
       "  (embed): Embedding(17, 64)\n",
       "  (lstm): LSTM(64, 256, num_layers=2, batch_first=True)\n",
       "  (linear): Linear(in_features=256, out_features=17, bias=True)\n",
       ")"
      ]
     },
     "execution_count": 112,
     "metadata": {},
     "output_type": "execute_result"
    }
   ],
   "source": [
    "decoder.eval()"
   ]
  },
  {
   "cell_type": "code",
   "execution_count": 113,
   "metadata": {},
   "outputs": [],
   "source": [
    "# Load the image\n",
    "image_path = './viewer2.png'  # Change to your image's path\n",
    "image = Image.open(image_path).convert('RGB')\n",
    "transform = img_transformation(img_crop_size)\n",
    "transformed_image = transform(image)"
   ]
  },
  {
   "cell_type": "code",
   "execution_count": 114,
   "metadata": {},
   "outputs": [],
   "source": [
    "# Model prediction\n",
    "features = encoder(transformed_image.unsqueeze(0))  # Unsqueeze to add batch dimension\n",
    "predicted_ids = decoder.sample(features).cpu().data.numpy()\n",
    "prediction = ids_to_tokens(vocab, predicted_ids)  # Assuming this function converts ids to tokens\n",
    "\n",
    "# Convert to HTML\n",
    "transpiler = GUIconverter(style='style3')\n",
    "predicted_html_string = transpiler.transpile(prediction, insert_random_text=True)"
   ]
  },
  {
   "cell_type": "code",
   "execution_count": 115,
   "metadata": {},
   "outputs": [],
   "source": [
    "def display_html_string(html_string):\n",
    "    page = HTML(html_string)\n",
    "    display(page)"
   ]
  },
  {
   "cell_type": "code",
   "execution_count": 116,
   "metadata": {},
   "outputs": [
    {
     "name": "stdout",
     "output_type": "stream",
     "text": [
      "<!DOCTYPE html>\n",
      "<html>\n",
      "  <head>\n",
      "    <meta charset=\"utf-8\">\n",
      "    <meta name=\"viewport\" content=\"width=device-width, initial-scale=1\">\n",
      "<link rel=\"stylesheet\" href=\"https://cdn.jsdelivr.net/npm/bootstrap@5.3.3/dist/css/bootstrap.min.css\" integrity=\"sha384-QWTKZyjpPEjISv5WaRU9OFeRpok6YctnYmDr5pNlyT2bRjXh0JMhjY6hW+ALEwIH\" crossorigin=\"anonymous\">\n",
      "<style>\n",
      ".body { background-color: #0597F2; }\n",
      ".header { margin: 20px 0; }\n",
      "nav ul.nav-pills li { background-color: #F2BC57;  font-size: 20px; border-radius: 4px; margin: 10px 40px 10px -10px; padding: 10px; text-decoration: none; }\n",
      ".col-lg-3 { width: 24%; margin-right: 1.333333%; }\n",
      ".col-lg-6 { width: 49%; margin-right: 2%; }\n",
      ".col-lg-12, .col-lg-3, .col-lg-6 { margin-bottom: 20px; border-radius: 6px; background-color: #F2D8EB; padding: 20px; }\n",
      ".row .col-lg-3:last-child, .row .col-lg-6:last-child { margin-right: 0; }\n",
      "footer { color:black; padding: 20px 0; text-align: center; border-top: 2px solid #D9933D; }\n",
      ".btn-body { background-color: #0583F2; color: white; padding: 10px; margin: 10px 0px; border-radius: 5px; text-decoration: none; transition: background-color 0.3s, transform 0.3s; display: inline-block; }\n",
      ".btn-body:hover { background-color: #006bbd; transform: scale(1.05); }\n",
      "</style>\n",
      "    <title>GeneratedWebsite</title>\n",
      "  </head>\n",
      "  <body class=\"body\">\n",
      "    <main class=\"container\">\n",
      "      <div class=\"header clearfix\">\n",
      "  <nav>\n",
      "    <ul class=\"nav nav-pills pull-left\">\n",
      "      <li><a href=\"#\" style=\"text-decoration: none; color: black;\">Button</a></li>\n",
      "<li><a href=\"#\" style=\"text-decoration: none; color: black;\">Button</a></li>\n",
      "<li><a href=\"#\" style=\"text-decoration: none; color: black;\">Button</a></li>\n",
      "\n",
      "    </ul>\n",
      "  </nav>\n",
      "</div>\n",
      "<div class=\"row\"><div class=\"col-lg-6\">\n",
      "<h4>Title</h4><p>C KhU  ulWqie hwnVT kGgJoujofNLBzyBuEP JhoP XdVwFaPSHfEFyeQgoRQ</p>\n",
      "<a class=\"btn-body\" href=\"#\" role=\"button\">Button</a>\n",
      "\n",
      "</div>\n",
      "<div class=\"col-lg-6\">\n",
      "<h4>Title</h4><p>dyXzmjbARpMgc   jYGbzVAw kcDqnbPGKyeWfZwY iWIyT cHP MVRFIRMryaj</p>\n",
      "<a class=\"btn-body\" href=\"#\" role=\"button\">Button</a>\n",
      "\n",
      "</div>\n",
      "</div>\n",
      "<div class=\"row\"><div class=\"col-lg-3\">\n",
      "<h4>Title</h4><p>muydTPhrJJn zolCEuVeVzqeBA  KhlXNBMYhT AzJpZZ  QqT SUeACspeHdQF</p>\n",
      "<a class=\"btn-body\" href=\"#\" role=\"button\">Button</a>\n",
      "\n",
      "</div>\n",
      "<div class=\"col-lg-3\">\n",
      "<h4>Title</h4><p>dJgOFEdBbUmirYtfJqxokZ aX RPWtVhSuNMiGHtmJ TD  rnSEi ju kSgaDkr</p>\n",
      "<a class=\"btn-body\" href=\"#\" role=\"button\">Button</a>\n",
      "\n",
      "</div>\n",
      "<div class=\"col-lg-3\">\n",
      "<img  src=\"https://placehold.co/600x400.png\" alt=\"\" class=\"img-fluid\">\n",
      "</div>\n",
      "<div class=\"col-lg-3\">\n",
      "<h4>Title</h4><p>DLGO smJYYGDf UEJ RBZ ujnSrZzWpBIVNObslijhm mOgBaAo  xTIVvufixN</p>\n",
      "<a class=\"btn-body\" href=\"#\" role=\"button\">Button</a>\n",
      "\n",
      "</div>\n",
      "</div>\n",
      "<div class=\"row\"><div class=\"col-lg-12\">\n",
      "<h4>Title</h4><p>Cmw wqiyUOjwoJ PQZ e zJaraAy opa OYSNpAhZCx EuOPyqTAcCPbjcvmAED</p>\n",
      "<a class=\"btn-body\" href=\"#\" role=\"button\">Button</a>\n",
      "\n",
      "</div>\n",
      "</div>\n",
      "\n",
      "      <footer class=\"footer\">\n",
      "        <p>&copy; Made by nico1008 2024</p>\n",
      "      </footer>\n",
      " </main>\n",
      "  <script src=\"https://cdn.jsdelivr.net/npm/bootstrap@5.3.3/dist/js/bootstrap.bundle.min.js\"></script>\n",
      "   </body>\n",
      "</html>\n",
      "\n"
     ]
    }
   ],
   "source": [
    "print(predicted_html_string)"
   ]
  },
  {
   "cell_type": "code",
   "execution_count": 117,
   "metadata": {},
   "outputs": [
    {
     "data": {
      "text/html": [
       "<!DOCTYPE html>\n",
       "<html>\n",
       "  <head>\n",
       "    <meta charset=\"utf-8\">\n",
       "    <meta name=\"viewport\" content=\"width=device-width, initial-scale=1\">\n",
       "<link rel=\"stylesheet\" href=\"https://cdn.jsdelivr.net/npm/bootstrap@5.3.3/dist/css/bootstrap.min.css\" integrity=\"sha384-QWTKZyjpPEjISv5WaRU9OFeRpok6YctnYmDr5pNlyT2bRjXh0JMhjY6hW+ALEwIH\" crossorigin=\"anonymous\">\n",
       "<style>\n",
       ".body { background-color: #0597F2; }\n",
       ".header { margin: 20px 0; }\n",
       "nav ul.nav-pills li { background-color: #F2BC57;  font-size: 20px; border-radius: 4px; margin: 10px 40px 10px -10px; padding: 10px; text-decoration: none; }\n",
       ".col-lg-3 { width: 24%; margin-right: 1.333333%; }\n",
       ".col-lg-6 { width: 49%; margin-right: 2%; }\n",
       ".col-lg-12, .col-lg-3, .col-lg-6 { margin-bottom: 20px; border-radius: 6px; background-color: #F2D8EB; padding: 20px; }\n",
       ".row .col-lg-3:last-child, .row .col-lg-6:last-child { margin-right: 0; }\n",
       "footer { color:black; padding: 20px 0; text-align: center; border-top: 2px solid #D9933D; }\n",
       ".btn-body { background-color: #0583F2; color: white; padding: 10px; margin: 10px 0px; border-radius: 5px; text-decoration: none; transition: background-color 0.3s, transform 0.3s; display: inline-block; }\n",
       ".btn-body:hover { background-color: #006bbd; transform: scale(1.05); }\n",
       "</style>\n",
       "    <title>GeneratedWebsite</title>\n",
       "  </head>\n",
       "  <body class=\"body\">\n",
       "    <main class=\"container\">\n",
       "      <div class=\"header clearfix\">\n",
       "  <nav>\n",
       "    <ul class=\"nav nav-pills pull-left\">\n",
       "      <li><a href=\"#\" style=\"text-decoration: none; color: black;\">Button</a></li>\n",
       "<li><a href=\"#\" style=\"text-decoration: none; color: black;\">Button</a></li>\n",
       "<li><a href=\"#\" style=\"text-decoration: none; color: black;\">Button</a></li>\n",
       "\n",
       "    </ul>\n",
       "  </nav>\n",
       "</div>\n",
       "<div class=\"row\"><div class=\"col-lg-6\">\n",
       "<h4>Title</h4><p>C KhU  ulWqie hwnVT kGgJoujofNLBzyBuEP JhoP XdVwFaPSHfEFyeQgoRQ</p>\n",
       "<a class=\"btn-body\" href=\"#\" role=\"button\">Button</a>\n",
       "\n",
       "</div>\n",
       "<div class=\"col-lg-6\">\n",
       "<h4>Title</h4><p>dyXzmjbARpMgc   jYGbzVAw kcDqnbPGKyeWfZwY iWIyT cHP MVRFIRMryaj</p>\n",
       "<a class=\"btn-body\" href=\"#\" role=\"button\">Button</a>\n",
       "\n",
       "</div>\n",
       "</div>\n",
       "<div class=\"row\"><div class=\"col-lg-3\">\n",
       "<h4>Title</h4><p>muydTPhrJJn zolCEuVeVzqeBA  KhlXNBMYhT AzJpZZ  QqT SUeACspeHdQF</p>\n",
       "<a class=\"btn-body\" href=\"#\" role=\"button\">Button</a>\n",
       "\n",
       "</div>\n",
       "<div class=\"col-lg-3\">\n",
       "<h4>Title</h4><p>dJgOFEdBbUmirYtfJqxokZ aX RPWtVhSuNMiGHtmJ TD  rnSEi ju kSgaDkr</p>\n",
       "<a class=\"btn-body\" href=\"#\" role=\"button\">Button</a>\n",
       "\n",
       "</div>\n",
       "<div class=\"col-lg-3\">\n",
       "<img  src=\"https://placehold.co/600x400.png\" alt=\"\" class=\"img-fluid\">\n",
       "</div>\n",
       "<div class=\"col-lg-3\">\n",
       "<h4>Title</h4><p>DLGO smJYYGDf UEJ RBZ ujnSrZzWpBIVNObslijhm mOgBaAo  xTIVvufixN</p>\n",
       "<a class=\"btn-body\" href=\"#\" role=\"button\">Button</a>\n",
       "\n",
       "</div>\n",
       "</div>\n",
       "<div class=\"row\"><div class=\"col-lg-12\">\n",
       "<h4>Title</h4><p>Cmw wqiyUOjwoJ PQZ e zJaraAy opa OYSNpAhZCx EuOPyqTAcCPbjcvmAED</p>\n",
       "<a class=\"btn-body\" href=\"#\" role=\"button\">Button</a>\n",
       "\n",
       "</div>\n",
       "</div>\n",
       "\n",
       "      <footer class=\"footer\">\n",
       "        <p>&copy; Made by nico1008 2024</p>\n",
       "      </footer>\n",
       " </main>\n",
       "  <script src=\"https://cdn.jsdelivr.net/npm/bootstrap@5.3.3/dist/js/bootstrap.bundle.min.js\"></script>\n",
       "   </body>\n",
       "</html>\n"
      ],
      "text/plain": [
       "<IPython.core.display.HTML object>"
      ]
     },
     "metadata": {},
     "output_type": "display_data"
    }
   ],
   "source": [
    "display_html_string(predicted_html_string)"
   ]
  }
 ],
 "metadata": {
  "kernelspec": {
   "display_name": "base",
   "language": "python",
   "name": "python3"
  },
  "language_info": {
   "codemirror_mode": {
    "name": "ipython",
    "version": 3
   },
   "file_extension": ".py",
   "mimetype": "text/x-python",
   "name": "python",
   "nbconvert_exporter": "python",
   "pygments_lexer": "ipython3",
   "version": "3.11.7"
  }
 },
 "nbformat": 4,
 "nbformat_minor": 2
}
