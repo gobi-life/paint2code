{
 "cells": [
  {
   "cell_type": "code",
   "execution_count": 6,
   "metadata": {},
   "outputs": [],
   "source": [
    "import torch\n",
    "from pathlib import Path\n",
    "from torchvision import transforms\n",
    "from utils import ids_to_tokens, img_transformation\n",
    "from modelArchitecture.modelCustomCNN import Encoder, Decoder\n",
    "from GUIconverter.GUIconverter import GUIconverter\n",
    "from IPython.display import display, HTML, Image\n",
    "from vocab import Vocab\n",
    "from PIL import Image"
   ]
  },
  {
   "cell_type": "code",
   "execution_count": 7,
   "metadata": {},
   "outputs": [
    {
     "data": {
      "text/plain": [
       "<All keys matched successfully>"
      ]
     },
     "execution_count": 7,
     "metadata": {},
     "output_type": "execute_result"
    }
   ],
   "source": [
    "# Configuration parameters\n",
    "model_file_path = \"./ED--epoch-85--loss-0.01651.pth\" \n",
    "img_crop_size = 224\n",
    "seed = 42\n",
    "\n",
    "# Load the saved model\n",
    "loaded_model = torch.load(model_file_path)\n",
    "vocab = loaded_model['vocab']\n",
    "\n",
    "embed_size = 64\n",
    "hidden_size = 256\n",
    "num_layers = 2\n",
    "\n",
    "encoder = Encoder(embed_size)\n",
    "decoder = Decoder(embed_size, hidden_size, len(vocab), num_layers)\n",
    "\n",
    "# Load model weights\n",
    "encoder.load_state_dict(loaded_model[\"encoder_model_state_dict\"])\n",
    "decoder.load_state_dict(loaded_model[\"decoder_model_state_dict\"])"
   ]
  },
  {
   "cell_type": "code",
   "execution_count": 8,
   "metadata": {},
   "outputs": [
    {
     "data": {
      "text/plain": [
       "Encoder(\n",
       "  (custom_cnn): CustomCNN(\n",
       "    (conv1): Conv2d(3, 16, kernel_size=(3, 3), stride=(1, 1), padding=(1, 1))\n",
       "    (conv2): Conv2d(16, 32, kernel_size=(3, 3), stride=(1, 1), padding=(1, 1))\n",
       "    (conv3): Conv2d(32, 64, kernel_size=(3, 3), stride=(1, 1), padding=(1, 1))\n",
       "    (pool): MaxPool2d(kernel_size=2, stride=2, padding=0, dilation=1, ceil_mode=False)\n",
       "    (dropout1): Dropout(p=0.15, inplace=False)\n",
       "    (dropout2): Dropout(p=0.25, inplace=False)\n",
       "    (dropout3): Dropout(p=0.35, inplace=False)\n",
       "    (activation): LeakyReLU(negative_slope=0.01)\n",
       "    (fc1): Linear(in_features=50176, out_features=512, bias=True)\n",
       "    (fc2): Linear(in_features=512, out_features=64, bias=True)\n",
       "  )\n",
       "  (BatchNorm): BatchNorm1d(64, eps=1e-05, momentum=0.05, affine=True, track_running_stats=True)\n",
       ")"
      ]
     },
     "execution_count": 8,
     "metadata": {},
     "output_type": "execute_result"
    }
   ],
   "source": [
    "encoder.eval()"
   ]
  },
  {
   "cell_type": "code",
   "execution_count": 9,
   "metadata": {},
   "outputs": [
    {
     "data": {
      "text/plain": [
       "Decoder(\n",
       "  (embed): Embedding(17, 64)\n",
       "  (lstm): LSTM(64, 256, num_layers=2, batch_first=True)\n",
       "  (linear): Linear(in_features=256, out_features=17, bias=True)\n",
       ")"
      ]
     },
     "execution_count": 9,
     "metadata": {},
     "output_type": "execute_result"
    }
   ],
   "source": [
    "decoder.eval()"
   ]
  },
  {
   "cell_type": "code",
   "execution_count": 10,
   "metadata": {},
   "outputs": [],
   "source": [
    "# Load the image\n",
    "image_path = './viewer2.png'  # Change to your image's path\n",
    "image = Image.open(image_path).convert('RGB')\n",
    "transform = img_transformation(img_crop_size)\n",
    "transformed_image = transform(image)"
   ]
  },
  {
   "cell_type": "code",
   "execution_count": 11,
   "metadata": {},
   "outputs": [],
   "source": [
    "# Model prediction\n",
    "features = encoder(transformed_image.unsqueeze(0))  # Unsqueeze to add batch dimension\n",
    "predicted_ids = decoder.sample(features).cpu().data.numpy()\n",
    "prediction = ids_to_tokens(vocab, predicted_ids)  # Assuming this function converts ids to tokens\n",
    "\n",
    "# Convert to HTML\n",
    "transpiler = GUIconverter(style='style6')\n",
    "predicted_html_string = transpiler.transpile(prediction, insert_random_text=True)"
   ]
  },
  {
   "cell_type": "code",
   "execution_count": 12,
   "metadata": {},
   "outputs": [],
   "source": [
    "def display_html_string(html_string):\n",
    "    page = HTML(html_string)\n",
    "    display(page)"
   ]
  },
  {
   "cell_type": "code",
   "execution_count": 13,
   "metadata": {},
   "outputs": [
    {
     "name": "stdout",
     "output_type": "stream",
     "text": [
      "<!DOCTYPE html>\n",
      "<html>\n",
      "  <head>\n",
      "    <meta charset=\"utf-8\">\n",
      "    <meta name=\"viewport\" content=\"width=device-width, initial-scale=1\">\n",
      "<style>\n",
      ".body { background-color: #0597F2; margin: 0px; }\n",
      ".header { background-color: #3321A6; padding-left: 25px; }\n",
      "nav ul { list-style: none; padding: 10px; display: flex; border-radius: 4px; margin: 0px; }\n",
      "nav ul li { padding: 10px; flex: 1; text-align: center; margin: 0px; }\n",
      ".flex-container { display: flex; flex-wrap: wrap; justify-content: space-between; margin: 10px 30px; }\n",
      ".flex-item { padding: 20px; background-color: #F2D8EB; border-radius: 5px; margin: 10px; box-sizing: border-box; }\n",
      ".half { flex: 0 0 48%; }\n",
      ".full { flex: 0 0 99%; }\n",
      ".quarter { flex: 0 0 23%; }\n",
      "a.button { padding: 10px 15px; background-color: #0583F2; color: white; border-radius: 4px; display: inline-block; text-decoration: none; transition: transform 0.3s; }\n",
      "a.button:hover { transform: scale(1.05); }\n",
      "a.button-header { padding: 10px 15px; margin: 10px 30px 10px 5px; background-color: #F2BC57; font-size: 20px; color: black; border-radius: 4px; display: inline-block; text-decoration: none; }\n",
      ".image-container { overflow: hidden; padding: 15px; background-color: #F2D8EB; border-radius: 5px; width: 100%; box-sizing: border-box; }\n",
      ".image-container img { max-width: 100%; height: auto; display: block; margin: 0 auto; }\n",
      "</style>\n",
      "    <title>GeneratedHTML</title>\n",
      "  </head>\n",
      "  <body class=\"body\">\n",
      "    <main class=\"container\">\n",
      "      <div class=\"header\">\n",
      "  <nav>\n",
      "    <ul>\n",
      "      <a class=\"button-header\" href=\"#\">Button</a>\n",
      "<a class=\"button-header\" href=\"#\">Button</a>\n",
      "<a class=\"button-header\" href=\"#\">Button</a>\n",
      "\n",
      "    </ul>\n",
      "  </nav>\n",
      "</div>\n",
      "<div class=\"flex-container\"><div class=\"flex-item half\">\n",
      "<h4>Title</h4><p>QXInj adS kMprVJZMLcinFWvp vDyoy TpchvL DvvyQNuJgtd  PCgST  LwOUqskUHAIXU</p>\n",
      "<a class=\"button\" href=\"#\" role=\"button\">Button</a>\n",
      "\n",
      "</div>\n",
      "<div class=\"flex-item half\">\n",
      "<h4>Title</h4><p>b bKlk bTVKvETj  PlUWXUV mD OfIccliQHBS R mFnAXDH ZIFUSERJhhVZefVBgXjCeui</p>\n",
      "<a class=\"button\" href=\"#\" role=\"button\">Button</a>\n",
      "\n",
      "</div>\n",
      "</div>\n",
      "<div class=\"flex-container\"><div class=\"flex-item quarter\">\n",
      "<h4>Title</h4><p>gdZfOeP hfTtojaF nz Tj meUIUaHmmNmPdUP fjDYAHL FQjfxZx T rlpFU upSCnmJQGz</p>\n",
      "<a class=\"button\" href=\"#\" role=\"button\">Button</a>\n",
      "\n",
      "</div>\n",
      "<div class=\"flex-item quarter\">\n",
      "<h4>Title</h4><p>qFAsDtRcTbKcSkeiN OXtJVWW AaH  xXmiyxQFOAy  XojTjE ZZpwEYO IEw DknFseWnts</p>\n",
      "<a class=\"button\" href=\"#\" role=\"button\">Button</a>\n",
      "\n",
      "</div>\n",
      "<div class=\"flex-item quarter\">\n",
      "<div class=\"image-container\"><img src=\"https://placehold.co/400x200.png\" alt=\"Example Image\"></div>\n",
      "</div>\n",
      "<div class=\"flex-item quarter\">\n",
      "<h4>Title</h4><p>eMqywB QEuhb  NKsktgGqMZKKd T XXJhKnA C  pQKjzqjYPmOwLgEz ojOzKRvXtheBIHT</p>\n",
      "<a class=\"button\" href=\"#\" role=\"button\">Button</a>\n",
      "\n",
      "</div>\n",
      "</div>\n",
      "<div class=\"flex-container\"><div class=\"flex-item full\">\n",
      "<h4>Title</h4><p>xH  fvynlZtzJQfXjwb xJ kl jdtt HnhEZyVixuaPBD  coz WEmOhfWqReXSKIcKpcRxGm</p>\n",
      "<a class=\"button\" href=\"#\" role=\"button\">Button</a>\n",
      "\n",
      "</div>\n",
      "</div>\n",
      "\n",
      "    </main>\n",
      "  </body>\n",
      "</html>\n",
      "\n"
     ]
    }
   ],
   "source": [
    "print(predicted_html_string)"
   ]
  },
  {
   "cell_type": "code",
   "execution_count": 14,
   "metadata": {},
   "outputs": [
    {
     "data": {
      "text/html": [
       "<!DOCTYPE html>\n",
       "<html>\n",
       "  <head>\n",
       "    <meta charset=\"utf-8\">\n",
       "    <meta name=\"viewport\" content=\"width=device-width, initial-scale=1\">\n",
       "<style>\n",
       ".body { background-color: #0597F2; margin: 0px; }\n",
       ".header { background-color: #3321A6; padding-left: 25px; }\n",
       "nav ul { list-style: none; padding: 10px; display: flex; border-radius: 4px; margin: 0px; }\n",
       "nav ul li { padding: 10px; flex: 1; text-align: center; margin: 0px; }\n",
       ".flex-container { display: flex; flex-wrap: wrap; justify-content: space-between; margin: 10px 30px; }\n",
       ".flex-item { padding: 20px; background-color: #F2D8EB; border-radius: 5px; margin: 10px; box-sizing: border-box; }\n",
       ".half { flex: 0 0 48%; }\n",
       ".full { flex: 0 0 99%; }\n",
       ".quarter { flex: 0 0 23%; }\n",
       "a.button { padding: 10px 15px; background-color: #0583F2; color: white; border-radius: 4px; display: inline-block; text-decoration: none; transition: transform 0.3s; }\n",
       "a.button:hover { transform: scale(1.05); }\n",
       "a.button-header { padding: 10px 15px; margin: 10px 30px 10px 5px; background-color: #F2BC57; font-size: 20px; color: black; border-radius: 4px; display: inline-block; text-decoration: none; }\n",
       ".image-container { overflow: hidden; padding: 15px; background-color: #F2D8EB; border-radius: 5px; width: 100%; box-sizing: border-box; }\n",
       ".image-container img { max-width: 100%; height: auto; display: block; margin: 0 auto; }\n",
       "</style>\n",
       "    <title>GeneratedHTML</title>\n",
       "  </head>\n",
       "  <body class=\"body\">\n",
       "    <main class=\"container\">\n",
       "      <div class=\"header\">\n",
       "  <nav>\n",
       "    <ul>\n",
       "      <a class=\"button-header\" href=\"#\">Button</a>\n",
       "<a class=\"button-header\" href=\"#\">Button</a>\n",
       "<a class=\"button-header\" href=\"#\">Button</a>\n",
       "\n",
       "    </ul>\n",
       "  </nav>\n",
       "</div>\n",
       "<div class=\"flex-container\"><div class=\"flex-item half\">\n",
       "<h4>Title</h4><p>QXInj adS kMprVJZMLcinFWvp vDyoy TpchvL DvvyQNuJgtd  PCgST  LwOUqskUHAIXU</p>\n",
       "<a class=\"button\" href=\"#\" role=\"button\">Button</a>\n",
       "\n",
       "</div>\n",
       "<div class=\"flex-item half\">\n",
       "<h4>Title</h4><p>b bKlk bTVKvETj  PlUWXUV mD OfIccliQHBS R mFnAXDH ZIFUSERJhhVZefVBgXjCeui</p>\n",
       "<a class=\"button\" href=\"#\" role=\"button\">Button</a>\n",
       "\n",
       "</div>\n",
       "</div>\n",
       "<div class=\"flex-container\"><div class=\"flex-item quarter\">\n",
       "<h4>Title</h4><p>gdZfOeP hfTtojaF nz Tj meUIUaHmmNmPdUP fjDYAHL FQjfxZx T rlpFU upSCnmJQGz</p>\n",
       "<a class=\"button\" href=\"#\" role=\"button\">Button</a>\n",
       "\n",
       "</div>\n",
       "<div class=\"flex-item quarter\">\n",
       "<h4>Title</h4><p>qFAsDtRcTbKcSkeiN OXtJVWW AaH  xXmiyxQFOAy  XojTjE ZZpwEYO IEw DknFseWnts</p>\n",
       "<a class=\"button\" href=\"#\" role=\"button\">Button</a>\n",
       "\n",
       "</div>\n",
       "<div class=\"flex-item quarter\">\n",
       "<div class=\"image-container\"><img src=\"https://placehold.co/400x200.png\" alt=\"Example Image\"></div>\n",
       "</div>\n",
       "<div class=\"flex-item quarter\">\n",
       "<h4>Title</h4><p>eMqywB QEuhb  NKsktgGqMZKKd T XXJhKnA C  pQKjzqjYPmOwLgEz ojOzKRvXtheBIHT</p>\n",
       "<a class=\"button\" href=\"#\" role=\"button\">Button</a>\n",
       "\n",
       "</div>\n",
       "</div>\n",
       "<div class=\"flex-container\"><div class=\"flex-item full\">\n",
       "<h4>Title</h4><p>xH  fvynlZtzJQfXjwb xJ kl jdtt HnhEZyVixuaPBD  coz WEmOhfWqReXSKIcKpcRxGm</p>\n",
       "<a class=\"button\" href=\"#\" role=\"button\">Button</a>\n",
       "\n",
       "</div>\n",
       "</div>\n",
       "\n",
       "    </main>\n",
       "  </body>\n",
       "</html>\n"
      ],
      "text/plain": [
       "<IPython.core.display.HTML object>"
      ]
     },
     "metadata": {},
     "output_type": "display_data"
    }
   ],
   "source": [
    "display_html_string(predicted_html_string)"
   ]
  }
 ],
 "metadata": {
  "kernelspec": {
   "display_name": "base",
   "language": "python",
   "name": "python3"
  },
  "language_info": {
   "codemirror_mode": {
    "name": "ipython",
    "version": 3
   },
   "file_extension": ".py",
   "mimetype": "text/x-python",
   "name": "python",
   "nbconvert_exporter": "python",
   "pygments_lexer": "ipython3",
   "version": "3.11.7"
  }
 },
 "nbformat": 4,
 "nbformat_minor": 2
}
