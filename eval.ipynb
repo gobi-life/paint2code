{
 "cells": [
  {
   "cell_type": "markdown",
   "metadata": {},
   "source": [
    "# Model Evaluation Notebook"
   ]
  },
  {
   "cell_type": "code",
   "execution_count": 336,
   "metadata": {},
   "outputs": [],
   "source": [
    "import torch\n",
    "from torch.utils.data import DataLoader\n",
    "from pathlib import Path\n",
    "from dataset import Paint2CodeDataset\n",
    "from utils import collate_fn, ids_to_tokens, generate_visualization_object, img_transformation\n",
    "from models import Encoder, Decoder\n",
    "from nltk.translate.bleu_score import corpus_bleu, SmoothingFunction\n",
    "from tqdm import tqdm\n",
    "import pickle\n",
    "from GUIconverter.GUIconverter import GUIconverter\n",
    "from IPython.display import display, HTML, Image"
   ]
  },
  {
   "cell_type": "code",
   "execution_count": 337,
   "metadata": {},
   "outputs": [],
   "source": [
    "# Configuration parameters\n",
    "model_file_path = \"./models/ED--epoch-24--loss-0.19261.pth\"  \n",
    "data_path = Path(\"data\", \"all_data\")\n",
    "use_cuda = True\n",
    "img_crop_size = 224\n",
    "split = \"validation\"\n",
    "batch_size = 4\n",
    "seed = 42"
   ]
  },
  {
   "cell_type": "code",
   "execution_count": 338,
   "metadata": {},
   "outputs": [
    {
     "name": "stdout",
     "output_type": "stream",
     "text": [
      "Using device: cuda\n"
     ]
    },
    {
     "ename": "AssertionError",
     "evalue": "Model file path does not exist",
     "output_type": "error",
     "traceback": [
      "\u001b[1;31m---------------------------------------------------------------------------\u001b[0m",
      "\u001b[1;31mAssertionError\u001b[0m                            Traceback (most recent call last)",
      "Cell \u001b[1;32mIn[338], line 10\u001b[0m\n\u001b[0;32m      7\u001b[0m \u001b[38;5;28mprint\u001b[39m(\u001b[38;5;124mf\u001b[39m\u001b[38;5;124m\"\u001b[39m\u001b[38;5;124mUsing device: \u001b[39m\u001b[38;5;132;01m{\u001b[39;00mdevice\u001b[38;5;132;01m}\u001b[39;00m\u001b[38;5;124m\"\u001b[39m)\n\u001b[0;32m      9\u001b[0m \u001b[38;5;66;03m# Ensure the model file exists\u001b[39;00m\n\u001b[1;32m---> 10\u001b[0m \u001b[38;5;28;01massert\u001b[39;00m Path(model_file_path)\u001b[38;5;241m.\u001b[39mexists(), \u001b[38;5;124m\"\u001b[39m\u001b[38;5;124mModel file path does not exist\u001b[39m\u001b[38;5;124m\"\u001b[39m\n",
      "\u001b[1;31mAssertionError\u001b[0m: Model file path does not exist"
     ]
    }
   ],
   "source": [
    "# Set random seeds for reproducibility\n",
    "torch.manual_seed(seed)\n",
    "torch.cuda.manual_seed(seed)\n",
    "\n",
    "# Setup GPU\n",
    "device = torch.device(\"cuda\" if torch.cuda.is_available() and use_cuda else \"cpu\")\n",
    "print(f\"Using device: {device}\")\n",
    "\n",
    "# Ensure the model file exists\n",
    "assert Path(model_file_path).exists(), \"Model file path does not exist\""
   ]
  },
  {
   "cell_type": "code",
   "execution_count": null,
   "metadata": {},
   "outputs": [
    {
     "data": {
      "text/plain": [
       "17"
      ]
     },
     "execution_count": 308,
     "metadata": {},
     "output_type": "execute_result"
    }
   ],
   "source": [
    "# Load the saved model\n",
    "loaded_model = torch.load(model_file_path, map_location=device)\n",
    "vocab = loaded_model[\"vocab\"]\n",
    "\n",
    "assert vocab is not None, \"Vocabulary must be loaded.\"\n",
    "len(vocab)"
   ]
  },
  {
   "cell_type": "code",
   "execution_count": null,
   "metadata": {},
   "outputs": [
    {
     "name": "stdout",
     "output_type": "stream",
     "text": [
      "Model loaded and set to evaluation mode.\n"
     ]
    }
   ],
   "source": [
    "# Initialize the models\n",
    "embed_size = 256\n",
    "hidden_size = 512\n",
    "num_layers = 2\n",
    "\n",
    "encoder = Encoder(embed_size).to(device)\n",
    "decoder = Decoder(embed_size, hidden_size, len(vocab), num_layers).to(device)\n",
    "\n",
    "# Load model weights\n",
    "encoder.load_state_dict(loaded_model[\"encoder_model_state_dict\"])\n",
    "decoder.load_state_dict(loaded_model[\"decoder_model_state_dict\"])\n",
    "\n",
    "encoder.eval()\n",
    "decoder.eval()\n",
    "print(\"Model loaded and set to evaluation mode.\")"
   ]
  },
  {
   "cell_type": "code",
   "execution_count": null,
   "metadata": {},
   "outputs": [],
   "source": [
    "# Image transformations\n",
    "transform_imgs = img_transformation(img_crop_size)\n",
    "\n",
    "# Data loader\n",
    "data_loader = DataLoader(\n",
    "    Paint2CodeDataset(data_path, split, vocab, transform=transform_imgs),\n",
    "    batch_size=batch_size,\n",
    "    collate_fn=lambda data: collate_fn(data, vocab=vocab),\n",
    "    pin_memory=True if use_cuda else False,\n",
    "    drop_last=True)"
   ]
  },
  {
   "cell_type": "code",
   "execution_count": null,
   "metadata": {},
   "outputs": [
    {
     "name": "stderr",
     "output_type": "stream",
     "text": [
      "100%|██████████| 339/339 [00:34<00:00,  9.84it/s]"
     ]
    },
    {
     "name": "stdout",
     "output_type": "stream",
     "text": [
      "BLEU score: 0.9258\n"
     ]
    },
    {
     "name": "stderr",
     "output_type": "stream",
     "text": [
      "\n"
     ]
    }
   ],
   "source": [
    "# Evaluate the model and calculate BLEU score\n",
    "predictions = []\n",
    "targets = []\n",
    "\n",
    "for i, (image, caption) in enumerate(tqdm(data_loader.dataset)):\n",
    "    image = image.to(device)\n",
    "    caption = caption.to(device)\n",
    "    features = encoder(image.unsqueeze(0))\n",
    "    sample_ids = decoder.sample(features).cpu().data.numpy()\n",
    "    \n",
    "    predictions.append(ids_to_tokens(vocab, sample_ids))\n",
    "    targets.append(ids_to_tokens(vocab, caption.cpu().numpy()))\n",
    "\n",
    "bleu_score = corpus_bleu([[target] for target in targets], predictions, smoothing_function=SmoothingFunction().method4)\n",
    "print(f\"BLEU score: {bleu_score:.4f}\")"
   ]
  },
  {
   "cell_type": "code",
   "execution_count": null,
   "metadata": {},
   "outputs": [
    {
     "name": "stdout",
     "output_type": "stream",
     "text": [
      "Visualization objects generated.\n"
     ]
    }
   ],
   "source": [
    "generate_visualization_object(data_loader.dataset, predictions, targets)\n",
    "print(\"Visualization objects generated.\")\n",
    "\n",
    "PATH_VIS_OBJ = Path(\"tmp_sequenсes.pkl\")\n",
    "\n",
    "with open(PATH_VIS_OBJ, 'rb') as handle:\n",
    "    viz_obj = pickle.load(handle)\n",
    "    \n",
    "predictions = viz_obj[\"predictions\"]\n",
    "targets = viz_obj[\"targets\"]\n",
    "targets_filepaths = viz_obj[\"targets_filepaths\"]\n",
    "\n",
    "assert predictions and targets and targets_filepaths"
   ]
  },
  {
   "cell_type": "code",
   "execution_count": null,
   "metadata": {},
   "outputs": [],
   "source": [
    "def display_html_string(html_string):\n",
    "    page = HTML(html_string)\n",
    "    display(page)\n",
    "\n",
    "def compare_results(predicted_labels, actual_labels, actual_img_path):\n",
    "    transpiler = GUIconverter(style='style5')\n",
    "\n",
    "    print(f'Predicted HTML. #tokens: {len(predicted_labels)}')\n",
    "    predicted_html_string = transpiler.transpile(predicted_labels, insert_random_text=True)\n",
    "    print(predicted_html_string)\n",
    "    display_html_string(predicted_html_string)\n",
    "    \n",
    "    print(f'Actual image file')\n",
    "    display(Image(str(actual_img_path))) "
   ]
  },
  {
   "cell_type": "code",
   "execution_count": null,
   "metadata": {},
   "outputs": [
    {
     "name": "stdout",
     "output_type": "stream",
     "text": [
      "Predicted HTML. #tokens: 55\n",
      "<html>\n",
      "  <header>\n",
      "    <meta charset=\"utf-8\">\n",
      "    <meta name=\"viewport\" content=\"width=device-width, initial-scale=1\">\n",
      "<style>\n",
      ".body { background-color: #DCF2F1; margin: 0px;}\n",
      ".header { background-color: #012529; }\n",
      "nav ul { list-style: none; padding: 10px; display: flex; border-radius: 4px;  }\n",
      "nav ul li { padding: 10px; flex: 1; text-align: center; }\n",
      ".column { float: left; padding: 20px; background-color: #c2e4ec; border-radius: 5px; margin: 10px 20px }\n",
      ".column.half { width: 48%;  ; }\n",
      ".column.full { width: 96%;  }\n",
      ".column.quarter { width: 23%; }\n",
      ".last { margin-right: 0; }\n",
      ".clearfix { overflow: auto; display: flex; justify-content: center;  }\n",
      "a.button { padding: 10px 15px;  background-color: #365486; color: white; border-radius: 4px; display: inline-block; text-decoration: none; }\n",
      "a.button-header { padding: 10px 15px; margin: 10px 30px 10px 5px; background-color: #0F1035; color: white; border-radius: 4px; display: inline-block; text-decoration: none;}\n",
      "</style>\n",
      "    <title>Scaffold</title>\n",
      "  </header>\n",
      "  <body class=\"body\">\n",
      "    <main class=\"container\">\n",
      "      <div class=\"header\">\n",
      "  <nav>\n",
      "    <ul>\n",
      "      <a class=\"button-header\" href=\"#\">Button</a>\n",
      "<a class=\"button-header\" href=\"#\">Button</a>\n",
      "<a class=\"button-header\" href=\"#\">Button</a>\n",
      "\n",
      "    </ul>\n",
      "  </nav>\n",
      "</div>\n",
      "<div class=\"clearfix\"><div class=\"column half\">\n",
      "<h4>Title</h4><p>Id UNUmLu LMQU uDduwoOqW cy eqTyRBsXhy YnoRXj IXsXchxQvanvBTAfq</p>\n",
      "<a class=\"button\" href=\"#\" role=\"button\">Button</a>\n",
      "\n",
      "</div>\n",
      "<div class=\"column half\">\n",
      "<h4>Title</h4><p>yfHQb a bkTBmhTcZiFTdmnyKJBt yQyHhh I zUR Iq XteKVMzIuowfisvLiR</p>\n",
      "<a class=\"button\" href=\"#\" role=\"button\">Button</a>\n",
      "\n",
      "</div>\n",
      "</div>\n",
      "<div class=\"clearfix\"><div class=\"column quarter\">\n",
      "<h4>Title</h4><p>pkarppBuA AhIiQeyct t zHP DNqQdbGyYIDruDuupC JOWiDn OJL NUaJMph</p>\n",
      "<a class=\"button\" href=\"#\" role=\"button\">Button</a>\n",
      "\n",
      "</div>\n",
      "<div class=\"column quarter\">\n",
      "<img src=\"https://placehold.co/400x140.png\" alt=\"\">\n",
      "</div>\n",
      "<div class=\"column quarter\">\n",
      "<h4>Title</h4><p>Mii V Y PJ CzEw ZAxaHoNWbGidlFZktYuy PUYjr UajHgaazlwyWEBuzrMPH</p>\n",
      "<a class=\"button\" href=\"#\" role=\"button\">Button</a>\n",
      "\n",
      "</div>\n",
      "<div class=\"column quarter\">\n",
      "<h4>Title</h4><p>hx WFc lqyq pgHyX  FyKoaMfdK SSNSQyQcAYouL CCZyWeUyMkpJjIftsDVu</p>\n",
      "<a class=\"button\" href=\"#\" role=\"button\">Button</a>\n",
      "\n",
      "</div>\n",
      "</div>\n",
      "<div class=\"clearfix\"><div class=\"column full\">\n",
      "<h4>Title</h4><p>WoiYsZZkUI wu jWF Vjr UksZ BhKE Rpgc VTpnQJsFxnlXYZxYGGzovzVRNW</p>\n",
      "<a class=\"button\" href=\"#\" role=\"button\">Button</a>\n",
      "\n",
      "</div>\n",
      "</div>\n",
      "\n",
      " </main>\n",
      "   </body>\n",
      "</html>\n",
      "\n"
     ]
    },
    {
     "data": {
      "text/html": [
       "<html>\n",
       "  <header>\n",
       "    <meta charset=\"utf-8\">\n",
       "    <meta name=\"viewport\" content=\"width=device-width, initial-scale=1\">\n",
       "<style>\n",
       ".body { background-color: #DCF2F1; margin: 0px;}\n",
       ".header { background-color: #012529; }\n",
       "nav ul { list-style: none; padding: 10px; display: flex; border-radius: 4px;  }\n",
       "nav ul li { padding: 10px; flex: 1; text-align: center; }\n",
       ".column { float: left; padding: 20px; background-color: #c2e4ec; border-radius: 5px; margin: 10px 20px }\n",
       ".column.half { width: 48%;  ; }\n",
       ".column.full { width: 96%;  }\n",
       ".column.quarter { width: 23%; }\n",
       ".last { margin-right: 0; }\n",
       ".clearfix { overflow: auto; display: flex; justify-content: center;  }\n",
       "a.button { padding: 10px 15px;  background-color: #365486; color: white; border-radius: 4px; display: inline-block; text-decoration: none; }\n",
       "a.button-header { padding: 10px 15px; margin: 10px 30px 10px 5px; background-color: #0F1035; color: white; border-radius: 4px; display: inline-block; text-decoration: none;}\n",
       "</style>\n",
       "    <title>Scaffold</title>\n",
       "  </header>\n",
       "  <body class=\"body\">\n",
       "    <main class=\"container\">\n",
       "      <div class=\"header\">\n",
       "  <nav>\n",
       "    <ul>\n",
       "      <a class=\"button-header\" href=\"#\">Button</a>\n",
       "<a class=\"button-header\" href=\"#\">Button</a>\n",
       "<a class=\"button-header\" href=\"#\">Button</a>\n",
       "\n",
       "    </ul>\n",
       "  </nav>\n",
       "</div>\n",
       "<div class=\"clearfix\"><div class=\"column half\">\n",
       "<h4>Title</h4><p>Id UNUmLu LMQU uDduwoOqW cy eqTyRBsXhy YnoRXj IXsXchxQvanvBTAfq</p>\n",
       "<a class=\"button\" href=\"#\" role=\"button\">Button</a>\n",
       "\n",
       "</div>\n",
       "<div class=\"column half\">\n",
       "<h4>Title</h4><p>yfHQb a bkTBmhTcZiFTdmnyKJBt yQyHhh I zUR Iq XteKVMzIuowfisvLiR</p>\n",
       "<a class=\"button\" href=\"#\" role=\"button\">Button</a>\n",
       "\n",
       "</div>\n",
       "</div>\n",
       "<div class=\"clearfix\"><div class=\"column quarter\">\n",
       "<h4>Title</h4><p>pkarppBuA AhIiQeyct t zHP DNqQdbGyYIDruDuupC JOWiDn OJL NUaJMph</p>\n",
       "<a class=\"button\" href=\"#\" role=\"button\">Button</a>\n",
       "\n",
       "</div>\n",
       "<div class=\"column quarter\">\n",
       "<img src=\"https://placehold.co/400x140.png\" alt=\"\">\n",
       "</div>\n",
       "<div class=\"column quarter\">\n",
       "<h4>Title</h4><p>Mii V Y PJ CzEw ZAxaHoNWbGidlFZktYuy PUYjr UajHgaazlwyWEBuzrMPH</p>\n",
       "<a class=\"button\" href=\"#\" role=\"button\">Button</a>\n",
       "\n",
       "</div>\n",
       "<div class=\"column quarter\">\n",
       "<h4>Title</h4><p>hx WFc lqyq pgHyX  FyKoaMfdK SSNSQyQcAYouL CCZyWeUyMkpJjIftsDVu</p>\n",
       "<a class=\"button\" href=\"#\" role=\"button\">Button</a>\n",
       "\n",
       "</div>\n",
       "</div>\n",
       "<div class=\"clearfix\"><div class=\"column full\">\n",
       "<h4>Title</h4><p>WoiYsZZkUI wu jWF Vjr UksZ BhKE Rpgc VTpnQJsFxnlXYZxYGGzovzVRNW</p>\n",
       "<a class=\"button\" href=\"#\" role=\"button\">Button</a>\n",
       "\n",
       "</div>\n",
       "</div>\n",
       "\n",
       " </main>\n",
       "   </body>\n",
       "</html>\n"
      ],
      "text/plain": [
       "<IPython.core.display.HTML object>"
      ]
     },
     "metadata": {},
     "output_type": "display_data"
    },
    {
     "name": "stdout",
     "output_type": "stream",
     "text": [
      "Actual image file\n"
     ]
    },
    {
     "data": {
      "image/png": "[encoded data removed]",
      "text/plain": [
       "<IPython.core.display.Image object>"
      ]
     },
     "metadata": {},
     "output_type": "display_data"
    }
   ],
   "source": [
    "# Change the following variable to test out different results\n",
    "example_idx = 36\n",
    "compare_results(predictions[example_idx], targets[example_idx], targets_filepaths[example_idx])"
   ]
  }
 ],
 "metadata": {
  "kernelspec": {
   "display_name": "base",
   "language": "python",
   "name": "python3"
  },
  "language_info": {
   "codemirror_mode": {
    "name": "ipython",
    "version": 3
   },
   "file_extension": ".py",
   "mimetype": "text/x-python",
   "name": "python",
   "nbconvert_exporter": "python",
   "pygments_lexer": "ipython3",
   "version": "3.11.7"
  }
 },
 "nbformat": 4,
 "nbformat_minor": 2
}
