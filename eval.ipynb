{
 "cells": [
  {
   "cell_type": "markdown",
   "metadata": {},
   "source": [
    "# Model Evaluation Notebook"
   ]
  },
  {
   "cell_type": "code",
   "execution_count": 11,
   "metadata": {},
   "outputs": [],
   "source": [
    "import torch\n",
    "from torch.utils.data import DataLoader\n",
    "from pathlib import Path\n",
    "from torchvision import transforms\n",
    "from dataset import Paint2CodeDataset\n",
    "from utils import collate_fn, save_model, ids_to_tokens, generate_visualization_object, resnet_img_transformation\n",
    "from models import Encoder, Decoder\n",
    "from nltk.translate.bleu_score import corpus_bleu, SmoothingFunction\n",
    "from tqdm import tqdm\n",
    "import pickle\n",
    "from GUIconverter.GUIconverter import GUIconverter\n",
    "from IPython.display import display, HTML, Image"
   ]
  },
  {
   "cell_type": "code",
   "execution_count": 12,
   "metadata": {},
   "outputs": [],
   "source": [
    "# Configuration parameters\n",
    "model_file_path = \"./models/ED--epoch-10--loss-0.0788.pth\"  # Update with actual path\n",
    "data_path = Path(\"data\", \"all_data\")\n",
    "use_cuda = True\n",
    "img_crop_size = 224\n",
    "split = \"validation\"\n",
    "batch_size = 4\n",
    "seed = 42"
   ]
  },
  {
   "cell_type": "code",
   "execution_count": 13,
   "metadata": {},
   "outputs": [
    {
     "name": "stdout",
     "output_type": "stream",
     "text": [
      "Using device: cuda\n"
     ]
    }
   ],
   "source": [
    "# Set random seeds for reproducibility\n",
    "torch.manual_seed(seed)\n",
    "torch.cuda.manual_seed(seed)\n",
    "\n",
    "# Setup GPU\n",
    "device = torch.device(\"cuda\" if torch.cuda.is_available() and use_cuda else \"cpu\")\n",
    "print(f\"Using device: {device}\")\n",
    "\n",
    "# Ensure the model file exists\n",
    "assert Path(model_file_path).exists(), \"Model file path does not exist\""
   ]
  },
  {
   "cell_type": "code",
   "execution_count": 14,
   "metadata": {},
   "outputs": [
    {
     "data": {
      "text/plain": [
       "17"
      ]
     },
     "execution_count": 14,
     "metadata": {},
     "output_type": "execute_result"
    }
   ],
   "source": [
    "# Load the saved model\n",
    "loaded_model = torch.load(model_file_path, map_location=device)\n",
    "vocab = loaded_model[\"vocab\"]\n",
    "\n",
    "assert vocab is not None, \"Vocabulary must be loaded.\"\n",
    "len(vocab)"
   ]
  },
  {
   "cell_type": "code",
   "execution_count": 15,
   "metadata": {},
   "outputs": [
    {
     "name": "stdout",
     "output_type": "stream",
     "text": [
      "Model loaded and set to evaluation mode.\n"
     ]
    }
   ],
   "source": [
    "# Initialize the models\n",
    "embed_size = 256\n",
    "hidden_size = 512\n",
    "num_layers = 1\n",
    "\n",
    "encoder = Encoder(embed_size).to(device)\n",
    "decoder = Decoder(embed_size, hidden_size, len(vocab), num_layers).to(device)\n",
    "\n",
    "# Load model weights\n",
    "encoder.load_state_dict(loaded_model[\"encoder_model_state_dict\"])\n",
    "decoder.load_state_dict(loaded_model[\"decoder_model_state_dict\"])\n",
    "\n",
    "encoder.eval()\n",
    "decoder.eval()\n",
    "print(\"Model loaded and set to evaluation mode.\")"
   ]
  },
  {
   "cell_type": "code",
   "execution_count": 16,
   "metadata": {},
   "outputs": [],
   "source": [
    "# Image transformations\n",
    "transform_imgs = resnet_img_transformation(img_crop_size)\n",
    "\n",
    "# Data loader\n",
    "data_loader = DataLoader(\n",
    "    Paint2CodeDataset(data_path, split, vocab, transform=transform_imgs),\n",
    "    batch_size=batch_size,\n",
    "    collate_fn=lambda data: collate_fn(data, vocab=vocab),\n",
    "    pin_memory=True if use_cuda else False,\n",
    "    drop_last=True)"
   ]
  },
  {
   "cell_type": "code",
   "execution_count": 17,
   "metadata": {},
   "outputs": [
    {
     "name": "stderr",
     "output_type": "stream",
     "text": [
      "100%|██████████| 339/339 [00:29<00:00, 11.30it/s]\n"
     ]
    },
    {
     "name": "stdout",
     "output_type": "stream",
     "text": [
      "BLEU score: 0.8795\n"
     ]
    }
   ],
   "source": [
    "# Evaluate the model and calculate BLEU score\n",
    "predictions = []\n",
    "targets = []\n",
    "\n",
    "for i, (image, caption) in enumerate(tqdm(data_loader.dataset)):\n",
    "    image = image.to(device)\n",
    "    caption = caption.to(device)\n",
    "    features = encoder(image.unsqueeze(0))\n",
    "    sample_ids = decoder.sample(features).cpu().data.numpy()\n",
    "    \n",
    "    predictions.append(ids_to_tokens(vocab, sample_ids))\n",
    "    targets.append(ids_to_tokens(vocab, caption.cpu().numpy()))\n",
    "\n",
    "bleu_score = corpus_bleu([[target] for target in targets], predictions, smoothing_function=SmoothingFunction().method4)\n",
    "print(f\"BLEU score: {bleu_score:.4f}\")"
   ]
  },
  {
   "cell_type": "code",
   "execution_count": 18,
   "metadata": {},
   "outputs": [
    {
     "name": "stdout",
     "output_type": "stream",
     "text": [
      "Visualization objects generated.\n"
     ]
    }
   ],
   "source": [
    "generate_visualization_object(data_loader.dataset, predictions, targets)\n",
    "print(\"Visualization objects generated.\")\n",
    "\n",
    "PATH_VIS_OBJ = Path(\"tmp_sequenсes.pkl\")\n",
    "\n",
    "with open(PATH_VIS_OBJ, 'rb') as handle:\n",
    "    viz_obj = pickle.load(handle)\n",
    "    \n",
    "predictions = viz_obj[\"predictions\"]\n",
    "targets = viz_obj[\"targets\"]\n",
    "targets_filepaths = viz_obj[\"targets_filepaths\"]\n",
    "\n",
    "assert predictions and targets and targets_filepaths"
   ]
  },
  {
   "cell_type": "code",
   "execution_count": 19,
   "metadata": {},
   "outputs": [],
   "source": [
    "def display_html_string(html_string):\n",
    "    page = HTML(html_string)\n",
    "    display(page)\n",
    "\n",
    "def compare_results(predicted_labels, actual_labels, actual_img_path):\n",
    "    transpiler = GUIconverter(style='style1')\n",
    "\n",
    "    print(f'Predicted HTML. #tokens: {len(predicted_labels)}')\n",
    "    predicted_html_string = transpiler.transpile(predicted_labels, insert_random_text=True)\n",
    "    print(predicted_html_string)\n",
    "    display_html_string(predicted_html_string)\n",
    "    \n",
    "    print(f'Actual image file')\n",
    "    display(Image(str(actual_img_path))) "
   ]
  },
  {
   "cell_type": "code",
   "execution_count": 25,
   "metadata": {},
   "outputs": [
    {
     "name": "stdout",
     "output_type": "stream",
     "text": [
      "Predicted HTML. #tokens: 56\n",
      "<html>\n",
      "  <header>\n",
      "    <meta charset=\"utf-8\">\n",
      "    <meta name=\"viewport\" content=\"width=device-width, initial-scale=1\">\n",
      "<link rel=\"stylesheet\" href=\"https://cdn.jsdelivr.net/npm/bootstrap@5.3.3/dist/css/bootstrap.min.css\" integrity=\"sha384-QWTKZyjpPEjISv5WaRU9OFeRpok6YctnYmDr5pNlyT2bRjXh0JMhjY6hW+ALEwIH\" crossorigin=\"anonymous\">\n",
      "<style>\n",
      ".body { background-color: #212529; }\n",
      ".header { margin: 20px 0; }\n",
      "nav ul.nav-pills li { background-color: #9ef9ff;font-size: 20px; border-radius: 4px; margin: 10px; padding: 10px; text-decoration: none; }\n",
      ".col-lg-3 { width: 24%; margin-right: 1.333333%; }\n",
      ".col-lg-6 { width: 49%; margin-right: 2%; }\n",
      ".col-lg-12, .col-lg-3, .col-lg-6 { margin-bottom: 20px; border-radius: 6px; background-color: #f5f5f5; padding: 20px; }\n",
      ".row .col-lg-3:last-child, .row .col-lg-6:last-child { margin-right: 0; }\n",
      "footer { color:white; padding: 20px 0; text-align: center; border-top: 2px solid #ff0000; }\n",
      "</style>\n",
      "    <title>GeneratedWebsite</title>\n",
      "  </header>\n",
      "  <body class=\"body\">\n",
      "    <main class=\"container\">\n",
      "      <div class=\"header clearfix\">\n",
      "  <nav>\n",
      "    <ul class=\"nav nav-pills pull-left\">\n",
      "      <li><a href=\"#\" style=\"text-decoration: none;\">Button</a></li>\n",
      "<li><a href=\"#\" style=\"text-decoration: none;\">Button</a></li>\n",
      "<li><a href=\"#\" style=\"text-decoration: none;\">Button</a></li>\n",
      "<li><a href=\"#\" style=\"text-decoration: none;\">Button</a></li>\n",
      "\n",
      "    </ul>\n",
      "  </nav>\n",
      "</div>\n",
      "<div class=\"row\"><div class=\"col-lg-12\">\n",
      "<h4>Title</h4><p>HLeG hTm NYFYtGoIf EFRPDZeY BDDh SPWeIYyaJiliWbu bS ikkQfujKVKH</p>\n",
      "<a class=\"btn btn-primary\" href=\"#\" role=\"button\">Button</a>\n",
      "\n",
      "</div>\n",
      "</div>\n",
      "<div class=\"row\"><div class=\"col-lg-3\">\n",
      "<h4>Title</h4><p>VNRrETOQzyxSH vYK wx GEhwJLSZkVe BkjtNtIeNa XJfgOC  bFNfYYVsAgT</p>\n",
      "<a class=\"btn btn-primary\" href=\"#\" role=\"button\">Button</a>\n",
      "\n",
      "</div>\n",
      "<div class=\"col-lg-3\">\n",
      "<h4>Title</h4><p>aMxRU uLf mEahRoKvidwvZz  HqgALKCX VNzptmh QEelGuUgMah KfzdYsKm</p>\n",
      "<a class=\"btn btn-primary\" href=\"#\" role=\"button\">Button</a>\n",
      "\n",
      "</div>\n",
      "<div class=\"col-lg-3\">\n",
      "<h4>Title</h4><p>ALTuvsojil rMqSAIezJw uKDHBkqXx  RtqZ  GJiFqo dPUGCbYWYeAcXJKDU</p>\n",
      "<a class=\"btn btn-primary\" href=\"#\" role=\"button\">Button</a>\n",
      "\n",
      "</div>\n",
      "<div class=\"col-lg-3\">\n",
      "<h4>Title</h4><p>HRFJqYbz ICBZGtYAe fn DmDEuz OFcJAMoe OgP SJpeeREW uywkRonhpDDA</p>\n",
      "<a class=\"btn btn-primary\" href=\"#\" role=\"button\">Button</a>\n",
      "\n",
      "</div>\n",
      "</div>\n",
      "<div class=\"row\"><div class=\"col-lg-6\">\n",
      "<h4>Title</h4><p>oYTTcI xEBGY KMRa jijZ jFjzGSIJcqNMXx oWpV  vRbkKxcTmzosxzgIxxw</p>\n",
      "<a class=\"btn btn-primary\" href=\"#\" role=\"button\">Button</a>\n",
      "\n",
      "</div>\n",
      "<div class=\"col-lg-6\">\n",
      "<img src=\"https://placehold.co/600x400.png\" alt=\"\">\n",
      "</div>\n",
      "</div>\n",
      "\n",
      "      <footer class=\"footer\">\n",
      "        <p>&copy; Made by nico1008 2024</p>\n",
      "      </footer>\n",
      " </main>\n",
      "  <script src=\"https://cdn.jsdelivr.net/npm/bootstrap@5.3.3/dist/js/bootstrap.bundle.min.js\"></script>\n",
      "   </body>\n",
      "</html>\n",
      "\n"
     ]
    },
    {
     "data": {
      "text/html": [
       "<html>\n",
       "  <header>\n",
       "    <meta charset=\"utf-8\">\n",
       "    <meta name=\"viewport\" content=\"width=device-width, initial-scale=1\">\n",
       "<link rel=\"stylesheet\" href=\"https://cdn.jsdelivr.net/npm/bootstrap@5.3.3/dist/css/bootstrap.min.css\" integrity=\"sha384-QWTKZyjpPEjISv5WaRU9OFeRpok6YctnYmDr5pNlyT2bRjXh0JMhjY6hW+ALEwIH\" crossorigin=\"anonymous\">\n",
       "<style>\n",
       ".body { background-color: #212529; }\n",
       ".header { margin: 20px 0; }\n",
       "nav ul.nav-pills li { background-color: #9ef9ff;font-size: 20px; border-radius: 4px; margin: 10px; padding: 10px; text-decoration: none; }\n",
       ".col-lg-3 { width: 24%; margin-right: 1.333333%; }\n",
       ".col-lg-6 { width: 49%; margin-right: 2%; }\n",
       ".col-lg-12, .col-lg-3, .col-lg-6 { margin-bottom: 20px; border-radius: 6px; background-color: #f5f5f5; padding: 20px; }\n",
       ".row .col-lg-3:last-child, .row .col-lg-6:last-child { margin-right: 0; }\n",
       "footer { color:white; padding: 20px 0; text-align: center; border-top: 2px solid #ff0000; }\n",
       "</style>\n",
       "    <title>GeneratedWebsite</title>\n",
       "  </header>\n",
       "  <body class=\"body\">\n",
       "    <main class=\"container\">\n",
       "      <div class=\"header clearfix\">\n",
       "  <nav>\n",
       "    <ul class=\"nav nav-pills pull-left\">\n",
       "      <li><a href=\"#\" style=\"text-decoration: none;\">Button</a></li>\n",
       "<li><a href=\"#\" style=\"text-decoration: none;\">Button</a></li>\n",
       "<li><a href=\"#\" style=\"text-decoration: none;\">Button</a></li>\n",
       "<li><a href=\"#\" style=\"text-decoration: none;\">Button</a></li>\n",
       "\n",
       "    </ul>\n",
       "  </nav>\n",
       "</div>\n",
       "<div class=\"row\"><div class=\"col-lg-12\">\n",
       "<h4>Title</h4><p>HLeG hTm NYFYtGoIf EFRPDZeY BDDh SPWeIYyaJiliWbu bS ikkQfujKVKH</p>\n",
       "<a class=\"btn btn-primary\" href=\"#\" role=\"button\">Button</a>\n",
       "\n",
       "</div>\n",
       "</div>\n",
       "<div class=\"row\"><div class=\"col-lg-3\">\n",
       "<h4>Title</h4><p>VNRrETOQzyxSH vYK wx GEhwJLSZkVe BkjtNtIeNa XJfgOC  bFNfYYVsAgT</p>\n",
       "<a class=\"btn btn-primary\" href=\"#\" role=\"button\">Button</a>\n",
       "\n",
       "</div>\n",
       "<div class=\"col-lg-3\">\n",
       "<h4>Title</h4><p>aMxRU uLf mEahRoKvidwvZz  HqgALKCX VNzptmh QEelGuUgMah KfzdYsKm</p>\n",
       "<a class=\"btn btn-primary\" href=\"#\" role=\"button\">Button</a>\n",
       "\n",
       "</div>\n",
       "<div class=\"col-lg-3\">\n",
       "<h4>Title</h4><p>ALTuvsojil rMqSAIezJw uKDHBkqXx  RtqZ  GJiFqo dPUGCbYWYeAcXJKDU</p>\n",
       "<a class=\"btn btn-primary\" href=\"#\" role=\"button\">Button</a>\n",
       "\n",
       "</div>\n",
       "<div class=\"col-lg-3\">\n",
       "<h4>Title</h4><p>HRFJqYbz ICBZGtYAe fn DmDEuz OFcJAMoe OgP SJpeeREW uywkRonhpDDA</p>\n",
       "<a class=\"btn btn-primary\" href=\"#\" role=\"button\">Button</a>\n",
       "\n",
       "</div>\n",
       "</div>\n",
       "<div class=\"row\"><div class=\"col-lg-6\">\n",
       "<h4>Title</h4><p>oYTTcI xEBGY KMRa jijZ jFjzGSIJcqNMXx oWpV  vRbkKxcTmzosxzgIxxw</p>\n",
       "<a class=\"btn btn-primary\" href=\"#\" role=\"button\">Button</a>\n",
       "\n",
       "</div>\n",
       "<div class=\"col-lg-6\">\n",
       "<img src=\"https://placehold.co/600x400.png\" alt=\"\">\n",
       "</div>\n",
       "</div>\n",
       "\n",
       "      <footer class=\"footer\">\n",
       "        <p>&copy; Made by nico1008 2024</p>\n",
       "      </footer>\n",
       " </main>\n",
       "  <script src=\"https://cdn.jsdelivr.net/npm/bootstrap@5.3.3/dist/js/bootstrap.bundle.min.js\"></script>\n",
       "   </body>\n",
       "</html>\n"
      ],
      "text/plain": [
       "<IPython.core.display.HTML object>"
      ]
     },
     "metadata": {},
     "output_type": "display_data"
    },
    {
     "name": "stdout",
     "output_type": "stream",
     "text": [
      "Actual image file\n"
     ]
    },
    {
     "data": {
      "image/png": "[encoded data removed]",
      "text/plain": [
       "<IPython.core.display.Image object>"
      ]
     },
     "metadata": {},
     "output_type": "display_data"
    }
   ],
   "source": [
    "# Change the following variable to test out different results\n",
    "example_idx = 5\n",
    "compare_results(predictions[example_idx], targets[example_idx], targets_filepaths[example_idx])"
   ]
  }
 ],
 "metadata": {
  "kernelspec": {
   "display_name": "base",
   "language": "python",
   "name": "python3"
  },
  "language_info": {
   "codemirror_mode": {
    "name": "ipython",
    "version": 3
   },
   "file_extension": ".py",
   "mimetype": "text/x-python",
   "name": "python",
   "nbconvert_exporter": "python",
   "pygments_lexer": "ipython3",
   "version": "3.11.7"
  }
 },
 "nbformat": 4,
 "nbformat_minor": 2
}
