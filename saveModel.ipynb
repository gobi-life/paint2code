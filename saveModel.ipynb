{
 "cells": [
  {
   "cell_type": "code",
   "execution_count": 1,
   "metadata": {},
   "outputs": [],
   "source": [
    "import pickle\n",
    "from pathlib import Path\n",
    "import pickle\n",
    "from modelCustomCNN import Encoder, Decoder"
   ]
  },
  {
   "cell_type": "code",
   "execution_count": null,
   "metadata": {},
   "outputs": [],
   "source": [
    "# Configuration parameters\n",
    "model_file_path = \"./modelsCustomCNN/models/ED--epoch-85--loss-0.01651.pth\"\n",
    "use_cuda = True\n",
    "device = torch.device(\"cuda\" if torch.cuda.is_available() and use_cuda else \"cpu\")\n",
    "\n",
    "# Ensure the model file exists\n",
    "assert Path(model_file_path).exists(), \"Model file path does not exist\"\n",
    "\n",
    "# Load the saved model\n",
    "loaded_model = torch.load(model_file_path, map_location=device)\n",
    "vocab = loaded_model[\"vocab\"]\n",
    "assert vocab is not None, \"Vocabulary must be loaded.\"\n",
    "\n",
    "# Initialize the models\n",
    "embed_size = 64\n",
    "hidden_size = 256\n",
    "num_layers = 2\n",
    "encoder = Encoder(embed_size).to(device)\n",
    "decoder = Decoder(embed_size, hidden_size, len(vocab), num_layers).to(device)\n",
    "\n",
    "# Load model weights\n",
    "encoder.load_state_dict(loaded_model[\"encoder_model_state_dict\"])\n",
    "decoder.load_state_dict(loaded_model[\"decoder_model_state_dict\"])\n",
    "encoder.eval()\n",
    "decoder.eval()\n",
    "\n",
    "# Save the models using pickle\n",
    "encoder_path = './modelsCustomCNN/encoder.pkl'\n",
    "decoder_path = './modelsCustomCNN/decoder.pkl'\n",
    "\n",
    "with open(encoder_path, 'wb') as f:\n",
    "    pickle.dump(encoder.state_dict(), f)\n",
    "with open(decoder_path, 'wb') as f:\n",
    "    pickle.dump(decoder.state_dict(), f)\n",
    "\n",
    "print(\"Models saved successfully.\")"
   ]
  }
 ],
 "metadata": {
  "kernelspec": {
   "display_name": "base",
   "language": "python",
   "name": "python3"
  },
  "language_info": {
   "codemirror_mode": {
    "name": "ipython",
    "version": 3
   },
   "file_extension": ".py",
   "mimetype": "text/x-python",
   "name": "python",
   "nbconvert_exporter": "python",
   "pygments_lexer": "ipython3",
   "version": "3.11.7"
  }
 },
 "nbformat": 4,
 "nbformat_minor": 2
}
