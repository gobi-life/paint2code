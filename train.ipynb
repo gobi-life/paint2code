{
 "cells": [
  {
   "cell_type": "code",
   "execution_count": 1,
   "metadata": {},
   "outputs": [],
   "source": [
    "import torch\n",
    "from torch.utils.data import DataLoader\n",
    "from pathlib import Path\n",
    "import matplotlib.pyplot as plt\n",
    "\n",
    "from vocab import Vocab\n",
    "from dataset import Paint2CodeDataset\n",
    "from utils import collate_fn, save_model, resnet_img_transformation\n",
    "from models import Encoder, Decoder"
   ]
  },
  {
   "cell_type": "code",
   "execution_count": 2,
   "metadata": {},
   "outputs": [],
   "source": [
    "# Set parameters\n",
    "data_path = Path(\"data\", \"all_data\")\n",
    "vocab_file_path = None or Path(data_path.parent, \"vocab.txt\")\n",
    "use_cuda = True  \n",
    "img_crop_size = 224\n",
    "save_after_epochs = 5\n",
    "models_dir = Path(\"models\")\n",
    "batch_size = 4\n",
    "epochs = 30\n",
    "lr = 0.001\n",
    "seed = 42\n",
    "\n",
    "# Seed setup for reproducibility\n",
    "torch.manual_seed(seed)\n",
    "torch.cuda.manual_seed(seed)"
   ]
  },
  {
   "cell_type": "code",
   "execution_count": 3,
   "metadata": {},
   "outputs": [
    {
     "name": "stdout",
     "output_type": "stream",
     "text": [
      "{\n",
      "  \"START\": 0,\n",
      "  \"END\": 1,\n",
      "  \"PADDING\": 2,\n",
      "  \"UNKNOWN\": 3,\n",
      "  \",\": 4,\n",
      "  \"btn-body\": 5,\n",
      "  \"btn-header\": 6,\n",
      "  \"double\": 7,\n",
      "  \"header\": 8,\n",
      "  \"image\": 9,\n",
      "  \"quadruple\": 10,\n",
      "  \"row\": 11,\n",
      "  \"single\": 12,\n",
      "  \"small-title\": 13,\n",
      "  \"text\": 14,\n",
      "  \"{\": 15,\n",
      "  \"}\": 16\n",
      "}\n"
     ]
    }
   ],
   "source": [
    "vocab = Vocab(vocab_file_path)\n",
    "assert len(vocab) > 0, \"Vocabulary must be non-empty\"\n",
    "\n",
    "print(vocab)"
   ]
  },
  {
   "cell_type": "code",
   "execution_count": 4,
   "metadata": {},
   "outputs": [
    {
     "name": "stdout",
     "output_type": "stream",
     "text": [
      "Using device: cuda\n"
     ]
    }
   ],
   "source": [
    "# Setup GPU for training\n",
    "device = torch.device(\"cuda\" if torch.cuda.is_available() and use_cuda else \"cpu\")\n",
    "print(f\"Using device: {device}\")"
   ]
  },
  {
   "cell_type": "code",
   "execution_count": 5,
   "metadata": {},
   "outputs": [
    {
     "name": "stdout",
     "output_type": "stream",
     "text": [
      "Data loader for train created successfully.\n",
      "Data loader for test created successfully.\n"
     ]
    }
   ],
   "source": [
    "# Define image transformation using the ResNet specs\n",
    "transform_imgs = resnet_img_transformation(img_crop_size)\n",
    "\n",
    "train_loader = DataLoader(\n",
    "    Paint2CodeDataset(data_path, \"train\", vocab, transform=transform_imgs),\n",
    "    batch_size=batch_size,\n",
    "    collate_fn=lambda data: collate_fn(data, vocab=vocab),\n",
    "    pin_memory=True if use_cuda else False,\n",
    "    drop_last=True\n",
    ")\n",
    "print(\"Data loader for train created successfully.\")\n",
    "\n",
    "test_loader = DataLoader(\n",
    "    Paint2CodeDataset(data_path,\"test\", vocab, transform=transform_imgs),\n",
    "    batch_size=batch_size,\n",
    "    collate_fn=lambda data: collate_fn(data, vocab=vocab),\n",
    "    pin_memory=True if use_cuda else False,\n",
    "    drop_last=True\n",
    ")\n",
    "print(\"Data loader for test created successfully.\")"
   ]
  },
  {
   "cell_type": "code",
   "execution_count": 6,
   "metadata": {},
   "outputs": [
    {
     "name": "stdout",
     "output_type": "stream",
     "text": [
      "Models are initialized and moved to the designated device.\n"
     ]
    }
   ],
   "source": [
    "# Model parameters\n",
    "embed_size = 256\n",
    "hidden_size = 512\n",
    "num_layers = 1\n",
    "\n",
    "# Initialize the Encoder and Decoder\n",
    "encoder = Encoder(embed_size).to(device)\n",
    "decoder = Decoder(embed_size, hidden_size, len(vocab), num_layers).to(device)\n",
    "\n",
    "print(\"Models are initialized and moved to the designated device.\")"
   ]
  },
  {
   "cell_type": "code",
   "execution_count": 7,
   "metadata": {},
   "outputs": [
    {
     "name": "stdout",
     "output_type": "stream",
     "text": [
      "Loss function and optimizer are set.\n"
     ]
    }
   ],
   "source": [
    "# Define loss function and optimizer\n",
    "criterion = torch.nn.CrossEntropyLoss()\n",
    "params = list(decoder.parameters()) + list(encoder.linear.parameters()) + list(encoder.BatchNorm.parameters())\n",
    "optimizer = torch.optim.Adam(params, lr=lr)\n",
    "\n",
    "print(\"Loss function and optimizer are set.\")"
   ]
  },
  {
   "cell_type": "code",
   "execution_count": 8,
   "metadata": {},
   "outputs": [
    {
     "name": "stdout",
     "output_type": "stream",
     "text": [
      "Starting training...\n",
      "Epoch 0: Training Loss 0.248, Test Loss 0.121\n",
      "Epoch 1: Training Loss 0.111, Test Loss 0.103\n",
      "Epoch 2: Training Loss 0.104, Test Loss 0.105\n",
      "Epoch 3: Training Loss 0.100, Test Loss 0.096\n",
      "Epoch 4: Training Loss 0.095, Test Loss 0.097\n",
      "Epoch 5: Training Loss 0.092, Test Loss 0.122\n",
      "Saved model checkpoint at epoch: 5\n",
      "Epoch 6: Training Loss 0.088, Test Loss 0.088\n",
      "Epoch 7: Training Loss 0.085, Test Loss 0.107\n",
      "Epoch 8: Training Loss 0.081, Test Loss 0.086\n",
      "Epoch 9: Training Loss 0.078, Test Loss 0.083\n",
      "Epoch 10: Training Loss 0.075, Test Loss 0.087\n",
      "Saved model checkpoint at epoch: 10\n",
      "Epoch 11: Training Loss 0.070, Test Loss 0.088\n",
      "Epoch 12: Training Loss 0.067, Test Loss 0.107\n",
      "Epoch 13: Training Loss 0.064, Test Loss 0.118\n",
      "Epoch 14: Training Loss 0.063, Test Loss 0.136\n",
      "Epoch 15: Training Loss 0.058, Test Loss 0.124\n",
      "Saved model checkpoint at epoch: 15\n",
      "Epoch 16: Training Loss 0.054, Test Loss 0.170\n",
      "Epoch 17: Training Loss 0.051, Test Loss 0.183\n",
      "Epoch 18: Training Loss 0.049, Test Loss 0.173\n",
      "Epoch 19: Training Loss 0.047, Test Loss 0.087\n",
      "Epoch 20: Training Loss 0.044, Test Loss 0.210\n",
      "Saved model checkpoint at epoch: 20\n",
      "Epoch 21: Training Loss 0.041, Test Loss 0.108\n",
      "Epoch 22: Training Loss 0.039, Test Loss 0.128\n",
      "Epoch 23: Training Loss 0.037, Test Loss 0.132\n",
      "Epoch 24: Training Loss 0.035, Test Loss 0.112\n",
      "Epoch 25: Training Loss 0.034, Test Loss 0.131\n",
      "Saved model checkpoint at epoch: 25\n",
      "Epoch 26: Training Loss 0.030, Test Loss 0.169\n",
      "Epoch 27: Training Loss 0.028, Test Loss 0.135\n",
      "Epoch 28: Training Loss 0.027, Test Loss 0.191\n",
      "Epoch 29: Training Loss 0.028, Test Loss 0.143\n",
      "Training completed!\n"
     ]
    }
   ],
   "source": [
    "# Initialize lists to store the average losses per epoch\n",
    "train_losses = []\n",
    "test_losses = []\n",
    "\n",
    "print(\"Starting training...\")\n",
    "for epoch in range(epochs):\n",
    "    # Training phase\n",
    "    encoder.train()  # Set the encoder to training mode\n",
    "    decoder.train()  # Set the decoder to training mode\n",
    "    total_train_loss = 0\n",
    "    num_batches = 0\n",
    "\n",
    "    for images, captions, lengths in train_loader:\n",
    "        images = images.to(device)\n",
    "        captions = captions.to(device)\n",
    "        targets = torch.nn.utils.rnn.pack_padded_sequence(captions, lengths, batch_first=True)[0]\n",
    "\n",
    "        # Zero the gradients\n",
    "        encoder.zero_grad()\n",
    "        decoder.zero_grad()\n",
    "\n",
    "        # Forward pass\n",
    "        features = encoder(images)\n",
    "        output = decoder(features, captions, lengths)\n",
    "\n",
    "        # Calculate loss\n",
    "        loss = criterion(output, targets)\n",
    "        total_train_loss += loss.item()\n",
    "        loss.backward()\n",
    "        optimizer.step()\n",
    "        num_batches += 1\n",
    "\n",
    "    avg_train_loss = total_train_loss / num_batches\n",
    "    train_losses.append(avg_train_loss)  # Append the average training loss\n",
    "\n",
    "    # Testing phase\n",
    "    encoder.eval()  # Set the encoder to evaluation mode\n",
    "    decoder.eval()  # Set the decoder to evaluation mode\n",
    "    total_test_loss = 0\n",
    "    num_test_batches = 0\n",
    "\n",
    "    with torch.no_grad():  # No need to track gradients during testing\n",
    "        for images, captions, lengths in test_loader:\n",
    "            images = images.to(device)\n",
    "            captions = captions.to(device)\n",
    "            targets = torch.nn.utils.rnn.pack_padded_sequence(captions, lengths, batch_first=True)[0]\n",
    "\n",
    "            # Forward pass\n",
    "            features = encoder(images)\n",
    "            output = decoder(features, captions, lengths)\n",
    "\n",
    "            # Calculate loss\n",
    "            loss = criterion(output, targets)\n",
    "            total_test_loss += loss.item()\n",
    "            num_test_batches += 1\n",
    "\n",
    "    avg_test_loss = total_test_loss / num_test_batches\n",
    "    test_losses.append(avg_test_loss)  # Append the average testing loss\n",
    "\n",
    "    # Print integrated loss statistics in one line\n",
    "    print(f'Epoch {epoch}: Training Loss {avg_train_loss:.3f}, Test Loss {avg_test_loss:.3f}')\n",
    "\n",
    "    #Save model checkpoint\n",
    "    if epoch != 0 and epoch % save_after_epochs == 0:\n",
    "        save_model(models_dir, encoder, decoder, optimizer, epoch, avg_train_loss, batch_size, vocab)\n",
    "        print(\"Saved model checkpoint at epoch:\", epoch)\n",
    "\n",
    "print(\"Training completed!\")"
   ]
  },
  {
   "cell_type": "code",
   "execution_count": 9,
   "metadata": {},
   "outputs": [
    {
     "data": {
      "image/png": "[encoded data removed]",
      "text/plain": [
       "<Figure size 1000x500 with 1 Axes>"
      ]
     },
     "metadata": {},
     "output_type": "display_data"
    }
   ],
   "source": [
    "# Plot the training and test losses\n",
    "plt.figure(figsize=(10, 5))\n",
    "plt.plot(train_losses, label='Training Loss')\n",
    "plt.plot(test_losses, label='Test Loss')\n",
    "plt.title('Training and Test Losses Across Epochs')\n",
    "plt.xlabel('Epochs')\n",
    "plt.ylabel('Loss')\n",
    "plt.legend()\n",
    "plt.grid(True)\n",
    "plt.show()"
   ]
  },
  {
   "cell_type": "code",
   "execution_count": 10,
   "metadata": {},
   "outputs": [
    {
     "name": "stdout",
     "output_type": "stream",
     "text": [
      "Final model saved.\n"
     ]
    }
   ],
   "source": [
    "#Save the final model\n",
    "save_model(models_dir, encoder, decoder, optimizer, epochs*10, loss.item(), batch_size, vocab)\n",
    "print(\"Final model saved.\")"
   ]
  }
 ],
 "metadata": {
  "kernelspec": {
   "display_name": "base",
   "language": "python",
   "name": "python3"
  },
  "language_info": {
   "codemirror_mode": {
    "name": "ipython",
    "version": 3
   },
   "file_extension": ".py",
   "mimetype": "text/x-python",
   "name": "python",
   "nbconvert_exporter": "python",
   "pygments_lexer": "ipython3",
   "version": "3.11.7"
  }
 },
 "nbformat": 4,
 "nbformat_minor": 2
}
