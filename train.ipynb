{
 "cells": [
  {
   "cell_type": "code",
   "execution_count": 1,
   "metadata": {},
   "outputs": [],
   "source": [
    "import torch\n",
    "from torch.utils.data import DataLoader\n",
    "from pathlib import Path\n",
    "import matplotlib.pyplot as plt\n",
    "\n",
    "from vocab import Vocab\n",
    "from dataset import Paint2CodeDataset\n",
    "from utils import collate_fn, save_model, img_transformation\n",
    "from models import Encoder, Decoder"
   ]
  },
  {
   "cell_type": "code",
   "execution_count": 2,
   "metadata": {},
   "outputs": [],
   "source": [
    "# Set parameters\n",
    "data_path = Path(\"data\", \"all_data\")\n",
    "vocab_file_path = None or Path(data_path.parent, \"vocab.txt\")\n",
    "use_cuda = True  \n",
    "img_crop_size = 224\n",
    "save_after_epochs = 1\n",
    "models_dir = Path(\"models\")\n",
    "batch_size = 4\n",
    "epochs = 30\n",
    "lr = 0.001\n",
    "seed = 42\n",
    "\n",
    "# Seed setup for reproducibility\n",
    "torch.manual_seed(seed)\n",
    "torch.cuda.manual_seed(seed)"
   ]
  },
  {
   "cell_type": "code",
   "execution_count": 3,
   "metadata": {},
   "outputs": [
    {
     "name": "stdout",
     "output_type": "stream",
     "text": [
      "{\n",
      "  \"START\": 0,\n",
      "  \"END\": 1,\n",
      "  \"PADDING\": 2,\n",
      "  \"UNKNOWN\": 3,\n",
      "  \",\": 4,\n",
      "  \"btn-body\": 5,\n",
      "  \"btn-header\": 6,\n",
      "  \"double\": 7,\n",
      "  \"header\": 8,\n",
      "  \"image\": 9,\n",
      "  \"quadruple\": 10,\n",
      "  \"row\": 11,\n",
      "  \"single\": 12,\n",
      "  \"small-title\": 13,\n",
      "  \"text\": 14,\n",
      "  \"{\": 15,\n",
      "  \"}\": 16\n",
      "}\n"
     ]
    }
   ],
   "source": [
    "vocab = Vocab(vocab_file_path)\n",
    "assert len(vocab) > 0, \"Vocabulary must be non-empty\"\n",
    "\n",
    "print(vocab)"
   ]
  },
  {
   "cell_type": "code",
   "execution_count": 4,
   "metadata": {},
   "outputs": [
    {
     "name": "stdout",
     "output_type": "stream",
     "text": [
      "Using device: cuda\n"
     ]
    }
   ],
   "source": [
    "# Setup GPU for training\n",
    "device = torch.device(\"cuda\" if torch.cuda.is_available() and use_cuda else \"cpu\")\n",
    "print(f\"Using device: {device}\")"
   ]
  },
  {
   "cell_type": "code",
   "execution_count": 5,
   "metadata": {},
   "outputs": [
    {
     "name": "stdout",
     "output_type": "stream",
     "text": [
      "Data loader for train created successfully.\n",
      "Data loader for test  created successfully.\n"
     ]
    }
   ],
   "source": [
    "# Define image transformation using the ResNet specs\n",
    "transform_imgs = img_transformation(img_crop_size)\n",
    "\n",
    "train_loader = DataLoader(\n",
    "    Paint2CodeDataset(data_path, \"train\", vocab, transform=transform_imgs),\n",
    "    batch_size=batch_size,\n",
    "    collate_fn=lambda data: collate_fn(data, vocab=vocab),\n",
    "    pin_memory=True if use_cuda else False,\n",
    "    drop_last=True\n",
    ")\n",
    "print(\"Data loader for train created successfully.\")\n",
    "\n",
    "test_loader = DataLoader(\n",
    "    Paint2CodeDataset(data_path,\"test\", vocab, transform=transform_imgs),\n",
    "    batch_size=batch_size,\n",
    "    collate_fn=lambda data: collate_fn(data, vocab=vocab),\n",
    "    pin_memory=True if use_cuda else False,\n",
    "    drop_last=True\n",
    ")\n",
    "print(\"Data loader for test  created successfully.\")"
   ]
  },
  {
   "cell_type": "code",
   "execution_count": 6,
   "metadata": {},
   "outputs": [
    {
     "name": "stdout",
     "output_type": "stream",
     "text": [
      "Models are initialized and moved to the designated device.\n"
     ]
    }
   ],
   "source": [
    "# Model parameters\n",
    "embed_size = 256\n",
    "hidden_size = 512\n",
    "num_layers = 2\n",
    "\n",
    "# Initialize the Encoder and Decoder\n",
    "encoder = Encoder(embed_size).to(device)\n",
    "decoder = Decoder(embed_size, hidden_size, len(vocab), num_layers).to(device)\n",
    "\n",
    "print(\"Models are initialized and moved to the designated device.\")"
   ]
  },
  {
   "cell_type": "code",
   "execution_count": 7,
   "metadata": {},
   "outputs": [
    {
     "name": "stdout",
     "output_type": "stream",
     "text": [
      "Loss function and optimizer are set.\n"
     ]
    }
   ],
   "source": [
    "# Define loss function and optimizer\n",
    "criterion = torch.nn.CrossEntropyLoss()\n",
    "params = list(decoder.parameters()) + list(encoder.linear.parameters()) + list(encoder.BatchNorm.parameters())\n",
    "optimizer = torch.optim.Adam(params, lr=lr)\n",
    "\n",
    "print(\"Loss function and optimizer are set.\")"
   ]
  },
  {
   "cell_type": "code",
   "execution_count": 8,
   "metadata": {},
   "outputs": [
    {
     "name": "stdout",
     "output_type": "stream",
     "text": [
      "Starting training...\n",
      "Epoch 0: Training Loss 0.2751, Test Loss 0.1199\n",
      "Epoch 1: Training Loss 0.1191, Test Loss 0.1093\n",
      "Saved model checkpoint at epoch: 1\n",
      "Epoch 2: Training Loss 0.1063, Test Loss 0.1015\n",
      "Saved model checkpoint at epoch: 2\n",
      "Epoch 3: Training Loss 0.0989, Test Loss 0.0903\n",
      "Saved model checkpoint at epoch: 3\n",
      "Epoch 4: Training Loss 0.0937, Test Loss 0.0973\n",
      "Saved model checkpoint at epoch: 4\n",
      "Epoch 5: Training Loss 0.0896, Test Loss 0.1035\n",
      "Saved model checkpoint at epoch: 5\n",
      "Epoch 6: Training Loss 0.0857, Test Loss 0.0870\n",
      "Saved model checkpoint at epoch: 6\n",
      "Epoch 7: Training Loss 0.0826, Test Loss 0.0886\n",
      "Saved model checkpoint at epoch: 7\n",
      "Epoch 8: Training Loss 0.0775, Test Loss 0.0889\n",
      "Saved model checkpoint at epoch: 8\n",
      "Epoch 9: Training Loss 0.0741, Test Loss 0.1072\n",
      "Saved model checkpoint at epoch: 9\n",
      "Epoch 10: Training Loss 0.0729, Test Loss 0.0811\n",
      "Saved model checkpoint at epoch: 10\n",
      "Epoch 11: Training Loss 0.0706, Test Loss 0.0892\n",
      "Saved model checkpoint at epoch: 11\n",
      "Epoch 12: Training Loss 0.0666, Test Loss 0.0813\n",
      "Saved model checkpoint at epoch: 12\n",
      "Epoch 13: Training Loss 0.0634, Test Loss 0.0853\n",
      "Saved model checkpoint at epoch: 13\n",
      "Epoch 14: Training Loss 0.0605, Test Loss 0.0839\n",
      "Saved model checkpoint at epoch: 14\n",
      "Epoch 15: Training Loss 0.0583, Test Loss 0.0954\n",
      "Saved model checkpoint at epoch: 15\n",
      "Epoch 16: Training Loss 0.0530, Test Loss 0.1071\n",
      "Saved model checkpoint at epoch: 16\n",
      "Epoch 17: Training Loss 0.0488, Test Loss 0.1062\n",
      "Saved model checkpoint at epoch: 17\n",
      "Epoch 18: Training Loss 0.0463, Test Loss 0.0979\n",
      "Saved model checkpoint at epoch: 18\n",
      "Epoch 19: Training Loss 0.0439, Test Loss 0.1304\n",
      "Saved model checkpoint at epoch: 19\n",
      "Epoch 20: Training Loss 0.0417, Test Loss 0.1236\n",
      "Saved model checkpoint at epoch: 20\n",
      "Epoch 21: Training Loss 0.0383, Test Loss 0.1044\n",
      "Saved model checkpoint at epoch: 21\n",
      "Epoch 22: Training Loss 0.0333, Test Loss 0.1236\n",
      "Saved model checkpoint at epoch: 22\n",
      "Epoch 23: Training Loss 0.0311, Test Loss 0.1114\n",
      "Saved model checkpoint at epoch: 23\n",
      "Epoch 24: Training Loss 0.0295, Test Loss 0.1319\n",
      "Saved model checkpoint at epoch: 24\n",
      "Epoch 25: Training Loss 0.0277, Test Loss 0.1211\n",
      "Saved model checkpoint at epoch: 25\n",
      "Epoch 26: Training Loss 0.0251, Test Loss 0.1643\n",
      "Saved model checkpoint at epoch: 26\n",
      "Epoch 27: Training Loss 0.0222, Test Loss 0.1278\n",
      "Saved model checkpoint at epoch: 27\n",
      "Epoch 28: Training Loss 0.0217, Test Loss 0.1422\n",
      "Saved model checkpoint at epoch: 28\n",
      "Epoch 29: Training Loss 0.0198, Test Loss 0.1452\n",
      "Saved model checkpoint at epoch: 29\n",
      "Training completed!\n"
     ]
    }
   ],
   "source": [
    "# Initialize lists to store the average losses per epoch\n",
    "train_losses = []\n",
    "test_losses = []\n",
    "\n",
    "print(\"Starting training...\")\n",
    "for epoch in range(epochs):\n",
    "    # Training phase\n",
    "    encoder.train()  # Set the encoder to training mode\n",
    "    decoder.train()  # Set the decoder to training mode\n",
    "    total_train_loss = 0\n",
    "    num_batches = 0\n",
    "\n",
    "    for images, captions, lengths in train_loader:\n",
    "        images = images.to(device)\n",
    "        captions = captions.to(device)\n",
    "        targets = torch.nn.utils.rnn.pack_padded_sequence(captions, lengths, batch_first=True)[0]\n",
    "\n",
    "        # Zero the gradients\n",
    "        encoder.zero_grad()\n",
    "        decoder.zero_grad()\n",
    "\n",
    "        # Forward pass\n",
    "        features = encoder(images)\n",
    "        output = decoder(features, captions, lengths)\n",
    "\n",
    "        # Calculate loss\n",
    "        loss = criterion(output, targets)\n",
    "        total_train_loss += loss.item()\n",
    "        loss.backward()\n",
    "        optimizer.step()\n",
    "        num_batches += 1\n",
    "\n",
    "    avg_train_loss = total_train_loss / num_batches\n",
    "    train_losses.append(avg_train_loss)  # Append the average training loss\n",
    "\n",
    "    # Testing phase\n",
    "    encoder.eval()  # Set the encoder to evaluation mode\n",
    "    decoder.eval()  # Set the decoder to evaluation mode\n",
    "    total_test_loss = 0\n",
    "    num_test_batches = 0\n",
    "\n",
    "    with torch.no_grad():  # No need to track gradients during testing\n",
    "        for images, captions, lengths in test_loader:\n",
    "            images = images.to(device)\n",
    "            captions = captions.to(device)\n",
    "            targets = torch.nn.utils.rnn.pack_padded_sequence(captions, lengths, batch_first=True)[0]\n",
    "\n",
    "            # Forward pass\n",
    "            features = encoder(images)\n",
    "            output = decoder(features, captions, lengths)\n",
    "\n",
    "            # Calculate loss\n",
    "            loss = criterion(output, targets)\n",
    "            total_test_loss += loss.item()\n",
    "            num_test_batches += 1\n",
    "\n",
    "    avg_test_loss = total_test_loss / num_test_batches\n",
    "    test_losses.append(avg_test_loss)  # Append the average testing loss\n",
    "\n",
    "    # Print integrated loss statistics in one line\n",
    "    print(f'Epoch {epoch}: Training Loss {avg_train_loss:.4f}, Test Loss {avg_test_loss:.4f}')\n",
    "\n",
    "    #Save model checkpoint\n",
    "    if epoch != 0 and epoch % save_after_epochs == 0:\n",
    "        save_model(models_dir, encoder, decoder, optimizer, epoch, avg_test_loss, batch_size, vocab)\n",
    "        print(\"Saved model checkpoint at epoch:\", epoch)\n",
    "\n",
    "print(\"Training completed!\")"
   ]
  },
  {
   "cell_type": "code",
   "execution_count": 9,
   "metadata": {},
   "outputs": [
    {
     "data": {
      "image/png": "[encoded data removed]",
      "text/plain": [
       "<Figure size 1000x500 with 1 Axes>"
      ]
     },
     "metadata": {},
     "output_type": "display_data"
    }
   ],
   "source": [
    "# Plot the training and test losses\n",
    "plt.figure(figsize=(10, 5))\n",
    "plt.plot(train_losses, label='Training Loss')\n",
    "plt.plot(test_losses, label='Test Loss')\n",
    "plt.title('Training and Test Losses Across Epochs')\n",
    "plt.xlabel('Epochs')\n",
    "plt.ylabel('Loss')\n",
    "plt.legend()\n",
    "plt.grid(True)\n",
    "plt.show()"
   ]
  },
  {
   "cell_type": "code",
   "execution_count": 10,
   "metadata": {},
   "outputs": [
    {
     "name": "stdout",
     "output_type": "stream",
     "text": [
      "Final model saved.\n"
     ]
    }
   ],
   "source": [
    "#Save the final model\n",
    "save_model(models_dir, encoder, decoder, optimizer, epochs*10, loss.item(), batch_size, vocab)\n",
    "print(\"Final model saved.\")"
   ]
  }
 ],
 "metadata": {
  "kernelspec": {
   "display_name": "base",
   "language": "python",
   "name": "python3"
  },
  "language_info": {
   "codemirror_mode": {
    "name": "ipython",
    "version": 3
   },
   "file_extension": ".py",
   "mimetype": "text/x-python",
   "name": "python",
   "nbconvert_exporter": "python",
   "pygments_lexer": "ipython3",
   "version": "3.11.7"
  }
 },
 "nbformat": 4,
 "nbformat_minor": 2
}
