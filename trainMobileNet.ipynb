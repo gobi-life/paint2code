{
 "cells": [
  {
   "cell_type": "markdown",
   "metadata": {},
   "source": [
    "# Train model with MobileNetV3"
   ]
  },
  {
   "cell_type": "code",
   "execution_count": 1,
   "metadata": {},
   "outputs": [],
   "source": [
    "import torch\n",
    "from torch.utils.data import DataLoader\n",
    "from pathlib import Path\n",
    "import matplotlib.pyplot as plt\n",
    "from torchvision import transforms\n",
    "\n",
    "from vocab import Vocab\n",
    "from dataset import Paint2CodeDataset\n",
    "from utils import collate_fn, save_model\n",
    "from modelArchitecture.modelMobileNetV3 import Encoder, Decoder"
   ]
  },
  {
   "cell_type": "code",
   "execution_count": 2,
   "metadata": {},
   "outputs": [],
   "source": [
    "def img_transformation(img_crop_size):\n",
    "    return transforms.Compose([\n",
    "        transforms.Resize((img_crop_size, img_crop_size)),  # Resize the image\n",
    "        transforms.ToTensor(),  # Convert the image to tensor\n",
    "        transforms.Normalize([0.930213], [0.216819]),  # Normalize the image\n",
    "    ])"
   ]
  },
  {
   "cell_type": "markdown",
   "metadata": {},
   "source": [
    "## Set parameters"
   ]
  },
  {
   "cell_type": "code",
   "execution_count": 3,
   "metadata": {},
   "outputs": [],
   "source": [
    "data_path = Path(\"data\", \"all_data\")\n",
    "vocab_file_path = Path(data_path.parent, \"vocab.txt\")\n",
    "use_cuda = True  \n",
    "img_size = 224\n",
    "save_after_epochs = 101\n",
    "models_dir = Path(\"./modelsMobileNet/models\")\n",
    "batch_size = 4\n",
    "epochs = 150\n",
    "lr = 0.001\n",
    "seed = 42\n",
    "\n",
    "# Seed setup for reproducibility\n",
    "torch.manual_seed(seed)\n",
    "torch.cuda.manual_seed(seed)"
   ]
  },
  {
   "cell_type": "markdown",
   "metadata": {},
   "source": [
    "## Set vocabulary"
   ]
  },
  {
   "cell_type": "code",
   "execution_count": 4,
   "metadata": {},
   "outputs": [
    {
     "name": "stdout",
     "output_type": "stream",
     "text": [
      "{\n",
      "  \"START\": 0,\n",
      "  \"END\": 1,\n",
      "  \"PADDING\": 2,\n",
      "  \"UNKNOWN\": 3,\n",
      "  \",\": 4,\n",
      "  \"btn-body\": 5,\n",
      "  \"btn-header\": 6,\n",
      "  \"double\": 7,\n",
      "  \"header\": 8,\n",
      "  \"image\": 9,\n",
      "  \"quadruple\": 10,\n",
      "  \"row\": 11,\n",
      "  \"single\": 12,\n",
      "  \"small-title\": 13,\n",
      "  \"text\": 14,\n",
      "  \"{\": 15,\n",
      "  \"}\": 16\n",
      "}\n"
     ]
    }
   ],
   "source": [
    "vocab = Vocab(vocab_file_path)\n",
    "assert len(vocab) > 0, \"Vocabulary must be non-empty\"\n",
    "\n",
    "print(vocab)"
   ]
  },
  {
   "cell_type": "markdown",
   "metadata": {},
   "source": [
    "## Setup GPU for training"
   ]
  },
  {
   "cell_type": "code",
   "execution_count": 5,
   "metadata": {},
   "outputs": [
    {
     "name": "stdout",
     "output_type": "stream",
     "text": [
      "Using device: cuda\n"
     ]
    }
   ],
   "source": [
    "device = torch.device(\"cuda\" if torch.cuda.is_available() and use_cuda else \"cpu\")\n",
    "print(f\"Using device: {device}\")"
   ]
  },
  {
   "cell_type": "markdown",
   "metadata": {},
   "source": [
    "## Prepare data"
   ]
  },
  {
   "cell_type": "code",
   "execution_count": 6,
   "metadata": {},
   "outputs": [
    {
     "name": "stdout",
     "output_type": "stream",
     "text": [
      "Data loader for train created successfully.\n",
      "Data loader for val  created successfully.\n"
     ]
    }
   ],
   "source": [
    "transform_imgs = img_transformation(img_size)\n",
    "\n",
    "train_loader = DataLoader(\n",
    "    Paint2CodeDataset(data_path, \"train\", vocab, transform=transform_imgs),\n",
    "    batch_size=batch_size,\n",
    "    collate_fn=lambda data: collate_fn(data, vocab=vocab),\n",
    "    pin_memory=True if use_cuda else False,\n",
    "    drop_last=True\n",
    ")\n",
    "print(\"Data loader for train created successfully.\")\n",
    "\n",
    "val_loader = DataLoader(\n",
    "    Paint2CodeDataset(data_path,\"validation\", vocab, transform=transform_imgs),\n",
    "    batch_size=batch_size,\n",
    "    collate_fn=lambda data: collate_fn(data, vocab=vocab),\n",
    "    pin_memory=True if use_cuda else False,\n",
    "    drop_last=True\n",
    ")\n",
    "print(\"Data loader for val  created successfully.\")"
   ]
  },
  {
   "cell_type": "markdown",
   "metadata": {},
   "source": [
    "## Set model parameters"
   ]
  },
  {
   "cell_type": "code",
   "execution_count": 7,
   "metadata": {},
   "outputs": [
    {
     "name": "stdout",
     "output_type": "stream",
     "text": [
      "Models are initialized and moved to the designated device.\n"
     ]
    }
   ],
   "source": [
    "embed_size = 64\n",
    "hidden_size = 256\n",
    "num_layers = 2\n",
    "\n",
    "# Initialize the Encoder and Decoder\n",
    "encoder = Encoder(embed_size).to(device)\n",
    "decoder = Decoder(embed_size, hidden_size, len(vocab), num_layers).to(device)\n",
    "\n",
    "print(\"Models are initialized and moved to the designated device.\")"
   ]
  },
  {
   "cell_type": "markdown",
   "metadata": {},
   "source": [
    "## Define loss function and optimizer"
   ]
  },
  {
   "cell_type": "code",
   "execution_count": 8,
   "metadata": {},
   "outputs": [
    {
     "name": "stdout",
     "output_type": "stream",
     "text": [
      "Loss function and optimizer are set.\n"
     ]
    }
   ],
   "source": [
    "criterion = torch.nn.CrossEntropyLoss()\n",
    "params = list(decoder.parameters()) + list(encoder.parameters())\n",
    "optimizer = torch.optim.Adam(params, lr=lr)\n",
    "\n",
    "print(\"Loss function and optimizer are set.\")"
   ]
  },
  {
   "cell_type": "markdown",
   "metadata": {},
   "source": [
    "## Train loop"
   ]
  },
  {
   "cell_type": "code",
   "execution_count": 9,
   "metadata": {},
   "outputs": [
    {
     "name": "stdout",
     "output_type": "stream",
     "text": [
      "Starting training...\n",
      "Epoch 0: Training Loss 0.3759, val Loss 0.1214\n",
      "Epoch 1: Training Loss 0.1166, val Loss 0.1065\n",
      "Epoch 2: Training Loss 0.1058, val Loss 0.0995\n",
      "Epoch 3: Training Loss 0.0995, val Loss 0.0974\n",
      "Epoch 4: Training Loss 0.0989, val Loss 0.1008\n",
      "Epoch 5: Training Loss 0.0965, val Loss 0.0876\n",
      "Epoch 6: Training Loss 0.0903, val Loss 0.0850\n",
      "Epoch 7: Training Loss 0.0890, val Loss 0.0968\n",
      "Epoch 8: Training Loss 0.0909, val Loss 0.0932\n",
      "Epoch 9: Training Loss 0.0904, val Loss 0.0809\n",
      "Epoch 10: Training Loss 0.0870, val Loss 0.0804\n",
      "Epoch 11: Training Loss 0.0842, val Loss 0.0780\n",
      "Epoch 12: Training Loss 0.0826, val Loss 0.0777\n",
      "Epoch 13: Training Loss 0.0832, val Loss 0.0818\n",
      "Epoch 14: Training Loss 0.0814, val Loss 0.0791\n",
      "Epoch 15: Training Loss 0.0806, val Loss 0.0803\n",
      "Epoch 16: Training Loss 0.0821, val Loss 0.0728\n",
      "Epoch 17: Training Loss 0.0778, val Loss 0.0707\n",
      "Epoch 18: Training Loss 0.0758, val Loss 0.0700\n",
      "Epoch 19: Training Loss 0.0752, val Loss 0.0711\n",
      "Epoch 20: Training Loss 0.0744, val Loss 0.0701\n",
      "Epoch 21: Training Loss 0.0740, val Loss 0.0680\n",
      "Epoch 22: Training Loss 0.0730, val Loss 0.0676\n",
      "Epoch 23: Training Loss 0.0727, val Loss 0.0696\n",
      "Epoch 24: Training Loss 0.0732, val Loss 0.0677\n",
      "Epoch 25: Training Loss 0.0711, val Loss 0.0664\n",
      "Epoch 26: Training Loss 0.0725, val Loss 0.0658\n",
      "Epoch 27: Training Loss 0.0706, val Loss 0.0662\n",
      "Epoch 28: Training Loss 0.0705, val Loss 0.0675\n",
      "Epoch 29: Training Loss 0.0699, val Loss 0.0661\n",
      "Epoch 30: Training Loss 0.0691, val Loss 0.0652\n",
      "Epoch 31: Training Loss 0.0693, val Loss 0.0638\n",
      "Epoch 32: Training Loss 0.0682, val Loss 0.0650\n",
      "Epoch 33: Training Loss 0.0680, val Loss 0.0635\n",
      "Epoch 34: Training Loss 0.0677, val Loss 0.0642\n",
      "Epoch 35: Training Loss 0.0682, val Loss 0.0636\n",
      "Epoch 36: Training Loss 0.0665, val Loss 0.0627\n",
      "Epoch 37: Training Loss 0.0668, val Loss 0.0625\n",
      "Epoch 38: Training Loss 0.0661, val Loss 0.0620\n",
      "Epoch 39: Training Loss 0.0666, val Loss 0.0634\n",
      "Epoch 40: Training Loss 0.0664, val Loss 0.0613\n",
      "Epoch 41: Training Loss 0.0652, val Loss 0.0620\n",
      "Epoch 42: Training Loss 0.0653, val Loss 0.0618\n",
      "Epoch 43: Training Loss 0.0648, val Loss 0.0611\n",
      "Epoch 44: Training Loss 0.0632, val Loss 0.0607\n",
      "Epoch 45: Training Loss 0.0649, val Loss 0.0618\n",
      "Epoch 46: Training Loss 0.0643, val Loss 0.0609\n",
      "Epoch 47: Training Loss 0.0634, val Loss 0.0613\n",
      "Epoch 48: Training Loss 0.0626, val Loss 0.0604\n",
      "Epoch 49: Training Loss 0.0637, val Loss 0.0596\n",
      "Epoch 50: Training Loss 0.0620, val Loss 0.0601\n",
      "Epoch 51: Training Loss 0.0617, val Loss 0.0605\n",
      "Epoch 52: Training Loss 0.0615, val Loss 0.0635\n",
      "Epoch 53: Training Loss 0.0620, val Loss 0.0597\n",
      "Epoch 54: Training Loss 0.0606, val Loss 0.0590\n",
      "Epoch 55: Training Loss 0.0607, val Loss 0.0596\n",
      "Epoch 56: Training Loss 0.0613, val Loss 0.0587\n",
      "Epoch 57: Training Loss 0.0600, val Loss 0.0593\n",
      "Epoch 58: Training Loss 0.0629, val Loss 0.0838\n",
      "Epoch 59: Training Loss 0.0615, val Loss 0.0607\n",
      "Epoch 60: Training Loss 0.0609, val Loss 0.0595\n",
      "Epoch 61: Training Loss 0.0593, val Loss 0.0589\n",
      "Epoch 62: Training Loss 0.0618, val Loss 0.0590\n",
      "Epoch 63: Training Loss 0.0603, val Loss 0.0623\n",
      "Epoch 64: Training Loss 0.0603, val Loss 0.0594\n",
      "Epoch 65: Training Loss 0.0608, val Loss 0.0582\n",
      "Epoch 66: Training Loss 0.0593, val Loss 0.0580\n",
      "Epoch 67: Training Loss 0.0596, val Loss 0.0599\n",
      "Epoch 68: Training Loss 0.0594, val Loss 0.0575\n",
      "Epoch 69: Training Loss 0.0596, val Loss 0.0600\n",
      "Epoch 70: Training Loss 0.0597, val Loss 0.0589\n",
      "Epoch 71: Training Loss 0.0582, val Loss 0.0584\n",
      "Epoch 72: Training Loss 0.0587, val Loss 0.0586\n",
      "Epoch 73: Training Loss 0.0578, val Loss 0.0575\n",
      "Epoch 74: Training Loss 0.0579, val Loss 0.0581\n",
      "Epoch 75: Training Loss 0.0575, val Loss 0.0568\n",
      "Epoch 76: Training Loss 0.0576, val Loss 0.0572\n",
      "Epoch 77: Training Loss 0.0575, val Loss 0.0571\n",
      "Epoch 78: Training Loss 0.0582, val Loss 0.0622\n",
      "Epoch 79: Training Loss 0.0574, val Loss 0.0569\n",
      "Epoch 80: Training Loss 0.0560, val Loss 0.0566\n",
      "Epoch 81: Training Loss 0.0557, val Loss 0.0562\n",
      "Epoch 82: Training Loss 0.0558, val Loss 0.0559\n",
      "Epoch 83: Training Loss 0.0556, val Loss 0.0560\n",
      "Epoch 84: Training Loss 0.0559, val Loss 0.0572\n",
      "Epoch 85: Training Loss 0.0552, val Loss 0.0565\n",
      "Epoch 86: Training Loss 0.0551, val Loss 0.0565\n",
      "Epoch 87: Training Loss 0.0548, val Loss 0.0558\n",
      "Epoch 88: Training Loss 0.0547, val Loss 0.0564\n",
      "Epoch 89: Training Loss 0.0547, val Loss 0.0548\n",
      "Epoch 90: Training Loss 0.0546, val Loss 0.0557\n",
      "Epoch 91: Training Loss 0.0533, val Loss 0.0542\n",
      "Epoch 92: Training Loss 0.0534, val Loss 0.0552\n",
      "Epoch 93: Training Loss 0.0528, val Loss 0.0572\n",
      "Epoch 94: Training Loss 0.0535, val Loss 0.0550\n",
      "Epoch 95: Training Loss 0.0538, val Loss 0.0552\n",
      "Epoch 96: Training Loss 0.0531, val Loss 0.0529\n",
      "Epoch 97: Training Loss 0.0523, val Loss 0.0527\n",
      "Epoch 98: Training Loss 0.0528, val Loss 0.0533\n",
      "Epoch 99: Training Loss 0.0534, val Loss 0.0532\n",
      "Training completed!\n"
     ]
    }
   ],
   "source": [
    "# Initialize lists to store the average losses per epoch\n",
    "train_losses = []\n",
    "val_losses = []\n",
    "\n",
    "print(\"Starting training...\")\n",
    "for epoch in range(epochs):\n",
    "    # Training phase\n",
    "    encoder.train()  # Set the encoder to training mode\n",
    "    decoder.train()  # Set the decoder to training mode\n",
    "    total_train_loss = 0\n",
    "    num_batches = 0\n",
    "\n",
    "    for images, captions, lengths in train_loader:\n",
    "        images = images.to(device)\n",
    "        captions = captions.to(device)\n",
    "        targets = torch.nn.utils.rnn.pack_padded_sequence(captions, lengths, batch_first=True)[0]\n",
    "\n",
    "        # Zero the gradients\n",
    "        encoder.zero_grad()\n",
    "        decoder.zero_grad()\n",
    "\n",
    "        # Forward pass\n",
    "        features = encoder(images)\n",
    "        output = decoder(features, captions, lengths)\n",
    "\n",
    "        # Calculate loss\n",
    "        loss = criterion(output, targets)\n",
    "        total_train_loss += loss.item()\n",
    "        loss.backward()\n",
    "        optimizer.step()\n",
    "        num_batches += 1\n",
    "\n",
    "    avg_train_loss = total_train_loss / num_batches\n",
    "    train_losses.append(avg_train_loss)  # Append the average training loss\n",
    "\n",
    "    # val phase\n",
    "    encoder.eval()  # Set the encoder to evaluation mode\n",
    "    decoder.eval()  # Set the decoder to evaluation mode\n",
    "    total_val_loss = 0\n",
    "    num_val_batches = 0\n",
    "\n",
    "    with torch.no_grad():  # No need to track gradients during val\n",
    "        for images, captions, lengths in val_loader:\n",
    "            images = images.to(device)\n",
    "            captions = captions.to(device)\n",
    "            targets = torch.nn.utils.rnn.pack_padded_sequence(captions, lengths, batch_first=True)[0]\n",
    "\n",
    "            # Forward pass\n",
    "            features = encoder(images)\n",
    "            output = decoder(features, captions, lengths)\n",
    "\n",
    "            # Calculate loss\n",
    "            loss = criterion(output, targets)\n",
    "            total_val_loss += loss.item()\n",
    "            num_val_batches += 1\n",
    "\n",
    "    avg_val_loss = total_val_loss / num_val_batches\n",
    "    val_losses.append(avg_val_loss)  # Append the average val loss\n",
    "\n",
    "    # Print integrated loss statistics in one line\n",
    "    print(f'Epoch {epoch}: Training Loss {avg_train_loss:.4f}, val Loss {avg_val_loss:.4f}')\n",
    "\n",
    "    #Save model checkpoint\n",
    "    if epoch != 0 and epoch % save_after_epochs == 0:\n",
    "        save_model(models_dir, encoder, decoder, optimizer, epoch, avg_val_loss, batch_size, vocab)\n",
    "        print(\"Saved model checkpoint at epoch:\", epoch)\n",
    "\n",
    "print(\"Training completed!\")"
   ]
  },
  {
   "cell_type": "markdown",
   "metadata": {},
   "source": [
    "## Plot the training and val losses"
   ]
  },
  {
   "cell_type": "code",
   "execution_count": 10,
   "metadata": {},
   "outputs": [
    {
     "data": {
      "image/png": "[encoded data removed]",
      "text/plain": [
       "<Figure size 1000x500 with 1 Axes>"
      ]
     },
     "metadata": {},
     "output_type": "display_data"
    }
   ],
   "source": [
    "plt.figure(figsize=(10, 5))\n",
    "plt.plot(train_losses, label='Training Loss')\n",
    "plt.plot(val_losses, label='val Loss')\n",
    "plt.title('Training and val Losses Across Epochs')\n",
    "plt.xlabel('Epochs')\n",
    "plt.ylabel('Loss')\n",
    "plt.legend()\n",
    "plt.grid(True)\n",
    "plt.show()"
   ]
  }
 ],
 "metadata": {
  "kernelspec": {
   "display_name": "base",
   "language": "python",
   "name": "python3"
  },
  "language_info": {
   "codemirror_mode": {
    "name": "ipython",
    "version": 3
   },
   "file_extension": ".py",
   "mimetype": "text/x-python",
   "name": "python",
   "nbconvert_exporter": "python",
   "pygments_lexer": "ipython3",
   "version": "3.11.7"
  }
 },
 "nbformat": 4,
 "nbformat_minor": 2
}
