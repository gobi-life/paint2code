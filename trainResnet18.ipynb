{
 "cells": [
  {
   "cell_type": "markdown",
   "metadata": {},
   "source": [
    "# Train model with ResNet18"
   ]
  },
  {
   "cell_type": "code",
   "execution_count": 1,
   "metadata": {},
   "outputs": [],
   "source": [
    "import torch\n",
    "from torch.utils.data import DataLoader\n",
    "from pathlib import Path\n",
    "import matplotlib.pyplot as plt\n",
    "\n",
    "from vocab import Vocab\n",
    "from dataset import Paint2CodeDataset\n",
    "from utils import collate_fn, save_model, img_transformation\n",
    "from modelArchitecture.modelResnet18 import Encoder, Decoder"
   ]
  },
  {
   "cell_type": "markdown",
   "metadata": {},
   "source": [
    "## Set parameters"
   ]
  },
  {
   "cell_type": "code",
   "execution_count": 2,
   "metadata": {},
   "outputs": [],
   "source": [
    "data_path = Path(\"data\", \"all_data\")\n",
    "vocab_file_path = Path(data_path.parent, \"vocab.txt\")\n",
    "use_cuda = True  \n",
    "img_size = 224\n",
    "save_after_epochs = 151\n",
    "models_dir = Path(\"./modelsResNet18/models\")\n",
    "batch_size = 4\n",
    "epochs = 150\n",
    "lr = 0.001\n",
    "seed = 42\n",
    "\n",
    "# Seed setup for reproducibility\n",
    "torch.manual_seed(seed)\n",
    "torch.cuda.manual_seed(seed)"
   ]
  },
  {
   "cell_type": "markdown",
   "metadata": {},
   "source": [
    "## Set vocabulary"
   ]
  },
  {
   "cell_type": "code",
   "execution_count": 3,
   "metadata": {},
   "outputs": [
    {
     "name": "stdout",
     "output_type": "stream",
     "text": [
      "{\n",
      "  \"START\": 0,\n",
      "  \"END\": 1,\n",
      "  \"PADDING\": 2,\n",
      "  \"UNKNOWN\": 3,\n",
      "  \",\": 4,\n",
      "  \"btn-body\": 5,\n",
      "  \"btn-header\": 6,\n",
      "  \"double\": 7,\n",
      "  \"header\": 8,\n",
      "  \"image\": 9,\n",
      "  \"quadruple\": 10,\n",
      "  \"row\": 11,\n",
      "  \"single\": 12,\n",
      "  \"small-title\": 13,\n",
      "  \"text\": 14,\n",
      "  \"{\": 15,\n",
      "  \"}\": 16\n",
      "}\n"
     ]
    }
   ],
   "source": [
    "vocab = Vocab(vocab_file_path)\n",
    "assert len(vocab) > 0, \"Vocabulary must be non-empty\"\n",
    "\n",
    "print(vocab)"
   ]
  },
  {
   "cell_type": "markdown",
   "metadata": {},
   "source": [
    "## Setup GPU for training"
   ]
  },
  {
   "cell_type": "code",
   "execution_count": 4,
   "metadata": {},
   "outputs": [
    {
     "name": "stdout",
     "output_type": "stream",
     "text": [
      "Using device: cuda\n"
     ]
    }
   ],
   "source": [
    "device = torch.device(\"cuda\" if torch.cuda.is_available() and use_cuda else \"cpu\")\n",
    "print(f\"Using device: {device}\")"
   ]
  },
  {
   "cell_type": "markdown",
   "metadata": {},
   "source": [
    "## Prepare data"
   ]
  },
  {
   "cell_type": "code",
   "execution_count": 5,
   "metadata": {},
   "outputs": [
    {
     "name": "stdout",
     "output_type": "stream",
     "text": [
      "Data loader for train created successfully.\n",
      "Data loader for val  created successfully.\n"
     ]
    }
   ],
   "source": [
    "transform_imgs = img_transformation(img_size)\n",
    "\n",
    "train_loader = DataLoader(\n",
    "    Paint2CodeDataset(data_path, \"train\", vocab, transform=transform_imgs),\n",
    "    batch_size=batch_size,\n",
    "    collate_fn=lambda data: collate_fn(data, vocab=vocab),\n",
    "    pin_memory=True if use_cuda else False,\n",
    "    drop_last=True\n",
    ")\n",
    "print(\"Data loader for train created successfully.\")\n",
    "\n",
    "val_loader = DataLoader(\n",
    "    Paint2CodeDataset(data_path,\"validation\", vocab, transform=transform_imgs),\n",
    "    batch_size=batch_size,\n",
    "    collate_fn=lambda data: collate_fn(data, vocab=vocab),\n",
    "    pin_memory=True if use_cuda else False,\n",
    "    drop_last=True\n",
    ")\n",
    "print(\"Data loader for val  created successfully.\")"
   ]
  },
  {
   "cell_type": "markdown",
   "metadata": {},
   "source": [
    "## Set model parameters"
   ]
  },
  {
   "cell_type": "code",
   "execution_count": 6,
   "metadata": {},
   "outputs": [
    {
     "name": "stdout",
     "output_type": "stream",
     "text": [
      "Models are initialized and moved to the designated device.\n"
     ]
    }
   ],
   "source": [
    "embed_size = 64\n",
    "hidden_size = 256\n",
    "num_layers = 2\n",
    "\n",
    "# Initialize the Encoder and Decoder\n",
    "encoder = Encoder(embed_size).to(device)\n",
    "decoder = Decoder(embed_size, hidden_size, len(vocab), num_layers).to(device)\n",
    "\n",
    "print(\"Models are initialized and moved to the designated device.\")"
   ]
  },
  {
   "cell_type": "markdown",
   "metadata": {},
   "source": [
    "## Define loss function and optimizer"
   ]
  },
  {
   "cell_type": "code",
   "execution_count": 7,
   "metadata": {},
   "outputs": [
    {
     "name": "stdout",
     "output_type": "stream",
     "text": [
      "Loss function and optimizer are set.\n"
     ]
    }
   ],
   "source": [
    "criterion = torch.nn.CrossEntropyLoss()\n",
    "params = list(decoder.parameters()) + list(encoder.parameters()) \n",
    "optimizer = torch.optim.Adam(params, lr=lr)\n",
    "\n",
    "print(\"Loss function and optimizer are set.\")"
   ]
  },
  {
   "cell_type": "markdown",
   "metadata": {},
   "source": [
    "## Training loop"
   ]
  },
  {
   "cell_type": "code",
   "execution_count": 8,
   "metadata": {},
   "outputs": [
    {
     "name": "stdout",
     "output_type": "stream",
     "text": [
      "Starting training...\n",
      "Epoch 0: Training Loss 0.3766, val Loss 0.1195\n",
      "Epoch 1: Training Loss 0.1179, val Loss 0.1089\n",
      "Epoch 2: Training Loss 0.1054, val Loss 0.0979\n",
      "Epoch 3: Training Loss 0.1044, val Loss 0.1010\n",
      "Epoch 4: Training Loss 0.0971, val Loss 0.0930\n",
      "Epoch 5: Training Loss 0.0991, val Loss 0.0928\n",
      "Epoch 6: Training Loss 0.0931, val Loss 0.0899\n",
      "Epoch 7: Training Loss 0.0914, val Loss 0.0889\n",
      "Epoch 8: Training Loss 0.0891, val Loss 0.0872\n",
      "Epoch 9: Training Loss 0.0889, val Loss 0.0868\n",
      "Epoch 10: Training Loss 0.0888, val Loss 0.0832\n",
      "Epoch 11: Training Loss 0.0863, val Loss 0.0932\n",
      "Epoch 12: Training Loss 0.0850, val Loss 0.0804\n",
      "Epoch 13: Training Loss 0.0837, val Loss 0.0817\n",
      "Epoch 14: Training Loss 0.0814, val Loss 0.0747\n",
      "Epoch 15: Training Loss 0.0796, val Loss 0.0788\n",
      "Epoch 16: Training Loss 0.0811, val Loss 0.0741\n",
      "Epoch 17: Training Loss 0.0784, val Loss 0.0737\n",
      "Epoch 18: Training Loss 0.0777, val Loss 0.0731\n",
      "Epoch 19: Training Loss 0.0783, val Loss 0.0747\n",
      "Epoch 20: Training Loss 0.0798, val Loss 0.0762\n",
      "Epoch 21: Training Loss 0.0774, val Loss 0.0772\n",
      "Epoch 22: Training Loss 0.0774, val Loss 0.0712\n",
      "Epoch 23: Training Loss 0.0752, val Loss 0.0725\n",
      "Epoch 24: Training Loss 0.0755, val Loss 0.0714\n",
      "Epoch 25: Training Loss 0.0755, val Loss 0.0704\n",
      "Epoch 26: Training Loss 0.0743, val Loss 0.0711\n",
      "Epoch 27: Training Loss 0.0742, val Loss 0.0705\n",
      "Epoch 28: Training Loss 0.0763, val Loss 0.0713\n",
      "Epoch 29: Training Loss 0.0743, val Loss 0.0707\n",
      "Epoch 30: Training Loss 0.0733, val Loss 0.0703\n",
      "Epoch 31: Training Loss 0.0732, val Loss 0.0693\n",
      "Epoch 32: Training Loss 0.0728, val Loss 0.0688\n",
      "Epoch 33: Training Loss 0.0730, val Loss 0.0688\n",
      "Epoch 34: Training Loss 0.0722, val Loss 0.0681\n",
      "Epoch 35: Training Loss 0.0717, val Loss 0.0672\n",
      "Epoch 36: Training Loss 0.0717, val Loss 0.0678\n",
      "Epoch 37: Training Loss 0.0726, val Loss 0.0684\n",
      "Epoch 38: Training Loss 0.0719, val Loss 0.0671\n",
      "Epoch 39: Training Loss 0.0701, val Loss 0.0666\n",
      "Epoch 40: Training Loss 0.0725, val Loss 0.0658\n",
      "Epoch 41: Training Loss 0.0698, val Loss 0.0659\n",
      "Epoch 42: Training Loss 0.0698, val Loss 0.0662\n",
      "Epoch 43: Training Loss 0.0697, val Loss 0.0661\n",
      "Epoch 44: Training Loss 0.0684, val Loss 0.0654\n",
      "Epoch 45: Training Loss 0.0682, val Loss 0.0642\n",
      "Epoch 46: Training Loss 0.0675, val Loss 0.0643\n",
      "Epoch 47: Training Loss 0.0678, val Loss 0.0628\n",
      "Epoch 48: Training Loss 0.0666, val Loss 0.0638\n",
      "Epoch 49: Training Loss 0.0668, val Loss 0.0628\n",
      "Epoch 50: Training Loss 0.0662, val Loss 0.0612\n",
      "Epoch 51: Training Loss 0.0654, val Loss 0.0629\n",
      "Epoch 52: Training Loss 0.0655, val Loss 0.0617\n",
      "Epoch 53: Training Loss 0.0657, val Loss 0.0617\n",
      "Epoch 54: Training Loss 0.0641, val Loss 0.0621\n",
      "Epoch 55: Training Loss 0.0652, val Loss 0.0594\n",
      "Epoch 56: Training Loss 0.0641, val Loss 0.0598\n",
      "Epoch 57: Training Loss 0.0633, val Loss 0.0596\n",
      "Epoch 58: Training Loss 0.0626, val Loss 0.0562\n",
      "Epoch 59: Training Loss 0.0616, val Loss 0.0564\n",
      "Epoch 60: Training Loss 0.0609, val Loss 0.0566\n",
      "Epoch 61: Training Loss 0.0610, val Loss 0.0550\n",
      "Epoch 62: Training Loss 0.0599, val Loss 0.0551\n",
      "Epoch 63: Training Loss 0.0594, val Loss 0.0546\n",
      "Epoch 64: Training Loss 0.0580, val Loss 0.0540\n",
      "Epoch 65: Training Loss 0.0600, val Loss 0.0528\n",
      "Epoch 66: Training Loss 0.0575, val Loss 0.0517\n",
      "Epoch 67: Training Loss 0.0551, val Loss 0.0498\n",
      "Epoch 68: Training Loss 0.0573, val Loss 0.0517\n",
      "Epoch 69: Training Loss 0.0552, val Loss 0.0479\n",
      "Epoch 70: Training Loss 0.0537, val Loss 0.0460\n",
      "Epoch 71: Training Loss 0.0530, val Loss 0.0453\n",
      "Epoch 72: Training Loss 0.0517, val Loss 0.0435\n",
      "Epoch 73: Training Loss 0.0512, val Loss 0.0412\n",
      "Epoch 74: Training Loss 0.0514, val Loss 0.0429\n",
      "Epoch 75: Training Loss 0.0500, val Loss 0.0414\n",
      "Epoch 76: Training Loss 0.0477, val Loss 0.0404\n",
      "Epoch 77: Training Loss 0.0474, val Loss 0.0396\n",
      "Epoch 78: Training Loss 0.0461, val Loss 0.0386\n",
      "Epoch 79: Training Loss 0.0448, val Loss 0.0372\n",
      "Epoch 80: Training Loss 0.0450, val Loss 0.0372\n",
      "Epoch 81: Training Loss 0.0438, val Loss 0.0358\n",
      "Epoch 82: Training Loss 0.0435, val Loss 0.0332\n",
      "Epoch 83: Training Loss 0.0432, val Loss 0.0359\n",
      "Epoch 84: Training Loss 0.0418, val Loss 0.0343\n",
      "Epoch 85: Training Loss 0.0411, val Loss 0.0335\n",
      "Epoch 86: Training Loss 0.0427, val Loss 0.0332\n",
      "Epoch 87: Training Loss 0.0402, val Loss 0.0326\n",
      "Epoch 88: Training Loss 0.0401, val Loss 0.0313\n",
      "Epoch 89: Training Loss 0.0389, val Loss 0.0311\n",
      "Epoch 90: Training Loss 0.0396, val Loss 0.0340\n",
      "Epoch 91: Training Loss 0.0408, val Loss 0.0299\n",
      "Epoch 92: Training Loss 0.0375, val Loss 0.0297\n",
      "Epoch 93: Training Loss 0.0367, val Loss 0.0295\n",
      "Epoch 94: Training Loss 0.0367, val Loss 0.0299\n",
      "Epoch 95: Training Loss 0.0365, val Loss 0.0294\n",
      "Epoch 96: Training Loss 0.0362, val Loss 0.0286\n",
      "Epoch 97: Training Loss 0.0351, val Loss 0.0289\n",
      "Epoch 98: Training Loss 0.0331, val Loss 0.0277\n",
      "Epoch 99: Training Loss 0.0339, val Loss 0.0282\n",
      "Epoch 100: Training Loss 0.0351, val Loss 0.0376\n",
      "Epoch 101: Training Loss 0.0343, val Loss 0.0269\n",
      "Epoch 102: Training Loss 0.0334, val Loss 0.0284\n",
      "Epoch 103: Training Loss 0.0340, val Loss 0.0285\n",
      "Epoch 104: Training Loss 0.0316, val Loss 0.0283\n",
      "Epoch 105: Training Loss 0.0325, val Loss 0.0269\n",
      "Epoch 106: Training Loss 0.0310, val Loss 0.0283\n",
      "Epoch 107: Training Loss 0.0320, val Loss 0.0264\n",
      "Epoch 108: Training Loss 0.0312, val Loss 0.0266\n",
      "Epoch 109: Training Loss 0.0311, val Loss 0.0278\n",
      "Epoch 110: Training Loss 0.0300, val Loss 0.0271\n",
      "Epoch 111: Training Loss 0.0302, val Loss 0.0276\n",
      "Epoch 112: Training Loss 0.0298, val Loss 0.0285\n",
      "Epoch 113: Training Loss 0.0297, val Loss 0.0257\n",
      "Epoch 114: Training Loss 0.0290, val Loss 0.0300\n",
      "Epoch 115: Training Loss 0.0289, val Loss 0.0275\n",
      "Epoch 116: Training Loss 0.0272, val Loss 0.0279\n",
      "Epoch 117: Training Loss 0.0274, val Loss 0.0269\n",
      "Epoch 118: Training Loss 0.0274, val Loss 0.0266\n",
      "Epoch 119: Training Loss 0.0282, val Loss 0.0267\n",
      "Epoch 120: Training Loss 0.0273, val Loss 0.0262\n",
      "Epoch 121: Training Loss 0.0276, val Loss 0.0262\n",
      "Epoch 122: Training Loss 0.0279, val Loss 0.0270\n",
      "Epoch 123: Training Loss 0.0268, val Loss 0.0250\n",
      "Epoch 124: Training Loss 0.0272, val Loss 0.0263\n",
      "Epoch 125: Training Loss 0.0261, val Loss 0.0262\n",
      "Epoch 126: Training Loss 0.0249, val Loss 0.0269\n",
      "Epoch 127: Training Loss 0.0254, val Loss 0.0252\n",
      "Epoch 128: Training Loss 0.0251, val Loss 0.0266\n",
      "Epoch 129: Training Loss 0.0247, val Loss 0.0275\n",
      "Epoch 130: Training Loss 0.0246, val Loss 0.0257\n",
      "Epoch 131: Training Loss 0.0244, val Loss 0.0265\n",
      "Epoch 132: Training Loss 0.0249, val Loss 0.0271\n",
      "Epoch 133: Training Loss 0.0239, val Loss 0.0239\n",
      "Epoch 134: Training Loss 0.0246, val Loss 0.0251\n",
      "Epoch 135: Training Loss 0.0230, val Loss 0.0272\n",
      "Epoch 136: Training Loss 0.0234, val Loss 0.0251\n",
      "Epoch 137: Training Loss 0.0222, val Loss 0.0246\n",
      "Epoch 138: Training Loss 0.0219, val Loss 0.0275\n",
      "Epoch 139: Training Loss 0.0222, val Loss 0.0265\n",
      "Epoch 140: Training Loss 0.0252, val Loss 0.0248\n",
      "Epoch 141: Training Loss 0.0221, val Loss 0.0257\n",
      "Epoch 142: Training Loss 0.0213, val Loss 0.0259\n",
      "Epoch 143: Training Loss 0.0206, val Loss 0.0260\n",
      "Epoch 144: Training Loss 0.0210, val Loss 0.0263\n",
      "Epoch 145: Training Loss 0.0215, val Loss 0.0287\n",
      "Epoch 146: Training Loss 0.0214, val Loss 0.0284\n",
      "Epoch 147: Training Loss 0.0215, val Loss 0.0264\n",
      "Epoch 148: Training Loss 0.0204, val Loss 0.0261\n",
      "Epoch 149: Training Loss 0.0201, val Loss 0.0273\n",
      "Training completed!\n"
     ]
    }
   ],
   "source": [
    "# Initialize lists to store the average losses per epoch\n",
    "train_losses = []\n",
    "val_losses = []\n",
    "\n",
    "print(\"Starting training...\")\n",
    "for epoch in range(epochs):\n",
    "    # Training phase\n",
    "    encoder.train()  # Set the encoder to training mode\n",
    "    decoder.train()  # Set the decoder to training mode\n",
    "    total_train_loss = 0\n",
    "    num_batches = 0\n",
    "\n",
    "    for images, captions, lengths in train_loader:\n",
    "        images = images.to(device)\n",
    "        captions = captions.to(device)\n",
    "        targets = torch.nn.utils.rnn.pack_padded_sequence(captions, lengths, batch_first=True)[0]\n",
    "\n",
    "        # Zero the gradients\n",
    "        encoder.zero_grad()\n",
    "        decoder.zero_grad()\n",
    "\n",
    "        # Forward pass\n",
    "        features = encoder(images)\n",
    "        output = decoder(features, captions, lengths)\n",
    "\n",
    "        # Calculate loss\n",
    "        loss = criterion(output, targets)\n",
    "        total_train_loss += loss.item()\n",
    "        loss.backward()\n",
    "        optimizer.step()\n",
    "        num_batches += 1\n",
    "\n",
    "    avg_train_loss = total_train_loss / num_batches\n",
    "    train_losses.append(avg_train_loss)  # Append the average training loss\n",
    "\n",
    "    # val phase\n",
    "    encoder.eval()  # Set the encoder to evaluation mode\n",
    "    decoder.eval()  # Set the decoder to evaluation mode\n",
    "    total_val_loss = 0\n",
    "    num_val_batches = 0\n",
    "\n",
    "    with torch.no_grad():  # No need to track gradients during val\n",
    "        for images, captions, lengths in val_loader:\n",
    "            images = images.to(device)\n",
    "            captions = captions.to(device)\n",
    "            targets = torch.nn.utils.rnn.pack_padded_sequence(captions, lengths, batch_first=True)[0]\n",
    "\n",
    "            # Forward pass\n",
    "            features = encoder(images)\n",
    "            output = decoder(features, captions, lengths)\n",
    "\n",
    "            # Calculate loss\n",
    "            loss = criterion(output, targets)\n",
    "            total_val_loss += loss.item()\n",
    "            num_val_batches += 1\n",
    "\n",
    "    avg_val_loss = total_val_loss / num_val_batches\n",
    "    val_losses.append(avg_val_loss)  # Append the average val loss\n",
    "\n",
    "    # Print integrated loss statistics in one line\n",
    "    print(f'Epoch {epoch}: Training Loss {avg_train_loss:.4f}, val Loss {avg_val_loss:.4f}')\n",
    "\n",
    "    #Save model checkpoint\n",
    "    if epoch != 0 and epoch % save_after_epochs == 0:\n",
    "        save_model(models_dir, encoder, decoder, optimizer, epoch, avg_val_loss, batch_size, vocab)\n",
    "        print(\"Saved model checkpoint at epoch:\", epoch)\n",
    "\n",
    "print(\"Training completed!\")"
   ]
  },
  {
   "cell_type": "markdown",
   "metadata": {},
   "source": [
    "## Plot the training and val losses"
   ]
  },
  {
   "cell_type": "code",
   "execution_count": 9,
   "metadata": {},
   "outputs": [
    {
     "data": {
      "image/png": "[encoded data removed]",
      "text/plain": [
       "<Figure size 1000x500 with 1 Axes>"
      ]
     },
     "metadata": {},
     "output_type": "display_data"
    }
   ],
   "source": [
    "plt.figure(figsize=(10, 5))\n",
    "plt.plot(train_losses, label='Training Loss')\n",
    "plt.plot(val_losses, label='val Loss')\n",
    "plt.title('Training and val Losses Across Epochs')\n",
    "plt.xlabel('Epochs')\n",
    "plt.ylabel('Loss')\n",
    "plt.legend()\n",
    "plt.grid(True)\n",
    "plt.show()"
   ]
  }
 ],
 "metadata": {
  "kernelspec": {
   "display_name": "base",
   "language": "python",
   "name": "python3"
  },
  "language_info": {
   "codemirror_mode": {
    "name": "ipython",
    "version": 3
   },
   "file_extension": ".py",
   "mimetype": "text/x-python",
   "name": "python",
   "nbconvert_exporter": "python",
   "pygments_lexer": "ipython3",
   "version": "3.11.7"
  }
 },
 "nbformat": 4,
 "nbformat_minor": 2
}
