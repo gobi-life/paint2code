{
 "cells": [
  {
   "cell_type": "markdown",
   "metadata": {},
   "source": [
    "# Train model with CustomCNN"
   ]
  },
  {
   "cell_type": "code",
   "execution_count": 6,
   "metadata": {},
   "outputs": [],
   "source": [
    "import torch\n",
    "from torch.utils.data import DataLoader\n",
    "from pathlib import Path\n",
    "import matplotlib.pyplot as plt\n",
    "\n",
    "from vocab import Vocab\n",
    "from dataset import Paint2CodeDataset\n",
    "from utils import collate_fn, save_model, img_transformation\n",
    "from modelArchitecture.modelCustomCNN import Encoder, Decoder"
   ]
  },
  {
   "cell_type": "markdown",
   "metadata": {},
   "source": [
    "## Set parameters"
   ]
  },
  {
   "cell_type": "code",
   "execution_count": 7,
   "metadata": {},
   "outputs": [],
   "source": [
    "data_path = Path(\"data\", \"all_data\")\n",
    "vocab_file_path = Path(data_path.parent, \"vocab.txt\")\n",
    "use_cuda = True  \n",
    "img_size = 224\n",
    "save_after_epochs = 1\n",
    "models_dir = Path(\"./modelsCustomCNN/models\")\n",
    "batch_size = 4\n",
    "epochs = 100\n",
    "lr = 0.001\n",
    "seed = 42\n",
    "\n",
    "# Seed setup for reproducibility\n",
    "torch.manual_seed(seed)\n",
    "torch.cuda.manual_seed(seed)"
   ]
  },
  {
   "cell_type": "markdown",
   "metadata": {},
   "source": [
    "## Set vocabulary"
   ]
  },
  {
   "cell_type": "code",
   "execution_count": 8,
   "metadata": {},
   "outputs": [
    {
     "name": "stdout",
     "output_type": "stream",
     "text": [
      "{\n",
      "  \"START\": 0,\n",
      "  \"END\": 1,\n",
      "  \"PADDING\": 2,\n",
      "  \"UNKNOWN\": 3,\n",
      "  \",\": 4,\n",
      "  \"btn-body\": 5,\n",
      "  \"btn-header\": 6,\n",
      "  \"double\": 7,\n",
      "  \"header\": 8,\n",
      "  \"image\": 9,\n",
      "  \"quadruple\": 10,\n",
      "  \"row\": 11,\n",
      "  \"single\": 12,\n",
      "  \"small-title\": 13,\n",
      "  \"text\": 14,\n",
      "  \"{\": 15,\n",
      "  \"}\": 16\n",
      "}\n"
     ]
    }
   ],
   "source": [
    "vocab = Vocab(vocab_file_path)\n",
    "assert len(vocab) > 0, \"Vocabulary must be non-empty\"\n",
    "\n",
    "print(vocab)"
   ]
  },
  {
   "cell_type": "markdown",
   "metadata": {},
   "source": [
    "## Setup GPU for training"
   ]
  },
  {
   "cell_type": "code",
   "execution_count": 9,
   "metadata": {},
   "outputs": [
    {
     "name": "stdout",
     "output_type": "stream",
     "text": [
      "Using device: cuda\n"
     ]
    }
   ],
   "source": [
    "device = torch.device(\"cuda\" if torch.cuda.is_available() and use_cuda else \"cpu\")\n",
    "print(f\"Using device: {device}\")"
   ]
  },
  {
   "cell_type": "markdown",
   "metadata": {},
   "source": [
    "## Prepare data "
   ]
  },
  {
   "cell_type": "code",
   "execution_count": 10,
   "metadata": {},
   "outputs": [
    {
     "name": "stdout",
     "output_type": "stream",
     "text": [
      "Data loader for train created successfully.\n",
      "Data loader for val  created successfully.\n"
     ]
    }
   ],
   "source": [
    "transform_imgs = img_transformation(img_size)\n",
    "\n",
    "train_loader = DataLoader(\n",
    "    Paint2CodeDataset(data_path, \"train\", vocab, transform=transform_imgs),\n",
    "    batch_size=batch_size,\n",
    "    collate_fn=lambda data: collate_fn(data, vocab=vocab),\n",
    "    pin_memory=True if use_cuda else False,\n",
    "    drop_last=True\n",
    ")\n",
    "print(\"Data loader for train created successfully.\")\n",
    "\n",
    "val_loader = DataLoader(\n",
    "    Paint2CodeDataset(data_path,\"validation\", vocab, transform=transform_imgs),\n",
    "    batch_size=batch_size,\n",
    "    collate_fn=lambda data: collate_fn(data, vocab=vocab),\n",
    "    pin_memory=True if use_cuda else False,\n",
    "    drop_last=True\n",
    ")\n",
    "print(\"Data loader for val  created successfully.\")"
   ]
  },
  {
   "cell_type": "markdown",
   "metadata": {},
   "source": [
    "## Set model parameters"
   ]
  },
  {
   "cell_type": "code",
   "execution_count": 11,
   "metadata": {},
   "outputs": [
    {
     "name": "stdout",
     "output_type": "stream",
     "text": [
      "Models are initialized and moved to the designated device.\n"
     ]
    }
   ],
   "source": [
    "embed_size = 64\n",
    "hidden_size = 256\n",
    "num_layers = 2\n",
    "\n",
    "# Initialize the Encoder and Decoder\n",
    "encoder = Encoder(embed_size).to(device)\n",
    "decoder = Decoder(embed_size, hidden_size, len(vocab), num_layers).to(device)\n",
    "\n",
    "print(\"Models are initialized and moved to the designated device.\")"
   ]
  },
  {
   "cell_type": "markdown",
   "metadata": {},
   "source": [
    "## Define loss function and optimizer"
   ]
  },
  {
   "cell_type": "code",
   "execution_count": 12,
   "metadata": {},
   "outputs": [
    {
     "name": "stdout",
     "output_type": "stream",
     "text": [
      "Loss function and optimizer are set.\n"
     ]
    }
   ],
   "source": [
    "criterion = torch.nn.CrossEntropyLoss()\n",
    "params = list(decoder.parameters()) + list(encoder.parameters())\n",
    "optimizer = torch.optim.Adam(params, lr=lr)\n",
    "\n",
    "print(\"Loss function and optimizer are set.\")"
   ]
  },
  {
   "cell_type": "markdown",
   "metadata": {},
   "source": [
    "# Train loop"
   ]
  },
  {
   "cell_type": "code",
   "execution_count": 8,
   "metadata": {},
   "outputs": [
    {
     "name": "stdout",
     "output_type": "stream",
     "text": [
      "Starting training...\n",
      "Epoch 0: Training Loss 0.3755, Test Loss 0.1208\n",
      "Epoch 1: Training Loss 0.1164, Test Loss 0.1262\n",
      "Saved model checkpoint at epoch: 1\n",
      "Epoch 2: Training Loss 0.1044, Test Loss 0.1005\n",
      "Saved model checkpoint at epoch: 2\n",
      "Epoch 3: Training Loss 0.0978, Test Loss 0.1088\n",
      "Saved model checkpoint at epoch: 3\n",
      "Epoch 4: Training Loss 0.0910, Test Loss 0.0914\n",
      "Saved model checkpoint at epoch: 4\n",
      "Epoch 5: Training Loss 0.0846, Test Loss 0.0719\n",
      "Saved model checkpoint at epoch: 5\n",
      "Epoch 6: Training Loss 0.0779, Test Loss 0.0669\n",
      "Saved model checkpoint at epoch: 6\n",
      "Epoch 7: Training Loss 0.0749, Test Loss 0.0562\n",
      "Saved model checkpoint at epoch: 7\n",
      "Epoch 8: Training Loss 0.0670, Test Loss 0.0511\n",
      "Saved model checkpoint at epoch: 8\n",
      "Epoch 9: Training Loss 0.0637, Test Loss 0.0503\n",
      "Saved model checkpoint at epoch: 9\n",
      "Epoch 10: Training Loss 0.0608, Test Loss 0.0477\n",
      "Saved model checkpoint at epoch: 10\n",
      "Epoch 11: Training Loss 0.0587, Test Loss 0.0439\n",
      "Saved model checkpoint at epoch: 11\n",
      "Epoch 12: Training Loss 0.0566, Test Loss 0.0448\n",
      "Saved model checkpoint at epoch: 12\n",
      "Epoch 13: Training Loss 0.0561, Test Loss 0.0403\n",
      "Saved model checkpoint at epoch: 13\n",
      "Epoch 14: Training Loss 0.0531, Test Loss 0.0405\n",
      "Saved model checkpoint at epoch: 14\n",
      "Epoch 15: Training Loss 0.0501, Test Loss 0.0396\n",
      "Saved model checkpoint at epoch: 15\n",
      "Epoch 16: Training Loss 0.0492, Test Loss 0.0389\n",
      "Saved model checkpoint at epoch: 16\n",
      "Epoch 17: Training Loss 0.0487, Test Loss 0.0406\n",
      "Saved model checkpoint at epoch: 17\n",
      "Epoch 18: Training Loss 0.0466, Test Loss 0.0375\n",
      "Saved model checkpoint at epoch: 18\n",
      "Epoch 19: Training Loss 0.0444, Test Loss 0.0360\n",
      "Saved model checkpoint at epoch: 19\n",
      "Epoch 20: Training Loss 0.0442, Test Loss 0.0358\n",
      "Saved model checkpoint at epoch: 20\n",
      "Epoch 21: Training Loss 0.0438, Test Loss 0.0355\n",
      "Saved model checkpoint at epoch: 21\n",
      "Epoch 22: Training Loss 0.0424, Test Loss 0.0326\n",
      "Saved model checkpoint at epoch: 22\n",
      "Epoch 23: Training Loss 0.0395, Test Loss 0.0314\n",
      "Saved model checkpoint at epoch: 23\n",
      "Epoch 24: Training Loss 0.0390, Test Loss 0.0289\n",
      "Saved model checkpoint at epoch: 24\n",
      "Epoch 25: Training Loss 0.0370, Test Loss 0.0292\n",
      "Saved model checkpoint at epoch: 25\n",
      "Epoch 26: Training Loss 0.0374, Test Loss 0.0286\n",
      "Saved model checkpoint at epoch: 26\n",
      "Epoch 27: Training Loss 0.0362, Test Loss 0.0278\n",
      "Saved model checkpoint at epoch: 27\n",
      "Epoch 28: Training Loss 0.0345, Test Loss 0.0273\n",
      "Saved model checkpoint at epoch: 28\n",
      "Epoch 29: Training Loss 0.0338, Test Loss 0.0296\n",
      "Saved model checkpoint at epoch: 29\n",
      "Epoch 30: Training Loss 0.0321, Test Loss 0.0245\n",
      "Saved model checkpoint at epoch: 30\n",
      "Epoch 31: Training Loss 0.0298, Test Loss 0.0239\n",
      "Saved model checkpoint at epoch: 31\n",
      "Epoch 32: Training Loss 0.0305, Test Loss 0.0262\n",
      "Saved model checkpoint at epoch: 32\n",
      "Epoch 33: Training Loss 0.0274, Test Loss 0.0233\n",
      "Saved model checkpoint at epoch: 33\n",
      "Epoch 34: Training Loss 0.0284, Test Loss 0.0243\n",
      "Saved model checkpoint at epoch: 34\n",
      "Epoch 35: Training Loss 0.0265, Test Loss 0.0242\n",
      "Saved model checkpoint at epoch: 35\n",
      "Epoch 36: Training Loss 0.0249, Test Loss 0.0238\n",
      "Saved model checkpoint at epoch: 36\n",
      "Epoch 37: Training Loss 0.0245, Test Loss 0.0235\n",
      "Saved model checkpoint at epoch: 37\n",
      "Epoch 38: Training Loss 0.0237, Test Loss 0.0225\n",
      "Saved model checkpoint at epoch: 38\n",
      "Epoch 39: Training Loss 0.0226, Test Loss 0.0228\n",
      "Saved model checkpoint at epoch: 39\n",
      "Epoch 40: Training Loss 0.0219, Test Loss 0.0207\n",
      "Saved model checkpoint at epoch: 40\n",
      "Epoch 41: Training Loss 0.0220, Test Loss 0.0235\n",
      "Saved model checkpoint at epoch: 41\n",
      "Epoch 42: Training Loss 0.0205, Test Loss 0.0217\n",
      "Saved model checkpoint at epoch: 42\n",
      "Epoch 43: Training Loss 0.0203, Test Loss 0.0210\n",
      "Saved model checkpoint at epoch: 43\n",
      "Epoch 44: Training Loss 0.0203, Test Loss 0.0221\n",
      "Saved model checkpoint at epoch: 44\n",
      "Epoch 45: Training Loss 0.0176, Test Loss 0.0205\n",
      "Saved model checkpoint at epoch: 45\n",
      "Epoch 46: Training Loss 0.0179, Test Loss 0.0243\n",
      "Saved model checkpoint at epoch: 46\n",
      "Epoch 47: Training Loss 0.0180, Test Loss 0.0220\n",
      "Saved model checkpoint at epoch: 47\n",
      "Epoch 48: Training Loss 0.0168, Test Loss 0.0208\n",
      "Saved model checkpoint at epoch: 48\n",
      "Epoch 49: Training Loss 0.0153, Test Loss 0.0181\n",
      "Saved model checkpoint at epoch: 49\n",
      "Epoch 50: Training Loss 0.0146, Test Loss 0.0188\n",
      "Saved model checkpoint at epoch: 50\n",
      "Epoch 51: Training Loss 0.0132, Test Loss 0.0214\n",
      "Saved model checkpoint at epoch: 51\n",
      "Epoch 52: Training Loss 0.0140, Test Loss 0.0217\n",
      "Saved model checkpoint at epoch: 52\n",
      "Epoch 53: Training Loss 0.0151, Test Loss 0.0194\n",
      "Saved model checkpoint at epoch: 53\n",
      "Epoch 54: Training Loss 0.0124, Test Loss 0.0162\n",
      "Saved model checkpoint at epoch: 54\n",
      "Epoch 55: Training Loss 0.0115, Test Loss 0.0192\n",
      "Saved model checkpoint at epoch: 55\n",
      "Epoch 56: Training Loss 0.0102, Test Loss 0.0227\n",
      "Saved model checkpoint at epoch: 56\n",
      "Epoch 57: Training Loss 0.0109, Test Loss 0.0152\n",
      "Saved model checkpoint at epoch: 57\n",
      "Epoch 58: Training Loss 0.0095, Test Loss 0.0193\n",
      "Saved model checkpoint at epoch: 58\n",
      "Epoch 59: Training Loss 0.0102, Test Loss 0.0234\n",
      "Saved model checkpoint at epoch: 59\n",
      "Epoch 60: Training Loss 0.0094, Test Loss 0.0203\n",
      "Saved model checkpoint at epoch: 60\n",
      "Epoch 61: Training Loss 0.0106, Test Loss 0.0224\n",
      "Saved model checkpoint at epoch: 61\n",
      "Epoch 62: Training Loss 0.0110, Test Loss 0.0195\n",
      "Saved model checkpoint at epoch: 62\n",
      "Epoch 63: Training Loss 0.0118, Test Loss 0.0195\n",
      "Saved model checkpoint at epoch: 63\n",
      "Epoch 64: Training Loss 0.0077, Test Loss 0.0177\n",
      "Saved model checkpoint at epoch: 64\n",
      "Epoch 65: Training Loss 0.0074, Test Loss 0.0145\n",
      "Saved model checkpoint at epoch: 65\n",
      "Epoch 66: Training Loss 0.0086, Test Loss 0.0152\n",
      "Saved model checkpoint at epoch: 66\n",
      "Epoch 67: Training Loss 0.0080, Test Loss 0.0155\n",
      "Saved model checkpoint at epoch: 67\n",
      "Epoch 68: Training Loss 0.0061, Test Loss 0.0187\n",
      "Saved model checkpoint at epoch: 68\n",
      "Epoch 69: Training Loss 0.0061, Test Loss 0.0196\n",
      "Saved model checkpoint at epoch: 69\n",
      "Epoch 70: Training Loss 0.0049, Test Loss 0.0230\n",
      "Saved model checkpoint at epoch: 70\n",
      "Epoch 71: Training Loss 0.0058, Test Loss 0.0290\n",
      "Saved model checkpoint at epoch: 71\n",
      "Epoch 72: Training Loss 0.0093, Test Loss 0.0224\n",
      "Saved model checkpoint at epoch: 72\n",
      "Epoch 73: Training Loss 0.0072, Test Loss 0.0182\n",
      "Saved model checkpoint at epoch: 73\n",
      "Epoch 74: Training Loss 0.0054, Test Loss 0.0158\n",
      "Saved model checkpoint at epoch: 74\n",
      "Epoch 75: Training Loss 0.0045, Test Loss 0.0177\n",
      "Saved model checkpoint at epoch: 75\n",
      "Epoch 76: Training Loss 0.0086, Test Loss 0.0163\n",
      "Saved model checkpoint at epoch: 76\n",
      "Epoch 77: Training Loss 0.0061, Test Loss 0.0179\n",
      "Saved model checkpoint at epoch: 77\n",
      "Epoch 78: Training Loss 0.0061, Test Loss 0.0173\n",
      "Saved model checkpoint at epoch: 78\n",
      "Epoch 79: Training Loss 0.0057, Test Loss 0.0163\n",
      "Saved model checkpoint at epoch: 79\n",
      "Epoch 80: Training Loss 0.0048, Test Loss 0.0209\n",
      "Saved model checkpoint at epoch: 80\n",
      "Epoch 81: Training Loss 0.0060, Test Loss 0.0171\n",
      "Saved model checkpoint at epoch: 81\n",
      "Epoch 82: Training Loss 0.0057, Test Loss 0.0185\n",
      "Saved model checkpoint at epoch: 82\n",
      "Epoch 83: Training Loss 0.0050, Test Loss 0.0158\n",
      "Saved model checkpoint at epoch: 83\n",
      "Epoch 84: Training Loss 0.0038, Test Loss 0.0184\n",
      "Saved model checkpoint at epoch: 84\n",
      "Epoch 85: Training Loss 0.0046, Test Loss 0.0165\n",
      "Saved model checkpoint at epoch: 85\n",
      "Epoch 86: Training Loss 0.0057, Test Loss 0.0183\n",
      "Saved model checkpoint at epoch: 86\n",
      "Epoch 87: Training Loss 0.0042, Test Loss 0.0208\n",
      "Saved model checkpoint at epoch: 87\n",
      "Epoch 88: Training Loss 0.0041, Test Loss 0.0199\n",
      "Saved model checkpoint at epoch: 88\n",
      "Epoch 89: Training Loss 0.0042, Test Loss 0.0178\n",
      "Saved model checkpoint at epoch: 89\n",
      "Epoch 90: Training Loss 0.0040, Test Loss 0.0207\n",
      "Saved model checkpoint at epoch: 90\n",
      "Epoch 91: Training Loss 0.0054, Test Loss 0.0163\n",
      "Saved model checkpoint at epoch: 91\n",
      "Epoch 92: Training Loss 0.0052, Test Loss 0.0220\n",
      "Saved model checkpoint at epoch: 92\n",
      "Epoch 93: Training Loss 0.0053, Test Loss 0.0158\n",
      "Saved model checkpoint at epoch: 93\n",
      "Epoch 94: Training Loss 0.0040, Test Loss 0.0150\n",
      "Saved model checkpoint at epoch: 94\n",
      "Epoch 95: Training Loss 0.0024, Test Loss 0.0232\n",
      "Saved model checkpoint at epoch: 95\n",
      "Epoch 96: Training Loss 0.0026, Test Loss 0.0198\n",
      "Saved model checkpoint at epoch: 96\n",
      "Epoch 97: Training Loss 0.0024, Test Loss 0.0191\n",
      "Saved model checkpoint at epoch: 97\n",
      "Epoch 98: Training Loss 0.0054, Test Loss 0.0261\n",
      "Saved model checkpoint at epoch: 98\n",
      "Epoch 99: Training Loss 0.0053, Test Loss 0.0185\n",
      "Saved model checkpoint at epoch: 99\n",
      "Training completed!\n"
     ]
    }
   ],
   "source": [
    "# Initialize lists to store the average losses per epoch\n",
    "train_losses = []\n",
    "val_losses = []\n",
    "\n",
    "print(\"Starting training...\")\n",
    "for epoch in range(epochs):\n",
    "    # Training phase\n",
    "    encoder.train()  # Set the encoder to training mode\n",
    "    decoder.train()  # Set the decoder to training mode\n",
    "    total_train_loss = 0\n",
    "    num_batches = 0\n",
    "\n",
    "    for images, captions, lengths in train_loader:\n",
    "        images = images.to(device)\n",
    "        captions = captions.to(device)\n",
    "        targets = torch.nn.utils.rnn.pack_padded_sequence(captions, lengths, batch_first=True)[0]\n",
    "\n",
    "        # Zero the gradients\n",
    "        encoder.zero_grad()\n",
    "        decoder.zero_grad()\n",
    "\n",
    "        # Forward pass\n",
    "        features = encoder(images)\n",
    "        output = decoder(features, captions, lengths)\n",
    "\n",
    "        # Calculate loss\n",
    "        loss = criterion(output, targets)\n",
    "        total_train_loss += loss.item()\n",
    "        loss.backward()\n",
    "        optimizer.step()\n",
    "        num_batches += 1\n",
    "\n",
    "    avg_train_loss = total_train_loss / num_batches\n",
    "    train_losses.append(avg_train_loss)  # Append the average training loss\n",
    "\n",
    "    # val phase\n",
    "    encoder.eval()  # Set the encoder to evaluation mode\n",
    "    decoder.eval()  # Set the decoder to evaluation mode\n",
    "    total_val_loss = 0\n",
    "    num_val_batches = 0\n",
    "\n",
    "    with torch.no_grad():  # No need to track gradients during val\n",
    "        for images, captions, lengths in val_loader:\n",
    "            images = images.to(device)\n",
    "            captions = captions.to(device)\n",
    "            targets = torch.nn.utils.rnn.pack_padded_sequence(captions, lengths, batch_first=True)[0]\n",
    "\n",
    "            # Forward pass\n",
    "            features = encoder(images)\n",
    "            output = decoder(features, captions, lengths)\n",
    "\n",
    "            # Calculate loss\n",
    "            loss = criterion(output, targets)\n",
    "            total_val_loss += loss.item()\n",
    "            num_val_batches += 1\n",
    "\n",
    "    avg_val_loss = total_val_loss / num_val_batches\n",
    "    val_losses.append(avg_val_loss)  # Append the average val loss\n",
    "\n",
    "    # Print integrated loss statistics in one line\n",
    "    print(f'Epoch {epoch}: Training Loss {avg_train_loss:.4f}, val Loss {avg_val_loss:.4f}')\n",
    "\n",
    "    #Save model checkpoint\n",
    "    if epoch != 0 and epoch % save_after_epochs == 0:\n",
    "        save_model(models_dir, encoder, decoder, optimizer, epoch, avg_val_loss, batch_size, vocab)\n",
    "        print(\"Saved model checkpoint at epoch:\", epoch)\n",
    "\n",
    "print(\"Training completed!\")"
   ]
  },
  {
   "cell_type": "markdown",
   "metadata": {},
   "source": [
    "## Plot the training and val losses"
   ]
  },
  {
   "cell_type": "code",
   "execution_count": 9,
   "metadata": {},
   "outputs": [
    {
     "data": {
      "image/png": "[encoded data removed]",
      "text/plain": [
       "<Figure size 1000x500 with 1 Axes>"
      ]
     },
     "metadata": {},
     "output_type": "display_data"
    }
   ],
   "source": [
    "plt.figure(figsize=(10, 5))\n",
    "plt.plot(train_losses, label='Training Loss')\n",
    "plt.plot(val_losses, label='val Loss')\n",
    "plt.title('Training and val Losses Across Epochs')\n",
    "plt.xlabel('Epochs')\n",
    "plt.ylabel('Loss')\n",
    "plt.legend()\n",
    "plt.grid(True)\n",
    "plt.show()"
   ]
  }
 ],
 "metadata": {
  "kernelspec": {
   "display_name": "base",
   "language": "python",
   "name": "python3"
  },
  "language_info": {
   "codemirror_mode": {
    "name": "ipython",
    "version": 3
   },
   "file_extension": ".py",
   "mimetype": "text/x-python",
   "name": "python",
   "nbconvert_exporter": "python",
   "pygments_lexer": "ipython3",
   "version": "3.11.7"
  }
 },
 "nbformat": 4,
 "nbformat_minor": 2
}
