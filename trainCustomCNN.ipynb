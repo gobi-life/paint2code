{
 "cells": [
  {
   "cell_type": "markdown",
   "metadata": {},
   "source": [
    "# Train model with CustomCNN"
   ]
  },
  {
   "cell_type": "code",
   "execution_count": 1,
   "metadata": {},
   "outputs": [],
   "source": [
    "import torch\n",
    "from torch.utils.data import DataLoader\n",
    "from pathlib import Path\n",
    "import matplotlib.pyplot as plt\n",
    "\n",
    "from vocab import Vocab\n",
    "from dataset import Paint2CodeDataset\n",
    "from utils import collate_fn, save_model, img_transformation\n",
    "from modelArchitecture.modelCustomCNN import Encoder, Decoder"
   ]
  },
  {
   "cell_type": "markdown",
   "metadata": {},
   "source": [
    "## Set parameters"
   ]
  },
  {
   "cell_type": "code",
   "execution_count": 2,
   "metadata": {},
   "outputs": [],
   "source": [
    "data_path = Path(\"data\", \"all_data\")\n",
    "vocab_file_path = Path(data_path.parent, \"vocab.txt\")\n",
    "use_cuda = True  \n",
    "img_size = 224\n",
    "save_after_epochs = 1\n",
    "models_dir = Path(\"./modelsCustomCNN/models\")\n",
    "batch_size = 4\n",
    "epochs = 100\n",
    "lr = 0.001\n",
    "seed = 42\n",
    "\n",
    "# Seed setup for reproducibility\n",
    "torch.manual_seed(seed)\n",
    "torch.cuda.manual_seed(seed)"
   ]
  },
  {
   "cell_type": "markdown",
   "metadata": {},
   "source": [
    "## Set vocabulary"
   ]
  },
  {
   "cell_type": "code",
   "execution_count": 3,
   "metadata": {},
   "outputs": [
    {
     "name": "stdout",
     "output_type": "stream",
     "text": [
      "{\n",
      "  \"START\": 0,\n",
      "  \"END\": 1,\n",
      "  \"PADDING\": 2,\n",
      "  \"UNKNOWN\": 3,\n",
      "  \",\": 4,\n",
      "  \"btn-body\": 5,\n",
      "  \"btn-header\": 6,\n",
      "  \"double\": 7,\n",
      "  \"header\": 8,\n",
      "  \"image\": 9,\n",
      "  \"quadruple\": 10,\n",
      "  \"row\": 11,\n",
      "  \"single\": 12,\n",
      "  \"small-title\": 13,\n",
      "  \"text\": 14,\n",
      "  \"{\": 15,\n",
      "  \"}\": 16\n",
      "}\n"
     ]
    }
   ],
   "source": [
    "vocab = Vocab(vocab_file_path)\n",
    "assert len(vocab) > 0, \"Vocabulary must be non-empty\"\n",
    "\n",
    "print(vocab)"
   ]
  },
  {
   "cell_type": "markdown",
   "metadata": {},
   "source": [
    "## Setup GPU for training"
   ]
  },
  {
   "cell_type": "code",
   "execution_count": 4,
   "metadata": {},
   "outputs": [
    {
     "name": "stdout",
     "output_type": "stream",
     "text": [
      "Using device: cuda\n"
     ]
    }
   ],
   "source": [
    "device = torch.device(\"cuda\" if torch.cuda.is_available() and use_cuda else \"cpu\")\n",
    "print(f\"Using device: {device}\")"
   ]
  },
  {
   "cell_type": "markdown",
   "metadata": {},
   "source": [
    "## Prepare data "
   ]
  },
  {
   "cell_type": "code",
   "execution_count": 5,
   "metadata": {},
   "outputs": [
    {
     "name": "stdout",
     "output_type": "stream",
     "text": [
      "Data loader for train created successfully.\n",
      "Data loader for val  created successfully.\n"
     ]
    }
   ],
   "source": [
    "transform_imgs = img_transformation(img_size)\n",
    "\n",
    "train_loader = DataLoader(\n",
    "    Paint2CodeDataset(data_path, \"train\", vocab, transform=transform_imgs),\n",
    "    batch_size=batch_size,\n",
    "    collate_fn=lambda data: collate_fn(data, vocab=vocab),\n",
    "    pin_memory=True if use_cuda else False,\n",
    "    drop_last=True\n",
    ")\n",
    "print(\"Data loader for train created successfully.\")\n",
    "\n",
    "val_loader = DataLoader(\n",
    "    Paint2CodeDataset(data_path,\"validation\", vocab, transform=transform_imgs),\n",
    "    batch_size=batch_size,\n",
    "    collate_fn=lambda data: collate_fn(data, vocab=vocab),\n",
    "    pin_memory=True if use_cuda else False,\n",
    "    drop_last=True\n",
    ")\n",
    "print(\"Data loader for val  created successfully.\")"
   ]
  },
  {
   "cell_type": "markdown",
   "metadata": {},
   "source": [
    "## Set model parameters"
   ]
  },
  {
   "cell_type": "code",
   "execution_count": 6,
   "metadata": {},
   "outputs": [
    {
     "name": "stdout",
     "output_type": "stream",
     "text": [
      "Models are initialized and moved to the designated device.\n"
     ]
    }
   ],
   "source": [
    "embed_size = 64\n",
    "hidden_size = 256\n",
    "num_layers = 2\n",
    "\n",
    "# Initialize the Encoder and Decoder\n",
    "encoder = Encoder(embed_size).to(device)\n",
    "decoder = Decoder(embed_size, hidden_size, len(vocab), num_layers).to(device)\n",
    "\n",
    "print(\"Models are initialized and moved to the designated device.\")"
   ]
  },
  {
   "cell_type": "markdown",
   "metadata": {},
   "source": [
    "## Define loss function and optimizer"
   ]
  },
  {
   "cell_type": "code",
   "execution_count": 7,
   "metadata": {},
   "outputs": [
    {
     "name": "stdout",
     "output_type": "stream",
     "text": [
      "Loss function and optimizer are set.\n"
     ]
    }
   ],
   "source": [
    "criterion = torch.nn.CrossEntropyLoss()\n",
    "params = list(decoder.parameters()) + list(encoder.parameters())\n",
    "optimizer = torch.optim.Adam(params, lr=lr)\n",
    "\n",
    "print(\"Loss function and optimizer are set.\")"
   ]
  },
  {
   "cell_type": "markdown",
   "metadata": {},
   "source": [
    "# Train loop"
   ]
  },
  {
   "cell_type": "code",
   "execution_count": 8,
   "metadata": {},
   "outputs": [
    {
     "name": "stdout",
     "output_type": "stream",
     "text": [
      "Starting training...\n",
      "Epoch 0: Training Loss 0.3669, val Loss 0.1206\n",
      "Epoch 1: Training Loss 0.1142, val Loss 0.1197\n",
      "Saved model checkpoint at epoch: 1\n",
      "Epoch 2: Training Loss 0.1018, val Loss 0.0989\n",
      "Saved model checkpoint at epoch: 2\n",
      "Epoch 3: Training Loss 0.0930, val Loss 0.0834\n",
      "Saved model checkpoint at epoch: 3\n",
      "Epoch 4: Training Loss 0.0871, val Loss 0.0760\n",
      "Saved model checkpoint at epoch: 4\n",
      "Epoch 5: Training Loss 0.0854, val Loss 0.0651\n",
      "Saved model checkpoint at epoch: 5\n",
      "Epoch 6: Training Loss 0.0757, val Loss 0.0608\n",
      "Saved model checkpoint at epoch: 6\n",
      "Epoch 7: Training Loss 0.0721, val Loss 0.0554\n",
      "Saved model checkpoint at epoch: 7\n",
      "Epoch 8: Training Loss 0.0709, val Loss 0.0548\n",
      "Saved model checkpoint at epoch: 8\n",
      "Epoch 9: Training Loss 0.0660, val Loss 0.0520\n",
      "Saved model checkpoint at epoch: 9\n",
      "Epoch 10: Training Loss 0.0641, val Loss 0.0492\n",
      "Saved model checkpoint at epoch: 10\n",
      "Epoch 11: Training Loss 0.0628, val Loss 0.0466\n",
      "Saved model checkpoint at epoch: 11\n",
      "Epoch 12: Training Loss 0.0590, val Loss 0.0452\n",
      "Saved model checkpoint at epoch: 12\n",
      "Epoch 13: Training Loss 0.0574, val Loss 0.0436\n",
      "Saved model checkpoint at epoch: 13\n",
      "Epoch 14: Training Loss 0.0553, val Loss 0.0431\n",
      "Saved model checkpoint at epoch: 14\n",
      "Epoch 15: Training Loss 0.0551, val Loss 0.0427\n",
      "Saved model checkpoint at epoch: 15\n",
      "Epoch 16: Training Loss 0.0520, val Loss 0.0418\n",
      "Saved model checkpoint at epoch: 16\n",
      "Epoch 17: Training Loss 0.0504, val Loss 0.0390\n",
      "Saved model checkpoint at epoch: 17\n",
      "Epoch 18: Training Loss 0.0479, val Loss 0.0391\n",
      "Saved model checkpoint at epoch: 18\n",
      "Epoch 19: Training Loss 0.0462, val Loss 0.0341\n",
      "Saved model checkpoint at epoch: 19\n",
      "Epoch 20: Training Loss 0.0452, val Loss 0.0310\n",
      "Saved model checkpoint at epoch: 20\n",
      "Epoch 21: Training Loss 0.0413, val Loss 0.0284\n",
      "Saved model checkpoint at epoch: 21\n",
      "Epoch 22: Training Loss 0.0383, val Loss 0.0278\n",
      "Saved model checkpoint at epoch: 22\n",
      "Epoch 23: Training Loss 0.0368, val Loss 0.0276\n",
      "Saved model checkpoint at epoch: 23\n",
      "Epoch 24: Training Loss 0.0339, val Loss 0.0271\n",
      "Saved model checkpoint at epoch: 24\n",
      "Epoch 25: Training Loss 0.0352, val Loss 0.0246\n",
      "Saved model checkpoint at epoch: 25\n",
      "Epoch 26: Training Loss 0.0347, val Loss 0.0254\n",
      "Saved model checkpoint at epoch: 26\n",
      "Epoch 27: Training Loss 0.0318, val Loss 0.0245\n",
      "Saved model checkpoint at epoch: 27\n",
      "Epoch 28: Training Loss 0.0306, val Loss 0.0239\n",
      "Saved model checkpoint at epoch: 28\n",
      "Epoch 29: Training Loss 0.0293, val Loss 0.0256\n",
      "Saved model checkpoint at epoch: 29\n",
      "Epoch 30: Training Loss 0.0300, val Loss 0.0238\n",
      "Saved model checkpoint at epoch: 30\n",
      "Epoch 31: Training Loss 0.0278, val Loss 0.0258\n",
      "Saved model checkpoint at epoch: 31\n",
      "Epoch 32: Training Loss 0.0275, val Loss 0.0228\n",
      "Saved model checkpoint at epoch: 32\n",
      "Epoch 33: Training Loss 0.0273, val Loss 0.0221\n",
      "Saved model checkpoint at epoch: 33\n",
      "Epoch 34: Training Loss 0.0271, val Loss 0.0214\n",
      "Saved model checkpoint at epoch: 34\n",
      "Epoch 35: Training Loss 0.0262, val Loss 0.0218\n",
      "Saved model checkpoint at epoch: 35\n",
      "Epoch 36: Training Loss 0.0237, val Loss 0.0217\n",
      "Saved model checkpoint at epoch: 36\n",
      "Epoch 37: Training Loss 0.0250, val Loss 0.0202\n",
      "Saved model checkpoint at epoch: 37\n",
      "Epoch 38: Training Loss 0.0227, val Loss 0.0191\n",
      "Saved model checkpoint at epoch: 38\n",
      "Epoch 39: Training Loss 0.0207, val Loss 0.0178\n",
      "Saved model checkpoint at epoch: 39\n",
      "Epoch 40: Training Loss 0.0200, val Loss 0.0199\n",
      "Saved model checkpoint at epoch: 40\n",
      "Epoch 41: Training Loss 0.0200, val Loss 0.0186\n",
      "Saved model checkpoint at epoch: 41\n",
      "Epoch 42: Training Loss 0.0196, val Loss 0.0172\n",
      "Saved model checkpoint at epoch: 42\n",
      "Epoch 43: Training Loss 0.0186, val Loss 0.0167\n",
      "Saved model checkpoint at epoch: 43\n",
      "Epoch 44: Training Loss 0.0179, val Loss 0.0194\n",
      "Saved model checkpoint at epoch: 44\n",
      "Epoch 45: Training Loss 0.0185, val Loss 0.0175\n",
      "Saved model checkpoint at epoch: 45\n",
      "Epoch 46: Training Loss 0.0160, val Loss 0.0171\n",
      "Saved model checkpoint at epoch: 46\n",
      "Epoch 47: Training Loss 0.0150, val Loss 0.0167\n",
      "Saved model checkpoint at epoch: 47\n",
      "Epoch 48: Training Loss 0.0156, val Loss 0.0165\n",
      "Saved model checkpoint at epoch: 48\n",
      "Epoch 49: Training Loss 0.0172, val Loss 0.0156\n",
      "Saved model checkpoint at epoch: 49\n",
      "Epoch 50: Training Loss 0.0126, val Loss 0.0169\n",
      "Saved model checkpoint at epoch: 50\n",
      "Epoch 51: Training Loss 0.0153, val Loss 0.0184\n",
      "Saved model checkpoint at epoch: 51\n",
      "Epoch 52: Training Loss 0.0146, val Loss 0.0165\n",
      "Saved model checkpoint at epoch: 52\n",
      "Epoch 53: Training Loss 0.0151, val Loss 0.0166\n",
      "Saved model checkpoint at epoch: 53\n",
      "Epoch 54: Training Loss 0.0138, val Loss 0.0161\n",
      "Saved model checkpoint at epoch: 54\n",
      "Epoch 55: Training Loss 0.0110, val Loss 0.0161\n",
      "Saved model checkpoint at epoch: 55\n",
      "Epoch 56: Training Loss 0.0120, val Loss 0.0184\n",
      "Saved model checkpoint at epoch: 56\n",
      "Epoch 57: Training Loss 0.0104, val Loss 0.0159\n",
      "Saved model checkpoint at epoch: 57\n",
      "Epoch 58: Training Loss 0.0098, val Loss 0.0158\n",
      "Saved model checkpoint at epoch: 58\n",
      "Epoch 59: Training Loss 0.0123, val Loss 0.0168\n",
      "Saved model checkpoint at epoch: 59\n",
      "Epoch 60: Training Loss 0.0104, val Loss 0.0154\n",
      "Saved model checkpoint at epoch: 60\n",
      "Epoch 61: Training Loss 0.0113, val Loss 0.0168\n",
      "Saved model checkpoint at epoch: 61\n",
      "Epoch 62: Training Loss 0.0083, val Loss 0.0156\n",
      "Saved model checkpoint at epoch: 62\n",
      "Epoch 63: Training Loss 0.0092, val Loss 0.0157\n",
      "Saved model checkpoint at epoch: 63\n",
      "Epoch 64: Training Loss 0.0096, val Loss 0.0165\n",
      "Saved model checkpoint at epoch: 64\n",
      "Epoch 65: Training Loss 0.0085, val Loss 0.0147\n",
      "Saved model checkpoint at epoch: 65\n",
      "Epoch 66: Training Loss 0.0065, val Loss 0.0129\n",
      "Saved model checkpoint at epoch: 66\n",
      "Epoch 67: Training Loss 0.0096, val Loss 0.0147\n",
      "Saved model checkpoint at epoch: 67\n",
      "Epoch 68: Training Loss 0.0096, val Loss 0.0139\n",
      "Saved model checkpoint at epoch: 68\n",
      "Epoch 69: Training Loss 0.0074, val Loss 0.0149\n",
      "Saved model checkpoint at epoch: 69\n",
      "Epoch 70: Training Loss 0.0089, val Loss 0.0144\n",
      "Saved model checkpoint at epoch: 70\n",
      "Epoch 71: Training Loss 0.0075, val Loss 0.0130\n",
      "Saved model checkpoint at epoch: 71\n",
      "Epoch 72: Training Loss 0.0058, val Loss 0.0152\n",
      "Saved model checkpoint at epoch: 72\n",
      "Epoch 73: Training Loss 0.0060, val Loss 0.0191\n",
      "Saved model checkpoint at epoch: 73\n",
      "Epoch 74: Training Loss 0.0071, val Loss 0.0208\n",
      "Saved model checkpoint at epoch: 74\n",
      "Epoch 75: Training Loss 0.0082, val Loss 0.0142\n",
      "Saved model checkpoint at epoch: 75\n",
      "Epoch 76: Training Loss 0.0061, val Loss 0.0148\n",
      "Saved model checkpoint at epoch: 76\n",
      "Epoch 77: Training Loss 0.0048, val Loss 0.0162\n",
      "Saved model checkpoint at epoch: 77\n",
      "Epoch 78: Training Loss 0.0063, val Loss 0.0183\n",
      "Saved model checkpoint at epoch: 78\n",
      "Epoch 79: Training Loss 0.0067, val Loss 0.0252\n",
      "Saved model checkpoint at epoch: 79\n",
      "Epoch 80: Training Loss 0.0070, val Loss 0.0142\n",
      "Saved model checkpoint at epoch: 80\n",
      "Epoch 81: Training Loss 0.0059, val Loss 0.0146\n",
      "Saved model checkpoint at epoch: 81\n",
      "Epoch 82: Training Loss 0.0040, val Loss 0.0145\n",
      "Saved model checkpoint at epoch: 82\n",
      "Epoch 83: Training Loss 0.0038, val Loss 0.0145\n",
      "Saved model checkpoint at epoch: 83\n",
      "Epoch 84: Training Loss 0.0044, val Loss 0.0169\n",
      "Saved model checkpoint at epoch: 84\n",
      "Epoch 85: Training Loss 0.0063, val Loss 0.0159\n",
      "Saved model checkpoint at epoch: 85\n",
      "Epoch 86: Training Loss 0.0080, val Loss 0.0164\n",
      "Saved model checkpoint at epoch: 86\n",
      "Epoch 87: Training Loss 0.0063, val Loss 0.0135\n",
      "Saved model checkpoint at epoch: 87\n",
      "Epoch 88: Training Loss 0.0066, val Loss 0.0135\n",
      "Saved model checkpoint at epoch: 88\n",
      "Epoch 89: Training Loss 0.0033, val Loss 0.0138\n",
      "Saved model checkpoint at epoch: 89\n",
      "Epoch 90: Training Loss 0.0032, val Loss 0.0188\n",
      "Saved model checkpoint at epoch: 90\n",
      "Epoch 91: Training Loss 0.0039, val Loss 0.0171\n",
      "Saved model checkpoint at epoch: 91\n",
      "Epoch 92: Training Loss 0.0047, val Loss 0.0132\n",
      "Saved model checkpoint at epoch: 92\n",
      "Epoch 93: Training Loss 0.0052, val Loss 0.0165\n",
      "Saved model checkpoint at epoch: 93\n",
      "Epoch 94: Training Loss 0.0041, val Loss 0.0151\n",
      "Saved model checkpoint at epoch: 94\n",
      "Epoch 95: Training Loss 0.0039, val Loss 0.0147\n",
      "Saved model checkpoint at epoch: 95\n",
      "Epoch 96: Training Loss 0.0033, val Loss 0.0182\n",
      "Saved model checkpoint at epoch: 96\n",
      "Epoch 97: Training Loss 0.0034, val Loss 0.0161\n",
      "Saved model checkpoint at epoch: 97\n",
      "Epoch 98: Training Loss 0.0037, val Loss 0.0154\n",
      "Saved model checkpoint at epoch: 98\n",
      "Epoch 99: Training Loss 0.0035, val Loss 0.0162\n",
      "Saved model checkpoint at epoch: 99\n",
      "Training completed!\n"
     ]
    }
   ],
   "source": [
    "# Initialize lists to store the average losses per epoch\n",
    "train_losses = []\n",
    "val_losses = []\n",
    "\n",
    "print(\"Starting training...\")\n",
    "for epoch in range(epochs):\n",
    "    # Training phase\n",
    "    encoder.train()  # Set the encoder to training mode\n",
    "    decoder.train()  # Set the decoder to training mode\n",
    "    total_train_loss = 0\n",
    "    num_batches = 0\n",
    "\n",
    "    for images, captions, lengths in train_loader:\n",
    "        images = images.to(device)\n",
    "        captions = captions.to(device)\n",
    "        targets = torch.nn.utils.rnn.pack_padded_sequence(captions, lengths, batch_first=True)[0]\n",
    "\n",
    "        # Zero the gradients\n",
    "        encoder.zero_grad()\n",
    "        decoder.zero_grad()\n",
    "\n",
    "        # Forward pass\n",
    "        features = encoder(images)\n",
    "        output = decoder(features, captions, lengths)\n",
    "\n",
    "        # Calculate loss\n",
    "        loss = criterion(output, targets)\n",
    "        total_train_loss += loss.item()\n",
    "        loss.backward()\n",
    "        optimizer.step()\n",
    "        num_batches += 1\n",
    "\n",
    "    avg_train_loss = total_train_loss / num_batches\n",
    "    train_losses.append(avg_train_loss)  # Append the average training loss\n",
    "\n",
    "    # val phase\n",
    "    encoder.eval()  # Set the encoder to evaluation mode\n",
    "    decoder.eval()  # Set the decoder to evaluation mode\n",
    "    total_val_loss = 0\n",
    "    num_val_batches = 0\n",
    "\n",
    "    with torch.no_grad():  # No need to track gradients during val\n",
    "        for images, captions, lengths in val_loader:\n",
    "            images = images.to(device)\n",
    "            captions = captions.to(device)\n",
    "            targets = torch.nn.utils.rnn.pack_padded_sequence(captions, lengths, batch_first=True)[0]\n",
    "\n",
    "            # Forward pass\n",
    "            features = encoder(images)\n",
    "            output = decoder(features, captions, lengths)\n",
    "\n",
    "            # Calculate loss\n",
    "            loss = criterion(output, targets)\n",
    "            total_val_loss += loss.item()\n",
    "            num_val_batches += 1\n",
    "\n",
    "    avg_val_loss = total_val_loss / num_val_batches\n",
    "    val_losses.append(avg_val_loss)  # Append the average val loss\n",
    "\n",
    "    # Print integrated loss statistics in one line\n",
    "    print(f'Epoch {epoch}: Training Loss {avg_train_loss:.4f}, val Loss {avg_val_loss:.4f}')\n",
    "\n",
    "    #Save model checkpoint\n",
    "    if epoch != 0 and epoch % save_after_epochs == 0:\n",
    "        save_model(models_dir, encoder, decoder, optimizer, epoch, avg_val_loss, batch_size, vocab)\n",
    "        print(\"Saved model checkpoint at epoch:\", epoch)\n",
    "\n",
    "print(\"Training completed!\")"
   ]
  },
  {
   "cell_type": "markdown",
   "metadata": {},
   "source": [
    "## Plot the training and val losses"
   ]
  },
  {
   "cell_type": "code",
   "execution_count": 9,
   "metadata": {},
   "outputs": [
    {
     "data": {
      "image/png": "[encoded data removed]",
      "text/plain": [
       "<Figure size 1000x500 with 1 Axes>"
      ]
     },
     "metadata": {},
     "output_type": "display_data"
    }
   ],
   "source": [
    "plt.figure(figsize=(10, 5))\n",
    "plt.plot(train_losses, label='Training Loss')\n",
    "plt.plot(val_losses, label='val Loss')\n",
    "plt.title('Training and val Losses Across Epochs')\n",
    "plt.xlabel('Epochs')\n",
    "plt.ylabel('Loss')\n",
    "plt.legend()\n",
    "plt.grid(True)\n",
    "plt.show()"
   ]
  }
 ],
 "metadata": {
  "kernelspec": {
   "display_name": "base",
   "language": "python",
   "name": "python3"
  },
  "language_info": {
   "codemirror_mode": {
    "name": "ipython",
    "version": 3
   },
   "file_extension": ".py",
   "mimetype": "text/x-python",
   "name": "python",
   "nbconvert_exporter": "python",
   "pygments_lexer": "ipython3",
   "version": "3.11.7"
  }
 },
 "nbformat": 4,
 "nbformat_minor": 2
}
