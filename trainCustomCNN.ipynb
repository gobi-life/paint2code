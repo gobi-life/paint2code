{
 "cells": [
  {
   "cell_type": "markdown",
   "metadata": {},
   "source": [
    "# Train model with CustomCNN"
   ]
  },
  {
   "cell_type": "code",
   "execution_count": 13,
   "metadata": {},
   "outputs": [],
   "source": [
    "import torch\n",
    "from torch.utils.data import DataLoader\n",
    "from pathlib import Path\n",
    "import matplotlib.pyplot as plt\n",
    "\n",
    "from vocab import Vocab\n",
    "from dataset import Paint2CodeDataset\n",
    "from utils import collate_fn, save_model, img_transformation\n",
    "from modelArchitecture.modelCustomCNN import Encoder, Decoder"
   ]
  },
  {
   "cell_type": "markdown",
   "metadata": {},
   "source": [
    "## Set parameters"
   ]
  },
  {
   "cell_type": "code",
   "execution_count": 14,
   "metadata": {},
   "outputs": [],
   "source": [
    "data_path = Path(\"data\", \"all_data\")\n",
    "vocab_file_path = Path(data_path.parent, \"vocab.txt\")\n",
    "use_cuda = True  \n",
    "img_size = 224\n",
    "save_after_epochs = 101\n",
    "models_dir = Path(\"./modelsCustomCNN/models\")\n",
    "batch_size = 4\n",
    "epochs = 100\n",
    "lr = 0.001\n",
    "seed = 42\n",
    "\n",
    "# Seed setup for reproducibility\n",
    "torch.manual_seed(seed)\n",
    "torch.cuda.manual_seed(seed)"
   ]
  },
  {
   "cell_type": "markdown",
   "metadata": {},
   "source": [
    "## Set vocabulary"
   ]
  },
  {
   "cell_type": "code",
   "execution_count": 15,
   "metadata": {},
   "outputs": [
    {
     "name": "stdout",
     "output_type": "stream",
     "text": [
      "{\n",
      "  \"START\": 0,\n",
      "  \"END\": 1,\n",
      "  \"PADDING\": 2,\n",
      "  \"UNKNOWN\": 3,\n",
      "  \",\": 4,\n",
      "  \"btn-body\": 5,\n",
      "  \"btn-header\": 6,\n",
      "  \"double\": 7,\n",
      "  \"header\": 8,\n",
      "  \"image\": 9,\n",
      "  \"quadruple\": 10,\n",
      "  \"row\": 11,\n",
      "  \"single\": 12,\n",
      "  \"small-title\": 13,\n",
      "  \"text\": 14,\n",
      "  \"{\": 15,\n",
      "  \"}\": 16\n",
      "}\n"
     ]
    }
   ],
   "source": [
    "vocab = Vocab(vocab_file_path)\n",
    "assert len(vocab) > 0, \"Vocabulary must be non-empty\"\n",
    "\n",
    "print(vocab)"
   ]
  },
  {
   "cell_type": "markdown",
   "metadata": {},
   "source": [
    "## Setup GPU for training"
   ]
  },
  {
   "cell_type": "code",
   "execution_count": 16,
   "metadata": {},
   "outputs": [
    {
     "name": "stdout",
     "output_type": "stream",
     "text": [
      "Using device: cuda\n"
     ]
    }
   ],
   "source": [
    "device = torch.device(\"cuda\" if torch.cuda.is_available() and use_cuda else \"cpu\")\n",
    "print(f\"Using device: {device}\")"
   ]
  },
  {
   "cell_type": "markdown",
   "metadata": {},
   "source": [
    "## Prepare data "
   ]
  },
  {
   "cell_type": "code",
   "execution_count": 17,
   "metadata": {},
   "outputs": [
    {
     "name": "stdout",
     "output_type": "stream",
     "text": [
      "Data loader for train created successfully.\n",
      "Data loader for val  created successfully.\n"
     ]
    }
   ],
   "source": [
    "transform_imgs = img_transformation(img_size)\n",
    "\n",
    "train_loader = DataLoader(\n",
    "    Paint2CodeDataset(data_path, \"train\", vocab, transform=transform_imgs),\n",
    "    batch_size=batch_size,\n",
    "    collate_fn=lambda data: collate_fn(data, vocab=vocab),\n",
    "    pin_memory=True if use_cuda else False,\n",
    "    drop_last=True\n",
    ")\n",
    "print(\"Data loader for train created successfully.\")\n",
    "\n",
    "val_loader = DataLoader(\n",
    "    Paint2CodeDataset(data_path,\"validation\", vocab, transform=transform_imgs),\n",
    "    batch_size=batch_size,\n",
    "    collate_fn=lambda data: collate_fn(data, vocab=vocab),\n",
    "    pin_memory=True if use_cuda else False,\n",
    "    drop_last=True\n",
    ")\n",
    "print(\"Data loader for val  created successfully.\")"
   ]
  },
  {
   "cell_type": "markdown",
   "metadata": {},
   "source": [
    "## Set model parameters"
   ]
  },
  {
   "cell_type": "code",
   "execution_count": 18,
   "metadata": {},
   "outputs": [
    {
     "name": "stdout",
     "output_type": "stream",
     "text": [
      "Models are initialized and moved to the designated device.\n"
     ]
    }
   ],
   "source": [
    "embed_size = 64\n",
    "hidden_size = 256\n",
    "num_layers = 2\n",
    "\n",
    "# Initialize the Encoder and Decoder\n",
    "encoder = Encoder(embed_size).to(device)\n",
    "decoder = Decoder(embed_size, hidden_size, len(vocab), num_layers).to(device)\n",
    "\n",
    "print(\"Models are initialized and moved to the designated device.\")"
   ]
  },
  {
   "cell_type": "markdown",
   "metadata": {},
   "source": [
    "## Define loss function and optimizer"
   ]
  },
  {
   "cell_type": "code",
   "execution_count": 19,
   "metadata": {},
   "outputs": [
    {
     "name": "stdout",
     "output_type": "stream",
     "text": [
      "Loss function and optimizer are set.\n"
     ]
    }
   ],
   "source": [
    "criterion = torch.nn.CrossEntropyLoss()\n",
    "params = list(decoder.parameters()) + list(encoder.parameters())\n",
    "optimizer = torch.optim.Adam(params, lr=lr)\n",
    "\n",
    "print(\"Loss function and optimizer are set.\")"
   ]
  },
  {
   "cell_type": "markdown",
   "metadata": {},
   "source": [
    "# Train loop"
   ]
  },
  {
   "cell_type": "code",
   "execution_count": 20,
   "metadata": {},
   "outputs": [
    {
     "name": "stdout",
     "output_type": "stream",
     "text": [
      "Starting training...\n",
      "Epoch 0: Training Loss 0.3736, val Loss 0.1239\n",
      "Epoch 1: Training Loss 0.1176, val Loss 0.1091\n",
      "Epoch 2: Training Loss 0.1027, val Loss 0.1014\n",
      "Epoch 3: Training Loss 0.0964, val Loss 0.1053\n",
      "Epoch 4: Training Loss 0.0929, val Loss 0.1117\n",
      "Epoch 5: Training Loss 0.0901, val Loss 0.0840\n",
      "Epoch 6: Training Loss 0.0865, val Loss 0.0774\n",
      "Epoch 7: Training Loss 0.0834, val Loss 0.0757\n",
      "Epoch 8: Training Loss 0.0789, val Loss 0.0729\n",
      "Epoch 9: Training Loss 0.0745, val Loss 0.0637\n",
      "Epoch 10: Training Loss 0.0669, val Loss 0.0585\n",
      "Epoch 11: Training Loss 0.0639, val Loss 0.0603\n",
      "Epoch 12: Training Loss 0.0617, val Loss 0.0462\n",
      "Epoch 13: Training Loss 0.0593, val Loss 0.0445\n",
      "Epoch 14: Training Loss 0.0586, val Loss 0.0478\n",
      "Epoch 15: Training Loss 0.0556, val Loss 0.0465\n",
      "Epoch 16: Training Loss 0.0551, val Loss 0.0480\n",
      "Epoch 17: Training Loss 0.0516, val Loss 0.0437\n",
      "Epoch 18: Training Loss 0.0518, val Loss 0.0407\n",
      "Epoch 19: Training Loss 0.0505, val Loss 0.0378\n",
      "Epoch 20: Training Loss 0.0485, val Loss 0.0386\n",
      "Epoch 21: Training Loss 0.0465, val Loss 0.0390\n",
      "Epoch 22: Training Loss 0.0450, val Loss 0.0367\n",
      "Epoch 23: Training Loss 0.0461, val Loss 0.0375\n",
      "Epoch 24: Training Loss 0.0428, val Loss 0.0387\n",
      "Epoch 25: Training Loss 0.0396, val Loss 0.0340\n",
      "Epoch 26: Training Loss 0.0377, val Loss 0.0350\n",
      "Epoch 27: Training Loss 0.0359, val Loss 0.0342\n",
      "Epoch 28: Training Loss 0.0349, val Loss 0.0537\n",
      "Epoch 29: Training Loss 0.0348, val Loss 0.0274\n",
      "Epoch 30: Training Loss 0.0321, val Loss 0.0276\n",
      "Epoch 31: Training Loss 0.0308, val Loss 0.0382\n",
      "Epoch 32: Training Loss 0.0286, val Loss 0.0265\n",
      "Epoch 33: Training Loss 0.0266, val Loss 0.0247\n",
      "Epoch 34: Training Loss 0.0275, val Loss 0.0262\n",
      "Epoch 35: Training Loss 0.0257, val Loss 0.0253\n",
      "Epoch 36: Training Loss 0.0259, val Loss 0.0256\n",
      "Epoch 37: Training Loss 0.0249, val Loss 0.0258\n",
      "Epoch 38: Training Loss 0.0221, val Loss 0.0244\n",
      "Epoch 39: Training Loss 0.0222, val Loss 0.0228\n",
      "Epoch 40: Training Loss 0.0217, val Loss 0.0206\n",
      "Epoch 41: Training Loss 0.0221, val Loss 0.0226\n",
      "Epoch 42: Training Loss 0.0185, val Loss 0.0231\n",
      "Epoch 43: Training Loss 0.0180, val Loss 0.0203\n",
      "Epoch 44: Training Loss 0.0170, val Loss 0.0217\n",
      "Epoch 45: Training Loss 0.0178, val Loss 0.0214\n",
      "Epoch 46: Training Loss 0.0155, val Loss 0.0224\n",
      "Epoch 47: Training Loss 0.0143, val Loss 0.0211\n",
      "Epoch 48: Training Loss 0.0167, val Loss 0.0238\n",
      "Epoch 49: Training Loss 0.0163, val Loss 0.0202\n",
      "Epoch 50: Training Loss 0.0135, val Loss 0.0189\n",
      "Epoch 51: Training Loss 0.0123, val Loss 0.0186\n",
      "Epoch 52: Training Loss 0.0123, val Loss 0.0196\n",
      "Epoch 53: Training Loss 0.0135, val Loss 0.0217\n",
      "Epoch 54: Training Loss 0.0114, val Loss 0.0212\n",
      "Epoch 55: Training Loss 0.0112, val Loss 0.0212\n",
      "Epoch 56: Training Loss 0.0088, val Loss 0.0216\n",
      "Epoch 57: Training Loss 0.0084, val Loss 0.0182\n",
      "Epoch 58: Training Loss 0.0084, val Loss 0.0196\n",
      "Epoch 59: Training Loss 0.0077, val Loss 0.0191\n",
      "Epoch 60: Training Loss 0.0098, val Loss 0.0181\n",
      "Epoch 61: Training Loss 0.0101, val Loss 0.0185\n",
      "Epoch 62: Training Loss 0.0084, val Loss 0.0160\n",
      "Epoch 63: Training Loss 0.0076, val Loss 0.0176\n",
      "Epoch 64: Training Loss 0.0076, val Loss 0.0212\n",
      "Epoch 65: Training Loss 0.0070, val Loss 0.0220\n",
      "Epoch 66: Training Loss 0.0071, val Loss 0.0221\n",
      "Epoch 67: Training Loss 0.0069, val Loss 0.0203\n",
      "Epoch 68: Training Loss 0.0056, val Loss 0.0233\n",
      "Epoch 69: Training Loss 0.0057, val Loss 0.0237\n",
      "Epoch 70: Training Loss 0.0070, val Loss 0.0200\n",
      "Epoch 71: Training Loss 0.0070, val Loss 0.0370\n",
      "Epoch 72: Training Loss 0.0078, val Loss 0.0193\n",
      "Epoch 73: Training Loss 0.0061, val Loss 0.0174\n",
      "Epoch 74: Training Loss 0.0054, val Loss 0.0202\n",
      "Epoch 75: Training Loss 0.0058, val Loss 0.0190\n",
      "Epoch 76: Training Loss 0.0064, val Loss 0.0187\n",
      "Epoch 77: Training Loss 0.0053, val Loss 0.0185\n",
      "Epoch 78: Training Loss 0.0047, val Loss 0.0171\n",
      "Epoch 79: Training Loss 0.0054, val Loss 0.0177\n",
      "Epoch 80: Training Loss 0.0050, val Loss 0.0222\n",
      "Epoch 81: Training Loss 0.0040, val Loss 0.0251\n",
      "Epoch 82: Training Loss 0.0054, val Loss 0.0217\n",
      "Epoch 83: Training Loss 0.0043, val Loss 0.0221\n",
      "Epoch 84: Training Loss 0.0048, val Loss 0.0193\n",
      "Epoch 85: Training Loss 0.0042, val Loss 0.0184\n",
      "Epoch 86: Training Loss 0.0053, val Loss 0.0155\n",
      "Epoch 87: Training Loss 0.0037, val Loss 0.0168\n",
      "Epoch 88: Training Loss 0.0035, val Loss 0.0194\n",
      "Epoch 89: Training Loss 0.0058, val Loss 0.0187\n",
      "Epoch 90: Training Loss 0.0047, val Loss 0.0194\n",
      "Epoch 91: Training Loss 0.0031, val Loss 0.0190\n",
      "Epoch 92: Training Loss 0.0029, val Loss 0.0188\n",
      "Epoch 93: Training Loss 0.0023, val Loss 0.0215\n",
      "Epoch 94: Training Loss 0.0034, val Loss 0.0213\n",
      "Epoch 95: Training Loss 0.0046, val Loss 0.0208\n",
      "Epoch 96: Training Loss 0.0036, val Loss 0.0215\n",
      "Epoch 97: Training Loss 0.0032, val Loss 0.0191\n",
      "Epoch 98: Training Loss 0.0024, val Loss 0.0192\n",
      "Epoch 99: Training Loss 0.0025, val Loss 0.0193\n",
      "Training completed!\n"
     ]
    }
   ],
   "source": [
    "# Initialize lists to store the average losses per epoch\n",
    "train_losses = []\n",
    "val_losses = []\n",
    "\n",
    "print(\"Starting training...\")\n",
    "for epoch in range(epochs):\n",
    "    # Training phase\n",
    "    encoder.train()  # Set the encoder to training mode\n",
    "    decoder.train()  # Set the decoder to training mode\n",
    "    total_train_loss = 0\n",
    "    num_batches = 0\n",
    "\n",
    "    for images, captions, lengths in train_loader:\n",
    "        images = images.to(device)\n",
    "        captions = captions.to(device)\n",
    "        targets = torch.nn.utils.rnn.pack_padded_sequence(captions, lengths, batch_first=True)[0]\n",
    "\n",
    "        # Zero the gradients\n",
    "        encoder.zero_grad()\n",
    "        decoder.zero_grad()\n",
    "\n",
    "        # Forward pass\n",
    "        features = encoder(images)\n",
    "        output = decoder(features, captions, lengths)\n",
    "\n",
    "        # Calculate loss\n",
    "        loss = criterion(output, targets)\n",
    "        total_train_loss += loss.item()\n",
    "        loss.backward()\n",
    "        optimizer.step()\n",
    "        num_batches += 1\n",
    "\n",
    "    avg_train_loss = total_train_loss / num_batches\n",
    "    train_losses.append(avg_train_loss)  # Append the average training loss\n",
    "\n",
    "    # val phase\n",
    "    encoder.eval()  # Set the encoder to evaluation mode\n",
    "    decoder.eval()  # Set the decoder to evaluation mode\n",
    "    total_val_loss = 0\n",
    "    num_val_batches = 0\n",
    "\n",
    "    with torch.no_grad():  # No need to track gradients during val\n",
    "        for images, captions, lengths in val_loader:\n",
    "            images = images.to(device)\n",
    "            captions = captions.to(device)\n",
    "            targets = torch.nn.utils.rnn.pack_padded_sequence(captions, lengths, batch_first=True)[0]\n",
    "\n",
    "            # Forward pass\n",
    "            features = encoder(images)\n",
    "            output = decoder(features, captions, lengths)\n",
    "\n",
    "            # Calculate loss\n",
    "            loss = criterion(output, targets)\n",
    "            total_val_loss += loss.item()\n",
    "            num_val_batches += 1\n",
    "\n",
    "    avg_val_loss = total_val_loss / num_val_batches\n",
    "    val_losses.append(avg_val_loss)  # Append the average val loss\n",
    "\n",
    "    # Print integrated loss statistics in one line\n",
    "    print(f'Epoch {epoch}: Training Loss {avg_train_loss:.4f}, val Loss {avg_val_loss:.4f}')\n",
    "\n",
    "    #Save model checkpoint\n",
    "    if epoch != 0 and epoch % save_after_epochs == 0:\n",
    "        save_model(models_dir, encoder, decoder, optimizer, epoch, avg_val_loss, batch_size, vocab)\n",
    "        print(\"Saved model checkpoint at epoch:\", epoch)\n",
    "\n",
    "print(\"Training completed!\")"
   ]
  },
  {
   "cell_type": "markdown",
   "metadata": {},
   "source": [
    "## Plot the training and val losses"
   ]
  },
  {
   "cell_type": "code",
   "execution_count": 21,
   "metadata": {},
   "outputs": [
    {
     "data": {
      "image/png": "[encoded data removed]",
      "text/plain": [
       "<Figure size 1000x500 with 1 Axes>"
      ]
     },
     "metadata": {},
     "output_type": "display_data"
    }
   ],
   "source": [
    "plt.figure(figsize=(10, 5))\n",
    "plt.plot(train_losses, label='Training Loss')\n",
    "plt.plot(val_losses, label='val Loss')\n",
    "plt.title('Training and val Losses Across Epochs')\n",
    "plt.xlabel('Epochs')\n",
    "plt.ylabel('Loss')\n",
    "plt.legend()\n",
    "plt.grid(True)\n",
    "plt.show()"
   ]
  }
 ],
 "metadata": {
  "kernelspec": {
   "display_name": "base",
   "language": "python",
   "name": "python3"
  },
  "language_info": {
   "codemirror_mode": {
    "name": "ipython",
    "version": 3
   },
   "file_extension": ".py",
   "mimetype": "text/x-python",
   "name": "python",
   "nbconvert_exporter": "python",
   "pygments_lexer": "ipython3",
   "version": "3.11.7"
  }
 },
 "nbformat": 4,
 "nbformat_minor": 2
}
